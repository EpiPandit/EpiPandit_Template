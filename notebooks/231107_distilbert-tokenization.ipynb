{
 "cells": [
  {
   "cell_type": "code",
   "execution_count": null,
   "id": "1f7137ca-d3fc-4374-84e6-72832d30ae8d",
   "metadata": {},
   "outputs": [],
   "source": [
    "import pandas as pd\n",
    "import numpy as np\n",
    "import seaborn as sns\n",
    "from transformers import AutoTokenizer\n",
    "from datasets import Dataset, load_dataset\n",
    "\n",
    "from pathlib import Path"
   ]
  },
  {
   "cell_type": "code",
   "execution_count": null,
   "id": "d6266d0c-8394-4857-8fa8-6755994d611c",
   "metadata": {},
   "outputs": [],
   "source": [
    "data_dir = Path(\"../data/interim/\")\n",
    "ckpt = \"distilbert-base-uncased\""
   ]
  },
  {
   "cell_type": "markdown",
   "id": "9389ddad-c3d2-4bc9-bad6-11d79053a7ed",
   "metadata": {},
   "source": [
    "## Tokenize text"
   ]
  },
  {
   "cell_type": "code",
   "execution_count": null,
   "id": "50cb7c36-b10d-482a-b8f0-bfeb048c98a1",
   "metadata": {},
   "outputs": [],
   "source": [
    "tokenizer = AutoTokenizer.from_pretrained(ckpt, use_fast=True)"
   ]
  },
  {
   "cell_type": "code",
   "execution_count": null,
   "id": "a570fb70-3365-44e4-b66d-ab3075ccd88b",
   "metadata": {},
   "outputs": [],
   "source": [
    "df = pd.read_csv(data_dir/\"wndp-api-ohe.csv\")\n",
    "df.columns = df.columns.str.lower().str.replace(\" \", \"_\")\n",
    "df.dropna(inplace=True)\n",
    "df.head()"
   ]
  },
  {
   "cell_type": "code",
   "execution_count": null,
   "id": "65114ed6-e506-436d-b2a7-ed92a05a4696",
   "metadata": {},
   "outputs": [],
   "source": [
    "df.shape"
   ]
  },
  {
   "cell_type": "code",
   "execution_count": null,
   "id": "4cb86d18-51e8-4c11-b7a3-7519e2b5616f",
   "metadata": {},
   "outputs": [],
   "source": [
    "sample = df.text[:5]\n",
    "sample[3]"
   ]
  },
  {
   "cell_type": "code",
   "execution_count": null,
   "id": "e61e2191-3864-4c11-acf5-b71de03b46e0",
   "metadata": {},
   "outputs": [],
   "source": [
    "tokenizer(sample[3])"
   ]
  },
  {
   "cell_type": "code",
   "execution_count": null,
   "id": "8142886a-5317-4f4b-8d34-568808e039f4",
   "metadata": {},
   "outputs": [],
   "source": [
    "tokens = tokenizer.tokenize(sample[3])\n",
    "tokens"
   ]
  },
  {
   "cell_type": "code",
   "execution_count": null,
   "id": "2a130763-4e17-4307-9a61-8f6215592058",
   "metadata": {},
   "outputs": [],
   "source": [
    "ids = tokenizer.convert_tokens_to_ids(tokens)\n",
    "ids"
   ]
  },
  {
   "cell_type": "code",
   "execution_count": null,
   "id": "4366aa24-957f-4b66-a76d-15ccdfcbf10b",
   "metadata": {},
   "outputs": [],
   "source": [
    "tokenizer.decode(ids)"
   ]
  },
  {
   "cell_type": "code",
   "execution_count": null,
   "id": "2e5a7cc1-a608-4662-8511-6d6d621e3e6b",
   "metadata": {},
   "outputs": [],
   "source": [
    "tokenizer.decode(tokenizer(sample[3])[\"input_ids\"])"
   ]
  },
  {
   "cell_type": "markdown",
   "id": "bc2e230a-ad45-444a-896e-7128d3a63cbc",
   "metadata": {},
   "source": [
    "## Build the dataset"
   ]
  },
  {
   "cell_type": "code",
   "execution_count": null,
   "id": "ab55878d-69fa-49bd-8fbd-6e50260f8804",
   "metadata": {},
   "outputs": [],
   "source": [
    "# Pick only the columns we need for the model\n",
    "df = df[list(set(df.columns).difference({\"patient_id\", \"terms\"}))]\n",
    "df.head()"
   ]
  },
  {
   "cell_type": "code",
   "execution_count": null,
   "id": "7ca69218-ca1e-4924-b3ec-915efbd9b184",
   "metadata": {},
   "outputs": [],
   "source": [
    "# Split dataset into train, val & test set\n",
    "_ds = (Dataset\n",
    "          .from_pandas(df)\n",
    "          .train_test_split(test_size=0.15, \n",
    "                            shuffle=True)\n",
    "     )\n",
    "ds = _ds[\"train\"].train_test_split(test_size=0.2)\n",
    "ds[\"val\"] = ds.pop(\"test\")\n",
    "ds[\"test\"] = _ds[\"test\"]"
   ]
  },
  {
   "cell_type": "code",
   "execution_count": null,
   "id": "c27178ea-bffa-4e44-b752-a8b322a745a1",
   "metadata": {},
   "outputs": [],
   "source": [
    "ds = ds.remove_columns(column_names=[\"__index_level_0__\"])"
   ]
  },
  {
   "cell_type": "code",
   "execution_count": null,
   "id": "8294d627-dcac-4ce0-a534-91ff715a3329",
   "metadata": {},
   "outputs": [],
   "source": [
    "labels = sorted(ds[\"train\"].column_names)\n",
    "labels.remove(\"text\")\n",
    "labels"
   ]
  },
  {
   "cell_type": "code",
   "execution_count": null,
   "id": "8ffd7b4b-08e5-4353-922c-113a571bd624",
   "metadata": {},
   "outputs": [],
   "source": [
    "# Add labels to the dataset as float (pytorch excepts float tensors)\n",
    "ds = ds.map(lambda row: {\"labels\": [float(row[l]) for l in labels]})"
   ]
  },
  {
   "cell_type": "code",
   "execution_count": null,
   "id": "d06406c6-10d9-484a-8e0f-968afeb06573",
   "metadata": {},
   "outputs": [],
   "source": [
    "ds[\"train\"][0]"
   ]
  },
  {
   "cell_type": "markdown",
   "id": "c184ae50-42a0-474d-9232-03ca2f310863",
   "metadata": {},
   "source": [
    "Let us look at how long is each of the text description"
   ]
  },
  {
   "cell_type": "code",
   "execution_count": null,
   "id": "49191f0e-b776-4116-805f-651336cbd14d",
   "metadata": {},
   "outputs": [],
   "source": [
    "text_stats = np.array([len(row.split()) if row else 0 for row in ds[\"train\"][\"text\"]])"
   ]
  },
  {
   "cell_type": "code",
   "execution_count": null,
   "id": "a3a8087c-7e4b-4969-b5ea-b06c92d1863b",
   "metadata": {},
   "outputs": [],
   "source": [
    "sns.histplot(text_stats, bins=20, kde=True)"
   ]
  },
  {
   "cell_type": "code",
   "execution_count": null,
   "id": "78e56a86-2705-4b20-ac42-ff5cea499cde",
   "metadata": {},
   "outputs": [],
   "source": [
    "(text_stats < 3).sum()/len(text_stats)"
   ]
  },
  {
   "cell_type": "code",
   "execution_count": null,
   "id": "2034a439-4bc0-4d5e-a852-6962c51cb4cb",
   "metadata": {},
   "outputs": [],
   "source": [
    "(text_stats > 128).sum()/len(text_stats)"
   ]
  },
  {
   "cell_type": "markdown",
   "id": "5009ed34-667d-43bc-92d9-3296fa3fa8fa",
   "metadata": {},
   "source": [
    "1% of the data have words more than 128 words"
   ]
  },
  {
   "cell_type": "code",
   "execution_count": null,
   "id": "a6696f54-59bf-4bf8-a271-69a1675483d2",
   "metadata": {
    "jupyter": {
     "outputs_hidden": true
    }
   },
   "outputs": [],
   "source": [
    "for row in ds[\"train\"][\"text\"]:\n",
    "    if len(row.split()) < 3:\n",
    "        print(row)"
   ]
  },
  {
   "cell_type": "code",
   "execution_count": null,
   "id": "c7e75700-5c3c-4df3-86b5-92d33de61b00",
   "metadata": {
    "jupyter": {
     "outputs_hidden": true
    }
   },
   "outputs": [],
   "source": [
    "for row in ds[\"train\"][\"text\"]:\n",
    "    if len(row.split()) > 200:\n",
    "        print(len(row.split()), row)\n",
    "        print(\"-\" * 20)"
   ]
  },
  {
   "cell_type": "code",
   "execution_count": null,
   "id": "7c92e00e-34aa-4426-9b6a-b3a0733780ec",
   "metadata": {},
   "outputs": [],
   "source": [
    "%%time\n",
    "def tok_fn(row):\n",
    "    return tokenizer(row[\"text\"], \n",
    "                     truncation=True, \n",
    "                     padding=\"max_length\", \n",
    "                     max_length=128)\n",
    "\n",
    "tok_ds = ds.map(tok_fn, batched=True, num_proc=16, remove_columns=labels + [\"text\"])"
   ]
  },
  {
   "cell_type": "code",
   "execution_count": null,
   "id": "087ed4ea-0ca5-465b-830c-c5ef06ede0cb",
   "metadata": {},
   "outputs": [],
   "source": [
    "tok_ds"
   ]
  },
  {
   "cell_type": "code",
   "execution_count": null,
   "id": "8caf963c-e288-434b-9b88-62455fb832c3",
   "metadata": {},
   "outputs": [],
   "source": [
    "tok_ds[\"train\"][0]"
   ]
  },
  {
   "cell_type": "code",
   "execution_count": null,
   "id": "48bf8930-15b6-45e2-9c4e-bb90ff5ab77c",
   "metadata": {},
   "outputs": [],
   "source": [
    "# Save the processed data in a parquet file\n",
    "for split,split_ds in tok_ds.items():\n",
    "    split_ds.to_parquet(f\"../data/processed/wndp-api-data-{split}.parquet\")"
   ]
  },
  {
   "cell_type": "code",
   "execution_count": null,
   "id": "2ba1da8c-d0a8-4877-aa04-fa34fe5893f6",
   "metadata": {},
   "outputs": [],
   "source": [
    "!ls ../data/processed/"
   ]
  },
  {
   "cell_type": "code",
   "execution_count": null,
   "id": "6d2e83d7-0a94-4a50-b082-1b39a2b58742",
   "metadata": {},
   "outputs": [],
   "source": [
    "%%time\n",
    "data_files = {\n",
    "    \"train\": \"../data/processed/wndp-api-data-train.parquet\",\n",
    "    \"val\": \"../data/processed/wndp-api-data-val.parquet\",\n",
    "    \"test\": \"../data/processed/wndp-api-data-test.parquet\",\n",
    "}\n",
    "\n",
    "ds = load_dataset(\"parquet\", data_files=data_files)"
   ]
  },
  {
   "cell_type": "code",
   "execution_count": null,
   "id": "728a4130-fd29-4488-9f1a-74384edabed6",
   "metadata": {},
   "outputs": [],
   "source": []
  }
 ],
 "metadata": {
  "kernelspec": {
   "display_name": "Python 3 (ipykernel)",
   "language": "python",
   "name": "python3"
  },
  "language_info": {
   "codemirror_mode": {
    "name": "ipython",
    "version": 3
   },
   "file_extension": ".py",
   "mimetype": "text/x-python",
   "name": "python",
   "nbconvert_exporter": "python",
   "pygments_lexer": "ipython3",
   "version": "3.11.6"
  }
 },
 "nbformat": 4,
 "nbformat_minor": 5
}
