{
 "cells": [
  {
   "cell_type": "code",
   "execution_count": 1,
   "id": "21635fe5-8db8-4be6-8eb5-a0be09273c4b",
   "metadata": {},
   "outputs": [],
   "source": [
    "from transformers import AutoTokenizer, AutoModelForSequenceClassification, PretrainedConfig\n",
    "\n",
    "import pandas as pd\n",
    "import torch\n",
    "import torch.nn.functional as F"
   ]
  },
  {
   "cell_type": "code",
   "execution_count": 2,
   "id": "db0c87b1-b306-4ba7-8db7-b693d4572615",
   "metadata": {},
   "outputs": [],
   "source": [
    "data = pd.read_csv(\"../data/raw/wndp_api.csv\")"
   ]
  },
  {
   "cell_type": "code",
   "execution_count": 3,
   "id": "6a3ca891-7495-4901-881e-7ee2d9a5f24e",
   "metadata": {},
   "outputs": [
    {
     "name": "stderr",
     "output_type": "stream",
     "text": [
      "You are using a model of type distilbert to instantiate a model of type . This is not supported for all configurations of models and can yield errors.\n"
     ]
    }
   ],
   "source": [
    "tokenizer = AutoTokenizer.from_pretrained(\"wndp-exp/checkpoint-1500/\")\n",
    "model = AutoModelForSequenceClassification.from_pretrained(\"wndp-exp/checkpoint-1500/\")\n",
    "config = PretrainedConfig.from_pretrained(\"wndp-exp/checkpoint-1500/\")"
   ]
  },
  {
   "cell_type": "code",
   "execution_count": 4,
   "id": "c7aec2de-eef6-4d18-8091-e55f9fdf5185",
   "metadata": {},
   "outputs": [],
   "source": [
    "sample = \"found on the ground by window - breathing hard, eyes not open, couldn't stand up, ants covering him, some spazmotic movements of leg, wing, seemed better today. emaciated fledgling with torticollis. Neurologic: torticollis Legs / Feet / Hocks: not using legs. poor prognosis given age, emaciation, and degree of debilitation\""
   ]
  },
  {
   "cell_type": "code",
   "execution_count": 5,
   "id": "ce76e7fd-b4e6-4c21-81c5-062ddde0fcc7",
   "metadata": {},
   "outputs": [
    {
     "name": "stdout",
     "output_type": "stream",
     "text": [
      "Using device: cpu\n",
      "\n"
     ]
    }
   ],
   "source": [
    "device = torch.device('cuda' if torch.cuda.is_available() else 'cpu')\n",
    "print('Using device:', device)\n",
    "print()"
   ]
  },
  {
   "cell_type": "code",
   "execution_count": 6,
   "id": "2cee1ee2-9d81-4508-8176-b5b59041a615",
   "metadata": {},
   "outputs": [],
   "source": [
    "device = torch.device(\"cpu\")\n",
    "model = model.to(device)"
   ]
  },
  {
   "cell_type": "code",
   "execution_count": 7,
   "id": "b2ccd306-6a0c-409e-ba82-edd0808e473a",
   "metadata": {},
   "outputs": [
    {
     "data": {
      "text/plain": [
       "\u001b[1;31mSignature:\u001b[0m     \n",
       "\u001b[0mtokenizer\u001b[0m\u001b[1;33m(\u001b[0m\u001b[1;33m\n",
       "\u001b[0m    \u001b[0mtext\u001b[0m\u001b[1;33m:\u001b[0m \u001b[0mUnion\u001b[0m\u001b[1;33m[\u001b[0m\u001b[0mstr\u001b[0m\u001b[1;33m,\u001b[0m \u001b[0mList\u001b[0m\u001b[1;33m[\u001b[0m\u001b[0mstr\u001b[0m\u001b[1;33m]\u001b[0m\u001b[1;33m,\u001b[0m \u001b[0mList\u001b[0m\u001b[1;33m[\u001b[0m\u001b[0mList\u001b[0m\u001b[1;33m[\u001b[0m\u001b[0mstr\u001b[0m\u001b[1;33m]\u001b[0m\u001b[1;33m]\u001b[0m\u001b[1;33m]\u001b[0m \u001b[1;33m=\u001b[0m \u001b[1;32mNone\u001b[0m\u001b[1;33m,\u001b[0m\u001b[1;33m\n",
       "\u001b[0m    \u001b[0mtext_pair\u001b[0m\u001b[1;33m:\u001b[0m \u001b[0mUnion\u001b[0m\u001b[1;33m[\u001b[0m\u001b[0mstr\u001b[0m\u001b[1;33m,\u001b[0m \u001b[0mList\u001b[0m\u001b[1;33m[\u001b[0m\u001b[0mstr\u001b[0m\u001b[1;33m]\u001b[0m\u001b[1;33m,\u001b[0m \u001b[0mList\u001b[0m\u001b[1;33m[\u001b[0m\u001b[0mList\u001b[0m\u001b[1;33m[\u001b[0m\u001b[0mstr\u001b[0m\u001b[1;33m]\u001b[0m\u001b[1;33m]\u001b[0m\u001b[1;33m,\u001b[0m \u001b[0mNoneType\u001b[0m\u001b[1;33m]\u001b[0m \u001b[1;33m=\u001b[0m \u001b[1;32mNone\u001b[0m\u001b[1;33m,\u001b[0m\u001b[1;33m\n",
       "\u001b[0m    \u001b[0mtext_target\u001b[0m\u001b[1;33m:\u001b[0m \u001b[0mUnion\u001b[0m\u001b[1;33m[\u001b[0m\u001b[0mstr\u001b[0m\u001b[1;33m,\u001b[0m \u001b[0mList\u001b[0m\u001b[1;33m[\u001b[0m\u001b[0mstr\u001b[0m\u001b[1;33m]\u001b[0m\u001b[1;33m,\u001b[0m \u001b[0mList\u001b[0m\u001b[1;33m[\u001b[0m\u001b[0mList\u001b[0m\u001b[1;33m[\u001b[0m\u001b[0mstr\u001b[0m\u001b[1;33m]\u001b[0m\u001b[1;33m]\u001b[0m\u001b[1;33m]\u001b[0m \u001b[1;33m=\u001b[0m \u001b[1;32mNone\u001b[0m\u001b[1;33m,\u001b[0m\u001b[1;33m\n",
       "\u001b[0m    \u001b[0mtext_pair_target\u001b[0m\u001b[1;33m:\u001b[0m \u001b[0mUnion\u001b[0m\u001b[1;33m[\u001b[0m\u001b[0mstr\u001b[0m\u001b[1;33m,\u001b[0m \u001b[0mList\u001b[0m\u001b[1;33m[\u001b[0m\u001b[0mstr\u001b[0m\u001b[1;33m]\u001b[0m\u001b[1;33m,\u001b[0m \u001b[0mList\u001b[0m\u001b[1;33m[\u001b[0m\u001b[0mList\u001b[0m\u001b[1;33m[\u001b[0m\u001b[0mstr\u001b[0m\u001b[1;33m]\u001b[0m\u001b[1;33m]\u001b[0m\u001b[1;33m,\u001b[0m \u001b[0mNoneType\u001b[0m\u001b[1;33m]\u001b[0m \u001b[1;33m=\u001b[0m \u001b[1;32mNone\u001b[0m\u001b[1;33m,\u001b[0m\u001b[1;33m\n",
       "\u001b[0m    \u001b[0madd_special_tokens\u001b[0m\u001b[1;33m:\u001b[0m \u001b[0mbool\u001b[0m \u001b[1;33m=\u001b[0m \u001b[1;32mTrue\u001b[0m\u001b[1;33m,\u001b[0m\u001b[1;33m\n",
       "\u001b[0m    \u001b[0mpadding\u001b[0m\u001b[1;33m:\u001b[0m \u001b[0mUnion\u001b[0m\u001b[1;33m[\u001b[0m\u001b[0mbool\u001b[0m\u001b[1;33m,\u001b[0m \u001b[0mstr\u001b[0m\u001b[1;33m,\u001b[0m \u001b[0mtransformers\u001b[0m\u001b[1;33m.\u001b[0m\u001b[0mutils\u001b[0m\u001b[1;33m.\u001b[0m\u001b[0mgeneric\u001b[0m\u001b[1;33m.\u001b[0m\u001b[0mPaddingStrategy\u001b[0m\u001b[1;33m]\u001b[0m \u001b[1;33m=\u001b[0m \u001b[1;32mFalse\u001b[0m\u001b[1;33m,\u001b[0m\u001b[1;33m\n",
       "\u001b[0m    \u001b[0mtruncation\u001b[0m\u001b[1;33m:\u001b[0m \u001b[0mUnion\u001b[0m\u001b[1;33m[\u001b[0m\u001b[0mbool\u001b[0m\u001b[1;33m,\u001b[0m \u001b[0mstr\u001b[0m\u001b[1;33m,\u001b[0m \u001b[0mtransformers\u001b[0m\u001b[1;33m.\u001b[0m\u001b[0mtokenization_utils_base\u001b[0m\u001b[1;33m.\u001b[0m\u001b[0mTruncationStrategy\u001b[0m\u001b[1;33m]\u001b[0m \u001b[1;33m=\u001b[0m \u001b[1;32mNone\u001b[0m\u001b[1;33m,\u001b[0m\u001b[1;33m\n",
       "\u001b[0m    \u001b[0mmax_length\u001b[0m\u001b[1;33m:\u001b[0m \u001b[0mOptional\u001b[0m\u001b[1;33m[\u001b[0m\u001b[0mint\u001b[0m\u001b[1;33m]\u001b[0m \u001b[1;33m=\u001b[0m \u001b[1;32mNone\u001b[0m\u001b[1;33m,\u001b[0m\u001b[1;33m\n",
       "\u001b[0m    \u001b[0mstride\u001b[0m\u001b[1;33m:\u001b[0m \u001b[0mint\u001b[0m \u001b[1;33m=\u001b[0m \u001b[1;36m0\u001b[0m\u001b[1;33m,\u001b[0m\u001b[1;33m\n",
       "\u001b[0m    \u001b[0mis_split_into_words\u001b[0m\u001b[1;33m:\u001b[0m \u001b[0mbool\u001b[0m \u001b[1;33m=\u001b[0m \u001b[1;32mFalse\u001b[0m\u001b[1;33m,\u001b[0m\u001b[1;33m\n",
       "\u001b[0m    \u001b[0mpad_to_multiple_of\u001b[0m\u001b[1;33m:\u001b[0m \u001b[0mOptional\u001b[0m\u001b[1;33m[\u001b[0m\u001b[0mint\u001b[0m\u001b[1;33m]\u001b[0m \u001b[1;33m=\u001b[0m \u001b[1;32mNone\u001b[0m\u001b[1;33m,\u001b[0m\u001b[1;33m\n",
       "\u001b[0m    \u001b[0mreturn_tensors\u001b[0m\u001b[1;33m:\u001b[0m \u001b[0mUnion\u001b[0m\u001b[1;33m[\u001b[0m\u001b[0mstr\u001b[0m\u001b[1;33m,\u001b[0m \u001b[0mtransformers\u001b[0m\u001b[1;33m.\u001b[0m\u001b[0mutils\u001b[0m\u001b[1;33m.\u001b[0m\u001b[0mgeneric\u001b[0m\u001b[1;33m.\u001b[0m\u001b[0mTensorType\u001b[0m\u001b[1;33m,\u001b[0m \u001b[0mNoneType\u001b[0m\u001b[1;33m]\u001b[0m \u001b[1;33m=\u001b[0m \u001b[1;32mNone\u001b[0m\u001b[1;33m,\u001b[0m\u001b[1;33m\n",
       "\u001b[0m    \u001b[0mreturn_token_type_ids\u001b[0m\u001b[1;33m:\u001b[0m \u001b[0mOptional\u001b[0m\u001b[1;33m[\u001b[0m\u001b[0mbool\u001b[0m\u001b[1;33m]\u001b[0m \u001b[1;33m=\u001b[0m \u001b[1;32mNone\u001b[0m\u001b[1;33m,\u001b[0m\u001b[1;33m\n",
       "\u001b[0m    \u001b[0mreturn_attention_mask\u001b[0m\u001b[1;33m:\u001b[0m \u001b[0mOptional\u001b[0m\u001b[1;33m[\u001b[0m\u001b[0mbool\u001b[0m\u001b[1;33m]\u001b[0m \u001b[1;33m=\u001b[0m \u001b[1;32mNone\u001b[0m\u001b[1;33m,\u001b[0m\u001b[1;33m\n",
       "\u001b[0m    \u001b[0mreturn_overflowing_tokens\u001b[0m\u001b[1;33m:\u001b[0m \u001b[0mbool\u001b[0m \u001b[1;33m=\u001b[0m \u001b[1;32mFalse\u001b[0m\u001b[1;33m,\u001b[0m\u001b[1;33m\n",
       "\u001b[0m    \u001b[0mreturn_special_tokens_mask\u001b[0m\u001b[1;33m:\u001b[0m \u001b[0mbool\u001b[0m \u001b[1;33m=\u001b[0m \u001b[1;32mFalse\u001b[0m\u001b[1;33m,\u001b[0m\u001b[1;33m\n",
       "\u001b[0m    \u001b[0mreturn_offsets_mapping\u001b[0m\u001b[1;33m:\u001b[0m \u001b[0mbool\u001b[0m \u001b[1;33m=\u001b[0m \u001b[1;32mFalse\u001b[0m\u001b[1;33m,\u001b[0m\u001b[1;33m\n",
       "\u001b[0m    \u001b[0mreturn_length\u001b[0m\u001b[1;33m:\u001b[0m \u001b[0mbool\u001b[0m \u001b[1;33m=\u001b[0m \u001b[1;32mFalse\u001b[0m\u001b[1;33m,\u001b[0m\u001b[1;33m\n",
       "\u001b[0m    \u001b[0mverbose\u001b[0m\u001b[1;33m:\u001b[0m \u001b[0mbool\u001b[0m \u001b[1;33m=\u001b[0m \u001b[1;32mTrue\u001b[0m\u001b[1;33m,\u001b[0m\u001b[1;33m\n",
       "\u001b[0m    \u001b[1;33m**\u001b[0m\u001b[0mkwargs\u001b[0m\u001b[1;33m,\u001b[0m\u001b[1;33m\n",
       "\u001b[0m\u001b[1;33m)\u001b[0m \u001b[1;33m->\u001b[0m \u001b[0mtransformers\u001b[0m\u001b[1;33m.\u001b[0m\u001b[0mtokenization_utils_base\u001b[0m\u001b[1;33m.\u001b[0m\u001b[0mBatchEncoding\u001b[0m\u001b[1;33m\u001b[0m\u001b[1;33m\u001b[0m\u001b[0m\n",
       "\u001b[1;31mType:\u001b[0m           DistilBertTokenizerFast\n",
       "\u001b[1;31mString form:\u001b[0m    DistilBertTokenizerFast(name_or_path='wndp-exp/checkpoint-1500/', vocab_size=30522, model_max_len <...> oken': '[PAD]', 'cls_token': '[CLS]', 'mask_token': '[MASK]'}, clean_up_tokenization_spaces=True)\n",
       "\u001b[1;31mLength:\u001b[0m         30522\n",
       "\u001b[1;31mFile:\u001b[0m           c:\\users\\prana\\appdata\\local\\anaconda3\\lib\\site-packages\\transformers\\models\\distilbert\\tokenization_distilbert_fast.py\n",
       "\u001b[1;31mDocstring:\u001b[0m     \n",
       "Construct a \"fast\" DistilBERT tokenizer (backed by HuggingFace's *tokenizers* library). Based on WordPiece.\n",
       "\n",
       "This tokenizer inherits from [`PreTrainedTokenizerFast`] which contains most of the main methods. Users should\n",
       "refer to this superclass for more information regarding those methods.\n",
       "\n",
       "Args:\n",
       "    vocab_file (`str`):\n",
       "        File containing the vocabulary.\n",
       "    do_lower_case (`bool`, *optional*, defaults to `True`):\n",
       "        Whether or not to lowercase the input when tokenizing.\n",
       "    unk_token (`str`, *optional*, defaults to `\"[UNK]\"`):\n",
       "        The unknown token. A token that is not in the vocabulary cannot be converted to an ID and is set to be this\n",
       "        token instead.\n",
       "    sep_token (`str`, *optional*, defaults to `\"[SEP]\"`):\n",
       "        The separator token, which is used when building a sequence from multiple sequences, e.g. two sequences for\n",
       "        sequence classification or for a text and a question for question answering. It is also used as the last\n",
       "        token of a sequence built with special tokens.\n",
       "    pad_token (`str`, *optional*, defaults to `\"[PAD]\"`):\n",
       "        The token used for padding, for example when batching sequences of different lengths.\n",
       "    cls_token (`str`, *optional*, defaults to `\"[CLS]\"`):\n",
       "        The classifier token which is used when doing sequence classification (classification of the whole sequence\n",
       "        instead of per-token classification). It is the first token of the sequence when built with special tokens.\n",
       "    mask_token (`str`, *optional*, defaults to `\"[MASK]\"`):\n",
       "        The token used for masking values. This is the token used when training this model with masked language\n",
       "        modeling. This is the token which the model will try to predict.\n",
       "    clean_text (`bool`, *optional*, defaults to `True`):\n",
       "        Whether or not to clean the text before tokenization by removing any control characters and replacing all\n",
       "        whitespaces by the classic one.\n",
       "    tokenize_chinese_chars (`bool`, *optional*, defaults to `True`):\n",
       "        Whether or not to tokenize Chinese characters. This should likely be deactivated for Japanese (see [this\n",
       "        issue](https://github.com/huggingface/transformers/issues/328)).\n",
       "    strip_accents (`bool`, *optional*):\n",
       "        Whether or not to strip all accents. If this option is not specified, then it will be determined by the\n",
       "        value for `lowercase` (as in the original BERT).\n",
       "    wordpieces_prefix (`str`, *optional*, defaults to `\"##\"`):\n",
       "        The prefix for subwords.\n",
       "\u001b[1;31mCall docstring:\u001b[0m\n",
       "Main method to tokenize and prepare for the model one or several sequence(s) or one or several pair(s) of\n",
       "sequences.\n",
       "\n",
       "Args:\n",
       "    text (`str`, `List[str]`, `List[List[str]]`, *optional*):\n",
       "        The sequence or batch of sequences to be encoded. Each sequence can be a string or a list of strings\n",
       "        (pretokenized string). If the sequences are provided as list of strings (pretokenized), you must set\n",
       "        `is_split_into_words=True` (to lift the ambiguity with a batch of sequences).\n",
       "    text_pair (`str`, `List[str]`, `List[List[str]]`, *optional*):\n",
       "        The sequence or batch of sequences to be encoded. Each sequence can be a string or a list of strings\n",
       "        (pretokenized string). If the sequences are provided as list of strings (pretokenized), you must set\n",
       "        `is_split_into_words=True` (to lift the ambiguity with a batch of sequences).\n",
       "    text_target (`str`, `List[str]`, `List[List[str]]`, *optional*):\n",
       "        The sequence or batch of sequences to be encoded as target texts. Each sequence can be a string or a\n",
       "        list of strings (pretokenized string). If the sequences are provided as list of strings (pretokenized),\n",
       "        you must set `is_split_into_words=True` (to lift the ambiguity with a batch of sequences).\n",
       "    text_pair_target (`str`, `List[str]`, `List[List[str]]`, *optional*):\n",
       "        The sequence or batch of sequences to be encoded as target texts. Each sequence can be a string or a\n",
       "        list of strings (pretokenized string). If the sequences are provided as list of strings (pretokenized),\n",
       "        you must set `is_split_into_words=True` (to lift the ambiguity with a batch of sequences).\n",
       "\n",
       "    add_special_tokens (`bool`, *optional*, defaults to `True`):\n",
       "        Whether or not to encode the sequences with the special tokens relative to their model.\n",
       "    padding (`bool`, `str` or [`~utils.PaddingStrategy`], *optional*, defaults to `False`):\n",
       "        Activates and controls padding. Accepts the following values:\n",
       "\n",
       "        - `True` or `'longest'`: Pad to the longest sequence in the batch (or no padding if only a single\n",
       "          sequence if provided).\n",
       "        - `'max_length'`: Pad to a maximum length specified with the argument `max_length` or to the maximum\n",
       "          acceptable input length for the model if that argument is not provided.\n",
       "        - `False` or `'do_not_pad'` (default): No padding (i.e., can output a batch with sequences of different\n",
       "          lengths).\n",
       "    truncation (`bool`, `str` or [`~tokenization_utils_base.TruncationStrategy`], *optional*, defaults to `False`):\n",
       "        Activates and controls truncation. Accepts the following values:\n",
       "\n",
       "        - `True` or `'longest_first'`: Truncate to a maximum length specified with the argument `max_length` or\n",
       "          to the maximum acceptable input length for the model if that argument is not provided. This will\n",
       "          truncate token by token, removing a token from the longest sequence in the pair if a pair of\n",
       "          sequences (or a batch of pairs) is provided.\n",
       "        - `'only_first'`: Truncate to a maximum length specified with the argument `max_length` or to the\n",
       "          maximum acceptable input length for the model if that argument is not provided. This will only\n",
       "          truncate the first sequence of a pair if a pair of sequences (or a batch of pairs) is provided.\n",
       "        - `'only_second'`: Truncate to a maximum length specified with the argument `max_length` or to the\n",
       "          maximum acceptable input length for the model if that argument is not provided. This will only\n",
       "          truncate the second sequence of a pair if a pair of sequences (or a batch of pairs) is provided.\n",
       "        - `False` or `'do_not_truncate'` (default): No truncation (i.e., can output batch with sequence lengths\n",
       "          greater than the model maximum admissible input size).\n",
       "    max_length (`int`, *optional*):\n",
       "        Controls the maximum length to use by one of the truncation/padding parameters.\n",
       "\n",
       "        If left unset or set to `None`, this will use the predefined model maximum length if a maximum length\n",
       "        is required by one of the truncation/padding parameters. If the model has no specific maximum input\n",
       "        length (like XLNet) truncation/padding to a maximum length will be deactivated.\n",
       "    stride (`int`, *optional*, defaults to 0):\n",
       "        If set to a number along with `max_length`, the overflowing tokens returned when\n",
       "        `return_overflowing_tokens=True` will contain some tokens from the end of the truncated sequence\n",
       "        returned to provide some overlap between truncated and overflowing sequences. The value of this\n",
       "        argument defines the number of overlapping tokens.\n",
       "    is_split_into_words (`bool`, *optional*, defaults to `False`):\n",
       "        Whether or not the input is already pre-tokenized (e.g., split into words). If set to `True`, the\n",
       "        tokenizer assumes the input is already split into words (for instance, by splitting it on whitespace)\n",
       "        which it will tokenize. This is useful for NER or token classification.\n",
       "    pad_to_multiple_of (`int`, *optional*):\n",
       "        If set will pad the sequence to a multiple of the provided value. Requires `padding` to be activated.\n",
       "        This is especially useful to enable the use of Tensor Cores on NVIDIA hardware with compute capability\n",
       "        `>= 7.5` (Volta).\n",
       "    return_tensors (`str` or [`~utils.TensorType`], *optional*):\n",
       "        If set, will return tensors instead of list of python integers. Acceptable values are:\n",
       "\n",
       "        - `'tf'`: Return TensorFlow `tf.constant` objects.\n",
       "        - `'pt'`: Return PyTorch `torch.Tensor` objects.\n",
       "        - `'np'`: Return Numpy `np.ndarray` objects.\n",
       "\n",
       "    return_token_type_ids (`bool`, *optional*):\n",
       "        Whether to return token type IDs. If left to the default, will return the token type IDs according to\n",
       "        the specific tokenizer's default, defined by the `return_outputs` attribute.\n",
       "\n",
       "        [What are token type IDs?](../glossary#token-type-ids)\n",
       "    return_attention_mask (`bool`, *optional*):\n",
       "        Whether to return the attention mask. If left to the default, will return the attention mask according\n",
       "        to the specific tokenizer's default, defined by the `return_outputs` attribute.\n",
       "\n",
       "        [What are attention masks?](../glossary#attention-mask)\n",
       "    return_overflowing_tokens (`bool`, *optional*, defaults to `False`):\n",
       "        Whether or not to return overflowing token sequences. If a pair of sequences of input ids (or a batch\n",
       "        of pairs) is provided with `truncation_strategy = longest_first` or `True`, an error is raised instead\n",
       "        of returning overflowing tokens.\n",
       "    return_special_tokens_mask (`bool`, *optional*, defaults to `False`):\n",
       "        Whether or not to return special tokens mask information.\n",
       "    return_offsets_mapping (`bool`, *optional*, defaults to `False`):\n",
       "        Whether or not to return `(char_start, char_end)` for each token.\n",
       "\n",
       "        This is only available on fast tokenizers inheriting from [`PreTrainedTokenizerFast`], if using\n",
       "        Python's tokenizer, this method will raise `NotImplementedError`.\n",
       "    return_length  (`bool`, *optional*, defaults to `False`):\n",
       "        Whether or not to return the lengths of the encoded inputs.\n",
       "    verbose (`bool`, *optional*, defaults to `True`):\n",
       "        Whether or not to print more information and warnings.\n",
       "    **kwargs: passed to the `self.tokenize()` method\n",
       "\n",
       "Return:\n",
       "    [`BatchEncoding`]: A [`BatchEncoding`] with the following fields:\n",
       "\n",
       "    - **input_ids** -- List of token ids to be fed to a model.\n",
       "\n",
       "      [What are input IDs?](../glossary#input-ids)\n",
       "\n",
       "    - **token_type_ids** -- List of token type ids to be fed to a model (when `return_token_type_ids=True` or\n",
       "      if *\"token_type_ids\"* is in `self.model_input_names`).\n",
       "\n",
       "      [What are token type IDs?](../glossary#token-type-ids)\n",
       "\n",
       "    - **attention_mask** -- List of indices specifying which tokens should be attended to by the model (when\n",
       "      `return_attention_mask=True` or if *\"attention_mask\"* is in `self.model_input_names`).\n",
       "\n",
       "      [What are attention masks?](../glossary#attention-mask)\n",
       "\n",
       "    - **overflowing_tokens** -- List of overflowing tokens sequences (when a `max_length` is specified and\n",
       "      `return_overflowing_tokens=True`).\n",
       "    - **num_truncated_tokens** -- Number of tokens truncated (when a `max_length` is specified and\n",
       "      `return_overflowing_tokens=True`).\n",
       "    - **special_tokens_mask** -- List of 0s and 1s, with 1 specifying added special tokens and 0 specifying\n",
       "      regular sequence tokens (when `add_special_tokens=True` and `return_special_tokens_mask=True`).\n",
       "    - **length** -- The length of the inputs (when `return_length=True`)"
      ]
     },
     "metadata": {},
     "output_type": "display_data"
    }
   ],
   "source": [
    "?tokenizer"
   ]
  },
  {
   "cell_type": "code",
   "execution_count": 54,
   "id": "3d859cae-eb88-4cd6-9e00-b180ec62d32a",
   "metadata": {},
   "outputs": [],
   "source": [
    "def _pre(text, device):\n",
    "    tokens = tokenizer(text, return_tensors=\"pt\")\n",
    "    tokens = {k: v.to(device) for k,v in tokens.items()}\n",
    "    return tokens\n",
    "\n",
    "def _inf(model, tokens):\n",
    "    out = model(**tokens)\n",
    "    return out\n",
    "\n",
    "def _post(out):\n",
    "    probs = F.sigmoid(out.logits.squeeze().detach().cpu())\n",
    "    preds = (probs > 0.5).int()\n",
    "    labels = [config.id2label[idx] for idx, label in enumerate(preds) if label == 1.0]\n",
    "    return labels\n",
    "\n",
    "def infer(model, text):\n",
    "    tokens = _pre(text, model.device)\n",
    "    if (len(tokens['input_ids'][0]) <= 512):\n",
    "        out = _inf(model, tokens)\n",
    "        pred = _post(out)\n",
    "        return pred\n",
    "    else:\n",
    "        return 'long or short text, working on the bug'"
   ]
  },
  {
   "cell_type": "code",
   "execution_count": 55,
   "id": "b0eb4dee-1575-4120-8b1c-d892d98a35b8",
   "metadata": {},
   "outputs": [
    {
     "data": {
      "text/plain": [
       "['neurologic_disease', 'nutritional_disease']"
      ]
     },
     "execution_count": 55,
     "metadata": {},
     "output_type": "execute_result"
    }
   ],
   "source": [
    "infer(model, sample)"
   ]
  },
  {
   "cell_type": "code",
   "execution_count": 33,
   "id": "2b2abe6f-11e5-4495-934b-8f19412eb1d3",
   "metadata": {},
   "outputs": [
    {
     "data": {
      "text/plain": [
       "patient_id                    534387\n",
       "text                             NaN\n",
       "terms         ['Clinically healthy']\n",
       "Name: 7335, dtype: object"
      ]
     },
     "execution_count": 33,
     "metadata": {},
     "output_type": "execute_result"
    }
   ],
   "source": [
    "data.iloc[7335]"
   ]
  },
  {
   "cell_type": "code",
   "execution_count": 26,
   "id": "6f874874-7414-4f07-ae8e-8242f8ccc355",
   "metadata": {},
   "outputs": [
    {
     "data": {
      "text/plain": [
       "(14044, 3)"
      ]
     },
     "execution_count": 26,
     "metadata": {},
     "output_type": "execute_result"
    }
   ],
   "source": [
    "data.shape"
   ]
  },
  {
   "cell_type": "code",
   "execution_count": 105,
   "id": "6013d773-3b1b-4c29-9728-f58f162ac931",
   "metadata": {},
   "outputs": [],
   "source": [
    "pred_df = data[~data.text.isna()]\n",
    "pred_df = pred_df[pred_df.text.str.len()>1]"
   ]
  },
  {
   "cell_type": "code",
   "execution_count": 57,
   "id": "4605f8a5-c713-41fc-96d0-5740c8bd64aa",
   "metadata": {},
   "outputs": [
    {
     "name": "stdout",
     "output_type": "stream",
     "text": [
      "100\n",
      "200\n",
      "300\n",
      "400\n",
      "500\n",
      "600\n",
      "700\n",
      "800\n",
      "900\n",
      "1000\n",
      "1100\n",
      "1200\n",
      "1300\n",
      "1400\n",
      "1500\n",
      "1600\n",
      "1700\n",
      "1800\n",
      "1900\n",
      "2000\n",
      "2100\n",
      "2200\n",
      "2300\n",
      "2400\n",
      "2500\n",
      "2600\n",
      "2700\n",
      "2800\n",
      "2900\n",
      "3000\n",
      "3100\n",
      "3200\n",
      "3300\n",
      "3400\n",
      "3500\n",
      "3600\n",
      "3700\n",
      "3800\n",
      "3900\n",
      "4000\n",
      "4100\n",
      "4200\n",
      "4300\n",
      "4400\n",
      "4500\n",
      "4600\n",
      "4700\n",
      "4800\n",
      "4900\n",
      "5000\n",
      "5100\n",
      "5200\n",
      "5300\n",
      "5400\n",
      "5500\n",
      "5600\n",
      "5700\n",
      "5800\n",
      "5900\n",
      "6000\n",
      "6100\n",
      "6200\n",
      "6300\n",
      "6400\n",
      "6500\n",
      "6600\n",
      "6700\n",
      "6800\n",
      "6900\n",
      "7000\n",
      "7100\n",
      "7200\n",
      "7300\n",
      "7400\n",
      "7500\n",
      "7600\n",
      "7700\n",
      "7800\n",
      "7900\n",
      "8000\n",
      "8100\n",
      "8200\n",
      "8300\n",
      "8400\n",
      "8500\n",
      "8600\n",
      "8700\n",
      "8800\n",
      "8900\n",
      "9000\n",
      "9100\n",
      "9200\n",
      "9300\n",
      "9400\n",
      "9500\n",
      "9600\n",
      "9700\n",
      "9800\n",
      "9900\n",
      "10000\n",
      "10100\n",
      "10200\n",
      "10300\n",
      "10400\n",
      "10500\n",
      "10600\n",
      "10700\n",
      "10800\n",
      "10900\n",
      "11000\n",
      "11100\n",
      "11200\n",
      "11300\n",
      "11400\n",
      "11500\n",
      "11600\n",
      "11700\n",
      "11800\n",
      "11900\n",
      "12000\n",
      "12100\n",
      "12200\n",
      "12300\n",
      "12400\n",
      "12500\n",
      "12600\n",
      "12700\n",
      "12800\n",
      "12900\n",
      "13000\n",
      "13100\n",
      "13200\n",
      "13300\n",
      "13400\n",
      "13500\n",
      "13600\n",
      "13700\n",
      "13800\n",
      "13900\n",
      "14000\n",
      "CPU times: total: 10h 17min 31s\n",
      "Wall time: 4h 14min 41s\n"
     ]
    }
   ],
   "source": [
    "%%time\n",
    "predictions = []\n",
    "for _,row in pred_df.iterrows():\n",
    "    #print(row[\"text\"])\n",
    "    #print(\"actuals: \", row[\"terms\"])\n",
    "    pred = infer(model, row[\"text\"])\n",
    "    #print(\"predicts: \", pred)\n",
    "    predictions.append(pred)\n",
    "    if len(predictions)%100 == 0:\n",
    "        print(len(predictions))\n",
    "    #print(len(predictions))\n",
    "    #print(\"=\"*20)"
   ]
  },
  {
   "cell_type": "code",
   "execution_count": 58,
   "id": "9197e79a-1442-4883-9c05-79f833f4d250",
   "metadata": {},
   "outputs": [
    {
     "data": {
      "text/plain": [
       "\"Inability to Fly (Finder found patient in gravelpits grounded in Driggs, ID. Called TRC around 11am and BC answered. Finder texted BC photo, and we confirmed it was a GHOW. BC was able to get ahold of Rob C. from IDFG and got verbal permission to transport patient over to WY. BC and SR met finder in Driggs and picked up patient. Finder said he found the patient neither near a road nor by any powerlines. He also said initially there was no blood, but when BC and SR got there there was fresh blood coming from patient's wound.). Fx - Metacarpals (L). Wings / Arms: Patient's L wrist was obviously not being used, and had a compound fracture. Bone was poking through, and bleeding was very fresh. Rads were taken, and there was 2 obvious breaks in the L phalange, if not more. Legs / Feet / Hocks: Small old scrape on R foot 3rd talon. Patient's L wrist was obviously not being used, and had a compound fracture. Bone was poking through, and bleeding was very fresh. 1:00P-Administered 0.1cc Torb IM on spot. Rads were taken, and there was 2 obvious breaks in the L phalange, if not more. Patient was extremely alert, aware, and very active. Very very healthy bird despite fresh break. Eyes, ears, mouth, nares, coracoids, spine, legs, feet, and vent all checked out clean. Small old scrape on R foot 3rd talon. 2:00P- Administered another 0.1cc Torb. BC cleaned wound, and attempted to realign breaks with wrap- new rads were taken, and although one of the bones was spot-on, second major break was not, although better than before. Consulted with Heather, who agreed to take a look. 3:30P- Patient given 7.5cc Baytril IM. 4:00p- Dr. Heather sedated patient, and realigned bones. New rads were taken- bones were beautifully aligned! Decided to put patient on a regime of Torb QID, Amp QID, Bay BID, and Meta SID. Also regularly check temperature of wrist, make sure hasn't gone cold. Re-xray at 72hrs and move forward from here. 4:30P- Administered 0.22cc Meta IM. 9:45P- Administered 1.3cc Amp IM and 12cc LRS SQ\""
      ]
     },
     "execution_count": 58,
     "metadata": {},
     "output_type": "execute_result"
    }
   ],
   "source": [
    "pred_df.iloc[358].text"
   ]
  },
  {
   "cell_type": "code",
   "execution_count": 59,
   "id": "c565ce95-986c-4e31-9b99-d7b9c60d2577",
   "metadata": {},
   "outputs": [],
   "source": [
    "#aa = data[data.text.str.len() == data.text.str.len().max()].text.values[0]"
   ]
  },
  {
   "cell_type": "code",
   "execution_count": 60,
   "id": "3ba99759-dfb8-484f-9c1a-3997814b47c1",
   "metadata": {},
   "outputs": [
    {
     "data": {
      "text/plain": [
       "'long or short text, working on the bug'"
      ]
     },
     "execution_count": 60,
     "metadata": {},
     "output_type": "execute_result"
    }
   ],
   "source": [
    "infer(model, pred_df.iloc[358].text)"
   ]
  },
  {
   "cell_type": "code",
   "execution_count": 106,
   "id": "437de484-12b3-40ef-a415-e5f1b0348259",
   "metadata": {},
   "outputs": [
    {
     "data": {
      "text/plain": [
       "14038"
      ]
     },
     "execution_count": 106,
     "metadata": {},
     "output_type": "execute_result"
    }
   ],
   "source": [
    "len(predictions)    "
   ]
  },
  {
   "cell_type": "code",
   "execution_count": 107,
   "id": "72e8577f-4c60-4e37-a6c0-3910eb401cd0",
   "metadata": {},
   "outputs": [],
   "source": [
    "#predictions"
   ]
  },
  {
   "cell_type": "code",
   "execution_count": 108,
   "id": "91227f4e-eb5e-4d31-a328-92d07bf3055d",
   "metadata": {},
   "outputs": [
    {
     "data": {
      "text/plain": [
       "(14038, 3)"
      ]
     },
     "execution_count": 108,
     "metadata": {},
     "output_type": "execute_result"
    }
   ],
   "source": [
    "pred_df.shape"
   ]
  },
  {
   "cell_type": "code",
   "execution_count": 109,
   "id": "7dbe30e8-b251-4d91-b7b8-596f850cd97b",
   "metadata": {},
   "outputs": [],
   "source": [
    "pred_df['predictions'] = predictions"
   ]
  },
  {
   "cell_type": "code",
   "execution_count": 110,
   "id": "4b35cdaf-2e9d-47a4-b961-98ddde6beb97",
   "metadata": {},
   "outputs": [],
   "source": [
    "pred_df.to_excel('../data/external/predictions.xlsx')"
   ]
  },
  {
   "cell_type": "code",
   "execution_count": 111,
   "id": "d0fb5c12-190e-4308-96d8-7c3189500ce8",
   "metadata": {},
   "outputs": [
    {
     "data": {
      "text/html": [
       "<div>\n",
       "<style scoped>\n",
       "    .dataframe tbody tr th:only-of-type {\n",
       "        vertical-align: middle;\n",
       "    }\n",
       "\n",
       "    .dataframe tbody tr th {\n",
       "        vertical-align: top;\n",
       "    }\n",
       "\n",
       "    .dataframe thead th {\n",
       "        text-align: right;\n",
       "    }\n",
       "</style>\n",
       "<table border=\"1\" class=\"dataframe\">\n",
       "  <thead>\n",
       "    <tr style=\"text-align: right;\">\n",
       "      <th></th>\n",
       "      <th>text</th>\n",
       "      <th>terms</th>\n",
       "      <th>predictions</th>\n",
       "    </tr>\n",
       "    <tr>\n",
       "      <th>patient_id</th>\n",
       "      <th></th>\n",
       "      <th></th>\n",
       "      <th></th>\n",
       "    </tr>\n",
       "  </thead>\n",
       "  <tbody>\n",
       "    <tr>\n",
       "      <th>1960540</th>\n",
       "      <td>unknown. A9 - orphaned. Feathers / Fur / Skin:...</td>\n",
       "      <td>['Clinically healthy']</td>\n",
       "      <td>[clinically_healthy]</td>\n",
       "    </tr>\n",
       "    <tr>\n",
       "      <th>548645</th>\n",
       "      <td>HBC. HBC/NSF. Eyes / Ears / Mouth / Nares: squ...</td>\n",
       "      <td>['Physical injury']</td>\n",
       "      <td>[physical_injury]</td>\n",
       "    </tr>\n",
       "    <tr>\n",
       "      <th>1905573</th>\n",
       "      <td>Dragging leg, circling. Shock, Bleeding from M...</td>\n",
       "      <td>['Physical injury']</td>\n",
       "      <td>[physical_injury]</td>\n",
       "    </tr>\n",
       "    <tr>\n",
       "      <th>2741655</th>\n",
       "      <td>Weak. NSF. Eyes / Ears / Mouth / Nares: Eyes s...</td>\n",
       "      <td>['Clinically healthy']</td>\n",
       "      <td>[clinically_healthy]</td>\n",
       "    </tr>\n",
       "    <tr>\n",
       "      <th>2637768</th>\n",
       "      <td>Removed / Displaced (Juvenile) - Nest / Nest s...</td>\n",
       "      <td>['Nonspecific']</td>\n",
       "      <td>[nonspecific]</td>\n",
       "    </tr>\n",
       "  </tbody>\n",
       "</table>\n",
       "</div>"
      ],
      "text/plain": [
       "                                                         text  \\\n",
       "patient_id                                                      \n",
       "1960540     unknown. A9 - orphaned. Feathers / Fur / Skin:...   \n",
       "548645      HBC. HBC/NSF. Eyes / Ears / Mouth / Nares: squ...   \n",
       "1905573     Dragging leg, circling. Shock, Bleeding from M...   \n",
       "2741655     Weak. NSF. Eyes / Ears / Mouth / Nares: Eyes s...   \n",
       "2637768     Removed / Displaced (Juvenile) - Nest / Nest s...   \n",
       "\n",
       "                             terms           predictions  \n",
       "patient_id                                                \n",
       "1960540     ['Clinically healthy']  [clinically_healthy]  \n",
       "548645         ['Physical injury']     [physical_injury]  \n",
       "1905573        ['Physical injury']     [physical_injury]  \n",
       "2741655     ['Clinically healthy']  [clinically_healthy]  \n",
       "2637768            ['Nonspecific']         [nonspecific]  "
      ]
     },
     "execution_count": 111,
     "metadata": {},
     "output_type": "execute_result"
    }
   ],
   "source": [
    "pred_df.set_index('patient_id', inplace = True)\n",
    "pred_df.head()"
   ]
  },
  {
   "cell_type": "code",
   "execution_count": 113,
   "id": "f69ef214-94d2-42d0-aab3-f142ec31b95b",
   "metadata": {},
   "outputs": [],
   "source": [
    "import ast\n",
    "pred_df['terms'] = pred_df.terms.apply(ast.literal_eval)"
   ]
  },
  {
   "cell_type": "code",
   "execution_count": 114,
   "id": "d621087d-27ec-4565-b04e-6152e18cba93",
   "metadata": {},
   "outputs": [],
   "source": [
    "from sklearn.metrics import multilabel_confusion_matrix\n",
    "def add_one_hot(df, column):\n",
    "    _df = df.copy()\n",
    "    ohe = (pd.get_dummies(_df[column].apply(pd.Series).stack(), dtype=\"int\")\n",
    "             .groupby(level=0)\n",
    "             .sum()\n",
    "          )\n",
    "    return pd.merge(_df, ohe, left_index=True, right_index=True)"
   ]
  },
  {
   "cell_type": "code",
   "execution_count": 94,
   "id": "9c970e7c-55ef-4efb-ba51-0238d198a80c",
   "metadata": {},
   "outputs": [],
   "source": [
    "ydf_true = add_one_hot(pred_df, column='terms')\n",
    "ydf_pred = add_one_hot(pred_df, column='predictions')\n",
    "ydf_true.columns = ydf_true.columns.str.lower().str.replace(\" \", \"_\")"
   ]
  },
  {
   "cell_type": "code",
   "execution_count": 116,
   "id": "eb0e621c-cffc-47ea-926c-b69f9f70b699",
   "metadata": {},
   "outputs": [
    {
     "data": {
      "text/plain": [
       "(14038, 15)"
      ]
     },
     "execution_count": 116,
     "metadata": {},
     "output_type": "execute_result"
    }
   ],
   "source": [
    "ydf_true.shape"
   ]
  },
  {
   "cell_type": "code",
   "execution_count": 124,
   "id": "527b8ec6-9cd8-4592-91eb-55eb642f043b",
   "metadata": {},
   "outputs": [
    {
     "data": {
      "text/plain": [
       "14038"
      ]
     },
     "execution_count": 124,
     "metadata": {},
     "output_type": "execute_result"
    }
   ],
   "source": [
    "ydf_true.index.nunique()"
   ]
  },
  {
   "cell_type": "code",
   "execution_count": 128,
   "id": "5ddc5e8b-6d58-4f11-857e-8e846f53b27d",
   "metadata": {},
   "outputs": [
    {
     "data": {
      "text/plain": [
       "(13942, 15)"
      ]
     },
     "execution_count": 128,
     "metadata": {},
     "output_type": "execute_result"
    }
   ],
   "source": [
    "cases = ydf_pred.index.unique().tolist()\n",
    "y = ydf_true.loc[cases]\n",
    "y.shape"
   ]
  },
  {
   "cell_type": "code",
   "execution_count": 166,
   "id": "c79c50c7-57fa-41a5-953e-664185760ebc",
   "metadata": {},
   "outputs": [
    {
     "data": {
      "text/plain": [
       "array([[[ 9973,   109],\n",
       "        [   91,  3769]],\n",
       "\n",
       "       [[13060,    61],\n",
       "        [   65,   756]],\n",
       "\n",
       "       [[13076,    38],\n",
       "        [   48,   780]],\n",
       "\n",
       "       [[13371,    34],\n",
       "        [   23,   514]],\n",
       "\n",
       "       [[11506,   138],\n",
       "        [  136,  2162]],\n",
       "\n",
       "       [[12869,   101],\n",
       "        [  100,   872]],\n",
       "\n",
       "       [[12394,    72],\n",
       "        [   77,  1399]],\n",
       "\n",
       "       [[13066,    61],\n",
       "        [   47,   768]],\n",
       "\n",
       "       [[ 8564,   206],\n",
       "        [  214,  4958]],\n",
       "\n",
       "       [[12999,   105],\n",
       "        [   80,   758]],\n",
       "\n",
       "       [[13504,    27],\n",
       "        [   32,   379]]], dtype=int64)"
      ]
     },
     "execution_count": 166,
     "metadata": {},
     "output_type": "execute_result"
    }
   ],
   "source": [
    "columns_list = ['clinically_healthy',\n",
    " 'dermatologic_disease',\n",
    " 'gastrointestinal_disease',\n",
    " 'hematologic_disease',\n",
    " 'neurologic_disease',\n",
    " 'nonspecific',\n",
    " 'nutritional_disease',\n",
    " 'ocular_disease',\n",
    " 'physical_injury',\n",
    " 'respiratory_disease',\n",
    " 'urogenital_disease']\n",
    "\n",
    "vis_arr  = multilabel_confusion_matrix(y[columns_list], ydf_pred[columns_list])\n",
    "vis_arr"
   ]
  },
  {
   "cell_type": "code",
   "execution_count": 135,
   "id": "afc6aa62-2705-4e40-bbb5-87a0e0a1a1db",
   "metadata": {},
   "outputs": [],
   "source": [
    "# Calculate precision, recall and f1-score per label\n",
    "from sklearn.metrics import precision_recall_fscore_support\n",
    "precision, recall, f1, _ = precision_recall_fscore_support(y[columns_list], ydf_pred[columns_list], average=None)"
   ]
  },
  {
   "cell_type": "code",
   "execution_count": 136,
   "id": "afe76f5f-7c4b-4528-b680-375b21bb670c",
   "metadata": {},
   "outputs": [
    {
     "name": "stdout",
     "output_type": "stream",
     "text": [
      "Label: clinically_healthy\n",
      "Precision: 0.972\n",
      "Recall: 0.976\n",
      "F1-score: 0.974\n",
      "\n",
      "Label: dermatologic_disease\n",
      "Precision: 0.925\n",
      "Recall: 0.921\n",
      "F1-score: 0.923\n",
      "\n",
      "Label: gastrointestinal_disease\n",
      "Precision: 0.954\n",
      "Recall: 0.942\n",
      "F1-score: 0.948\n",
      "\n",
      "Label: hematologic_disease\n",
      "Precision: 0.938\n",
      "Recall: 0.957\n",
      "F1-score: 0.947\n",
      "\n",
      "Label: neurologic_disease\n",
      "Precision: 0.940\n",
      "Recall: 0.941\n",
      "F1-score: 0.940\n",
      "\n",
      "Label: nonspecific\n",
      "Precision: 0.896\n",
      "Recall: 0.897\n",
      "F1-score: 0.897\n",
      "\n",
      "Label: nutritional_disease\n",
      "Precision: 0.951\n",
      "Recall: 0.948\n",
      "F1-score: 0.949\n",
      "\n",
      "Label: ocular_disease\n",
      "Precision: 0.926\n",
      "Recall: 0.942\n",
      "F1-score: 0.934\n",
      "\n",
      "Label: physical_injury\n",
      "Precision: 0.960\n",
      "Recall: 0.959\n",
      "F1-score: 0.959\n",
      "\n",
      "Label: respiratory_disease\n",
      "Precision: 0.878\n",
      "Recall: 0.905\n",
      "F1-score: 0.891\n",
      "\n",
      "Label: urogenital_disease\n",
      "Precision: 0.933\n",
      "Recall: 0.922\n",
      "F1-score: 0.928\n",
      "\n"
     ]
    }
   ],
   "source": [
    "# Print scores  \n",
    "labels = columns_list\n",
    "for i in range(len(labels)):\n",
    "    print(f'Label: {labels[i]}') \n",
    "    print(f'Precision: {precision[i]:.3f}')\n",
    "    print(f'Recall: {recall[i]:.3f}') \n",
    "    print(f'F1-score: {f1[i]:.3f}\\n')"
   ]
  },
  {
   "cell_type": "code",
   "execution_count": 133,
   "id": "02d85068-f4ff-4800-8fbd-47b6eb6b7c20",
   "metadata": {},
   "outputs": [
    {
     "data": {
      "text/html": [
       "<div>\n",
       "<style scoped>\n",
       "    .dataframe tbody tr th:only-of-type {\n",
       "        vertical-align: middle;\n",
       "    }\n",
       "\n",
       "    .dataframe tbody tr th {\n",
       "        vertical-align: top;\n",
       "    }\n",
       "\n",
       "    .dataframe thead th {\n",
       "        text-align: right;\n",
       "    }\n",
       "</style>\n",
       "<table border=\"1\" class=\"dataframe\">\n",
       "  <thead>\n",
       "    <tr style=\"text-align: right;\">\n",
       "      <th></th>\n",
       "      <th>patient_id</th>\n",
       "      <th>text</th>\n",
       "      <th>terms</th>\n",
       "      <th>predictions</th>\n",
       "      <th>clinically_healthy</th>\n",
       "      <th>dermatologic_disease</th>\n",
       "      <th>gastrointestinal_disease</th>\n",
       "      <th>hematologic_disease</th>\n",
       "      <th>long or short text, working on the bug</th>\n",
       "      <th>neurologic_disease</th>\n",
       "      <th>nonspecific</th>\n",
       "      <th>nutritional_disease</th>\n",
       "      <th>ocular_disease</th>\n",
       "      <th>physical_injury</th>\n",
       "      <th>respiratory_disease</th>\n",
       "      <th>urogenital_disease</th>\n",
       "    </tr>\n",
       "  </thead>\n",
       "  <tbody>\n",
       "    <tr>\n",
       "      <th>0</th>\n",
       "      <td>1960540</td>\n",
       "      <td>unknown. A9 - orphaned. Feathers / Fur / Skin:...</td>\n",
       "      <td>[Clinically healthy]</td>\n",
       "      <td>[clinically_healthy]</td>\n",
       "      <td>1</td>\n",
       "      <td>0</td>\n",
       "      <td>0</td>\n",
       "      <td>0</td>\n",
       "      <td>0</td>\n",
       "      <td>0</td>\n",
       "      <td>0</td>\n",
       "      <td>0</td>\n",
       "      <td>0</td>\n",
       "      <td>0</td>\n",
       "      <td>0</td>\n",
       "      <td>0</td>\n",
       "    </tr>\n",
       "    <tr>\n",
       "      <th>1</th>\n",
       "      <td>548645</td>\n",
       "      <td>HBC. HBC/NSF. Eyes / Ears / Mouth / Nares: squ...</td>\n",
       "      <td>[Physical injury]</td>\n",
       "      <td>[physical_injury]</td>\n",
       "      <td>0</td>\n",
       "      <td>0</td>\n",
       "      <td>0</td>\n",
       "      <td>0</td>\n",
       "      <td>0</td>\n",
       "      <td>0</td>\n",
       "      <td>0</td>\n",
       "      <td>0</td>\n",
       "      <td>0</td>\n",
       "      <td>1</td>\n",
       "      <td>0</td>\n",
       "      <td>0</td>\n",
       "    </tr>\n",
       "    <tr>\n",
       "      <th>2</th>\n",
       "      <td>1905573</td>\n",
       "      <td>Dragging leg, circling. Shock, Bleeding from M...</td>\n",
       "      <td>[Physical injury]</td>\n",
       "      <td>[physical_injury]</td>\n",
       "      <td>0</td>\n",
       "      <td>0</td>\n",
       "      <td>0</td>\n",
       "      <td>0</td>\n",
       "      <td>0</td>\n",
       "      <td>0</td>\n",
       "      <td>0</td>\n",
       "      <td>0</td>\n",
       "      <td>0</td>\n",
       "      <td>1</td>\n",
       "      <td>0</td>\n",
       "      <td>0</td>\n",
       "    </tr>\n",
       "    <tr>\n",
       "      <th>3</th>\n",
       "      <td>2741655</td>\n",
       "      <td>Weak. NSF. Eyes / Ears / Mouth / Nares: Eyes s...</td>\n",
       "      <td>[Clinically healthy]</td>\n",
       "      <td>[clinically_healthy]</td>\n",
       "      <td>1</td>\n",
       "      <td>0</td>\n",
       "      <td>0</td>\n",
       "      <td>0</td>\n",
       "      <td>0</td>\n",
       "      <td>0</td>\n",
       "      <td>0</td>\n",
       "      <td>0</td>\n",
       "      <td>0</td>\n",
       "      <td>0</td>\n",
       "      <td>0</td>\n",
       "      <td>0</td>\n",
       "    </tr>\n",
       "    <tr>\n",
       "      <th>4</th>\n",
       "      <td>2637768</td>\n",
       "      <td>Removed / Displaced (Juvenile) - Nest / Nest s...</td>\n",
       "      <td>[Nonspecific]</td>\n",
       "      <td>[nonspecific]</td>\n",
       "      <td>0</td>\n",
       "      <td>0</td>\n",
       "      <td>0</td>\n",
       "      <td>0</td>\n",
       "      <td>0</td>\n",
       "      <td>0</td>\n",
       "      <td>1</td>\n",
       "      <td>0</td>\n",
       "      <td>0</td>\n",
       "      <td>0</td>\n",
       "      <td>0</td>\n",
       "      <td>0</td>\n",
       "    </tr>\n",
       "  </tbody>\n",
       "</table>\n",
       "</div>"
      ],
      "text/plain": [
       "   patient_id                                               text  \\\n",
       "0     1960540  unknown. A9 - orphaned. Feathers / Fur / Skin:...   \n",
       "1      548645  HBC. HBC/NSF. Eyes / Ears / Mouth / Nares: squ...   \n",
       "2     1905573  Dragging leg, circling. Shock, Bleeding from M...   \n",
       "3     2741655  Weak. NSF. Eyes / Ears / Mouth / Nares: Eyes s...   \n",
       "4     2637768  Removed / Displaced (Juvenile) - Nest / Nest s...   \n",
       "\n",
       "                  terms           predictions  clinically_healthy  \\\n",
       "0  [Clinically healthy]  [clinically_healthy]                   1   \n",
       "1     [Physical injury]     [physical_injury]                   0   \n",
       "2     [Physical injury]     [physical_injury]                   0   \n",
       "3  [Clinically healthy]  [clinically_healthy]                   1   \n",
       "4         [Nonspecific]         [nonspecific]                   0   \n",
       "\n",
       "   dermatologic_disease  gastrointestinal_disease  hematologic_disease  \\\n",
       "0                     0                         0                    0   \n",
       "1                     0                         0                    0   \n",
       "2                     0                         0                    0   \n",
       "3                     0                         0                    0   \n",
       "4                     0                         0                    0   \n",
       "\n",
       "   long or short text, working on the bug  neurologic_disease  nonspecific  \\\n",
       "0                                       0                   0            0   \n",
       "1                                       0                   0            0   \n",
       "2                                       0                   0            0   \n",
       "3                                       0                   0            0   \n",
       "4                                       0                   0            1   \n",
       "\n",
       "   nutritional_disease  ocular_disease  physical_injury  respiratory_disease  \\\n",
       "0                    0               0                0                    0   \n",
       "1                    0               0                1                    0   \n",
       "2                    0               0                1                    0   \n",
       "3                    0               0                0                    0   \n",
       "4                    0               0                0                    0   \n",
       "\n",
       "   urogenital_disease  \n",
       "0                   0  \n",
       "1                   0  \n",
       "2                   0  \n",
       "3                   0  \n",
       "4                   0  "
      ]
     },
     "execution_count": 133,
     "metadata": {},
     "output_type": "execute_result"
    }
   ],
   "source": [
    "ydf_pred.head()"
   ]
  },
  {
   "cell_type": "code",
   "execution_count": 169,
   "id": "d3413a13-b6c8-4564-b3a9-aead791a6a3c",
   "metadata": {},
   "outputs": [],
   "source": [
    "labels  = columns_list\n",
    "import pandas as pd\n",
    "import matplotlib.pyplot as plt\n",
    "import seaborn as sns\n",
    "def print_confusion_matrix(confusion_matrix, axes, class_label, class_names, fontsize=14):\n",
    "    confusion_matrix = confusion_matrix.astype('float') / confusion_matrix.sum(axis=1)[:, np.newaxis]\n",
    "    #print(confusion_matrix)\n",
    "    df_cm = pd.DataFrame(\n",
    "        confusion_matrix, index=class_names, columns=class_names,\n",
    "    )\n",
    "\n",
    "    try:\n",
    "        heatmap = sns.heatmap(df_cm, annot=True, fmt=\".2f\", cbar=False, ax=axes)\n",
    "    except ValueError:\n",
    "        raise ValueError(\"Confusion matrix values must be integers.\")\n",
    "    heatmap.yaxis.set_ticklabels(heatmap.yaxis.get_ticklabels(), rotation=0, ha='right', fontsize=fontsize)\n",
    "    heatmap.xaxis.set_ticklabels(heatmap.xaxis.get_ticklabels(), rotation=45, ha='right', fontsize=fontsize)\n",
    "    axes.set_ylabel('True label')\n",
    "    axes.set_xlabel('Predicted label')\n",
    "    axes.set_title(class_label)"
   ]
  },
  {
   "cell_type": "code",
   "execution_count": 170,
   "id": "6c945068-a119-4611-8b75-707b50f93aab",
   "metadata": {},
   "outputs": [
    {
     "data": {
      "image/png": "[encoded data removed]",
      "text/plain": [
       "<Figure size 1200x700 with 12 Axes>"
      ]
     },
     "metadata": {},
     "output_type": "display_data"
    }
   ],
   "source": [
    "fig, ax = plt.subplots(4, 3, figsize=(12, 7))\n",
    "for axes, cfs_matrix, label in zip(ax.flatten(), vis_arr, labels):\n",
    "    print_confusion_matrix(cfs_matrix, axes, label, [\"N\", \"Y\"])\n",
    "\n",
    "fig.tight_layout()\n",
    "plt.savefig('../reports/figures/confusion_matrix.png', dpi = 600)\n",
    "plt.show()"
   ]
  },
  {
   "cell_type": "code",
   "execution_count": null,
   "id": "5fc49dec-8558-4afc-ad10-16fd13720236",
   "metadata": {},
   "outputs": [],
   "source": []
  }
 ],
 "metadata": {
  "kernelspec": {
   "display_name": "Python 3 (ipykernel)",
   "language": "python",
   "name": "python3"
  },
  "language_info": {
   "codemirror_mode": {
    "name": "ipython",
    "version": 3
   },
   "file_extension": ".py",
   "mimetype": "text/x-python",
   "name": "python",
   "nbconvert_exporter": "python",
   "pygments_lexer": "ipython3",
   "version": "3.11.6"
  }
 },
 "nbformat": 4,
 "nbformat_minor": 5
}
