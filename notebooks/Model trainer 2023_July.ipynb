{
 "cells": [
  {
   "cell_type": "code",
   "execution_count": null,
   "id": "f665eb9e",
   "metadata": {},
   "outputs": [],
   "source": [
    "%%time\n",
    "import datetime\n",
    "\n",
    "start = datetime.datetime.now()\n",
    "print(start)\n",
    "import os as os\n",
    "\n",
    "os.chdir(\"C:/Users/prana/Desktop/directory/WildAlertModels/\")\n",
    "# os.chdir('/home/falco/Desktop/directory/Syndrome_classifier_trainer')\n",
    "data_path = \"C:/Users/prana/Desktop/directory/WildAlertModels/data/\"\n",
    "# data_path = '/home/falco/Desktop/directory/Syndrome_classifier_trainer/data'\n",
    "import pandas as pd\n",
    "from matplotlib import pyplot as plt\n",
    "\n",
    "%matplotlib inline\n",
    "import datetime\n",
    "import os\n",
    "import pickle\n",
    "from math import ceil\n",
    "\n",
    "import app\n",
    "import config\n",
    "import nltk\n",
    "import numpy as np\n",
    "import pandas as pd\n",
    "import preprocess\n",
    "import simplejson as json\n",
    "import tensorflow as tf\n",
    "from nltk.corpus import stopwords\n",
    "from sklearn.feature_extraction.text import CountVectorizer, TfidfTransformer\n",
    "from sklearn.model_selection import train_test_split\n",
    "from sklearn.preprocessing import MultiLabelBinarizer\n",
    "from tensorflow.keras import backend as K\n",
    "from tensorflow.keras import regularizers\n",
    "from tensorflow.keras.callbacks import EarlyStopping, ModelCheckpoint, ReduceLROnPlateau\n",
    "from tensorflow.keras.layers import (GRU, LSTM, BatchNormalization, Bidirectional, Conv1D, Dense, Dropout, Embedding,\n",
    "                                     GlobalAveragePooling1D, GlobalMaxPooling1D, Input, LeakyReLU, MaxPooling1D,\n",
    "                                     SpatialDropout1D, concatenate)\n",
    "from tensorflow.keras.models import Model, Sequential\n",
    "from textblob import TextBlob\n",
    "from tqdm import tqdm\n",
    "\n",
    "# from WRMDpy import Syndrome as Syndrome\n",
    "\n",
    "\n",
    "print(\"tensorflow version \", tf.__version__)\n",
    "\n",
    "import keras\n",
    "\n",
    "print(\"keras version \", keras.__version__)\n",
    "import keras.callbacks\n",
    "from imblearn.ensemble import (BalancedBaggingClassifier, BalancedRandomForestClassifier, EasyEnsembleClassifier,\n",
    "                               RUSBoostClassifier)\n",
    "from imblearn.over_sampling import SMOTE\n",
    "# Ensembled sampling\n",
    "from imblearn.under_sampling import NearMiss\n",
    "from keras.preprocessing.text import Tokenizer\n",
    "# from keras.preprocessing.sequence import pad_sequences\n",
    "from keras_preprocessing.sequence import pad_sequences\n",
    "\n",
    "plt.style.use(\"fivethirtyeight\")\n",
    "plt.rcParams[\"font.family\"] = \"Times New Roman\"\n",
    "plt.rcParams[\"font.family\"] = \"serif\""
   ]
  },
  {
   "cell_type": "code",
   "execution_count": null,
   "id": "424de62b",
   "metadata": {},
   "outputs": [],
   "source": [
    "from tensorflow.python.client import device_lib\n",
    "\n",
    "print(device_lib.list_local_devices())"
   ]
  },
  {
   "cell_type": "code",
   "execution_count": null,
   "id": "e2fd1c77",
   "metadata": {},
   "outputs": [],
   "source": [
    "import requests\n",
    "\n",
    "path1 = \"https://www.wrmd.org/api/v2/ml/training-dataset/clinical-classifications\"\n",
    "# path1 = 'API/link/TrainingData'\n",
    "raw_data = json.loads(requests.get(path1).text)\n",
    "raw_data = pd.DataFrame(raw_data)\n",
    "cond = raw_data.terms.apply(pd.Series)\n",
    "cond.columns = [\"c1\", \"c2\", \"c3\", \"c4\", \"c5\"]\n",
    "raw_data = pd.concat([raw_data, cond], axis=1)\n",
    "raw_data[\"condition_predict\"] = raw_data.c1\n",
    "raw_data.head()"
   ]
  },
  {
   "cell_type": "code",
   "execution_count": null,
   "id": "7c945023",
   "metadata": {},
   "outputs": [],
   "source": [
    "raw_data.shape"
   ]
  },
  {
   "cell_type": "code",
   "execution_count": null,
   "id": "1f8542e8",
   "metadata": {},
   "outputs": [],
   "source": [
    "raw_data.text.iloc[2]"
   ]
  },
  {
   "cell_type": "code",
   "execution_count": null,
   "id": "245e4df2",
   "metadata": {},
   "outputs": [],
   "source": [
    "data = raw_data[[\"patient_id\", \"text\", \"terms\"]].explode(column=\"terms\")\n",
    "data[\"condition_predict\"] = data.terms\n",
    "data.shape"
   ]
  },
  {
   "cell_type": "code",
   "execution_count": null,
   "id": "1fdfb517",
   "metadata": {},
   "outputs": [],
   "source": [
    "len(data.condition_predict.unique())"
   ]
  },
  {
   "cell_type": "code",
   "execution_count": null,
   "id": "71a87a40",
   "metadata": {},
   "outputs": [],
   "source": [
    "data.condition_predict.value_counts()"
   ]
  },
  {
   "cell_type": "code",
   "execution_count": null,
   "id": "b3aa211e",
   "metadata": {},
   "outputs": [],
   "source": [
    "data[\"condition_predict\"].value_counts().sort_values(ascending=False).plot(\n",
    "    kind=\"barh\", title=\"Number of cases in each clinical classification\"\n",
    ")"
   ]
  },
  {
   "cell_type": "code",
   "execution_count": null,
   "id": "1377782a",
   "metadata": {},
   "outputs": [],
   "source": [
    "import re\n",
    "\n",
    "df = data\n",
    "REPLACE_BY_SPACE_RE = re.compile(\"[/(){}\\[\\]\\|@,;]\")\n",
    "BAD_SYMBOLS_RE = re.compile(\"[^0-9a-z #+_]\")\n",
    "STOPWORDS = set(stopwords.words(\"english\"))\n",
    "\n",
    "\n",
    "def clean_text(text):\n",
    "    \"\"\"\n",
    "    text: a string\n",
    "\n",
    "    return: modified initial string\n",
    "    \"\"\"\n",
    "    text = text.lower()  # lowercase text\n",
    "    text = REPLACE_BY_SPACE_RE.sub(\n",
    "        \" \", text\n",
    "    )  # replace REPLACE_BY_SPACE_RE symbols by space in text. substitute the matched string in REPLACE_BY_SPACE_RE with space.\n",
    "    text = BAD_SYMBOLS_RE.sub(\n",
    "        \"\", text\n",
    "    )  # remove symbols which are in BAD_SYMBOLS_RE from text. substitute the matched string in BAD_SYMBOLS_RE with nothing.\n",
    "    text = text.replace(\"x\", \"\")\n",
    "    #    text = re.sub(r'\\W+', '', text)\n",
    "    text = \" \".join(\n",
    "        word for word in text.split() if word not in STOPWORDS\n",
    "    )  # remove stopwors from text\n",
    "    return text\n",
    "\n",
    "\n",
    "df[\"text\"] = df[\"text\"].apply(clean_text)\n",
    "df[\"text\"] = df[\"text\"].str.replace(\"\\d+\", \"\")"
   ]
  },
  {
   "cell_type": "code",
   "execution_count": null,
   "id": "9afdf1a4",
   "metadata": {},
   "outputs": [],
   "source": [
    "# The maximum number of words to be used. (most frequent)\n",
    "MAX_NB_WORDS = 70000\n",
    "# Max number of words in each complaint.\n",
    "MAX_SEQUENCE_LENGTH = 1000\n",
    "# This is fixed.\n",
    "EMBEDDING_DIM = 200\n",
    "tokenizer = Tokenizer(\n",
    "    num_words=MAX_NB_WORDS, filters='!\"#$%&()*+,-./:;<=>?@[\\]^_`{|}~', lower=True\n",
    ")\n",
    "tokenizer.fit_on_texts(df[\"text\"].values)\n",
    "word_index = tokenizer.word_index\n",
    "print(\"Found %s unique tokens.\" % len(word_index))"
   ]
  },
  {
   "cell_type": "code",
   "execution_count": null,
   "id": "22c77ce1",
   "metadata": {},
   "outputs": [],
   "source": [
    "Tokenizer"
   ]
  },
  {
   "cell_type": "code",
   "execution_count": null,
   "id": "529b0552",
   "metadata": {},
   "outputs": [],
   "source": [
    "pd.DataFrame.from_dict([word_index]).T"
   ]
  },
  {
   "cell_type": "code",
   "execution_count": null,
   "id": "887e9a88",
   "metadata": {},
   "outputs": [],
   "source": [
    "X = tokenizer.texts_to_sequences(df[\"text\"].values)\n",
    "X = pad_sequences(X, maxlen=MAX_SEQUENCE_LENGTH)\n",
    "print(\"Shape of data tensor:\", X.shape)"
   ]
  },
  {
   "cell_type": "code",
   "execution_count": null,
   "id": "aa3b0a01",
   "metadata": {},
   "outputs": [],
   "source": [
    "Y = pd.get_dummies(df[\"condition_predict\"]).values\n",
    "print(\"Shape of label tensor:\", Y.shape)"
   ]
  },
  {
   "cell_type": "code",
   "execution_count": null,
   "id": "705cf698",
   "metadata": {},
   "outputs": [],
   "source": [
    "def get_training_testing_data(dataframe):\n",
    "    X_train_df, X_test_df, Y_train_df, Y_test_df = train_test_split(\n",
    "        dataframe[\"text\"], Y, test_size=0.10, random_state=42\n",
    "    )\n",
    "    print(X_train_df.shape, Y_train_df.shape)\n",
    "    print(X_test_df.shape, Y_test_df.shape)\n",
    "    return X_train_df, X_test_df, Y_train_df, Y_test_df"
   ]
  },
  {
   "cell_type": "code",
   "execution_count": null,
   "id": "0901e0e9",
   "metadata": {},
   "outputs": [],
   "source": [
    "X_train_df, X_test_df, Y_train_df, Y_test_df = get_training_testing_data(dataframe=df)"
   ]
  },
  {
   "cell_type": "code",
   "execution_count": null,
   "id": "b8ea5b46",
   "metadata": {},
   "outputs": [],
   "source": [
    "X_train_df_t = tokenizer.texts_to_sequences(X_train_df.values)\n",
    "X_train_df_t = pad_sequences(X_train_df_t, maxlen=MAX_SEQUENCE_LENGTH)"
   ]
  },
  {
   "cell_type": "code",
   "execution_count": null,
   "id": "3744946e",
   "metadata": {},
   "outputs": [],
   "source": [
    "X_train_df_t.shape"
   ]
  },
  {
   "cell_type": "code",
   "execution_count": null,
   "id": "91e71c53",
   "metadata": {},
   "outputs": [],
   "source": [
    "X_train, X_test, Y_train, Y_test = train_test_split(\n",
    "    X, Y, test_size=0.10, random_state=42\n",
    ")\n",
    "print(X_train.shape, Y_train.shape)\n",
    "print(X_test.shape, Y_test.shape)"
   ]
  },
  {
   "cell_type": "code",
   "execution_count": null,
   "id": "1e8c2d66",
   "metadata": {},
   "outputs": [],
   "source": [
    "X_train.shape"
   ]
  },
  {
   "cell_type": "code",
   "execution_count": null,
   "id": "619bb367",
   "metadata": {},
   "outputs": [],
   "source": [
    "%%time\n",
    "model = Sequential()\n",
    "model.add(Embedding(MAX_NB_WORDS, EMBEDDING_DIM, input_length=X.shape[1]))\n",
    "model.add(SpatialDropout1D(0.2))\n",
    "model.add(LSTM(100, dropout=0.2, recurrent_dropout=0))\n",
    "model.add(Dense(11, activation=\"softmax\"))\n",
    "## softmax is desinged for only one prediction category. define a sigmoid and then use threshold\n",
    "##\n",
    "model.compile(\n",
    "    loss=\"categorical_crossentropy\",\n",
    "    optimizer=tf.keras.optimizers.Adam(learning_rate=0.01),\n",
    "    metrics=[\"accuracy\"],\n",
    ")\n",
    "\n",
    "\n",
    "epochs = 200\n",
    "batch_size = 64\n",
    "\n",
    "history = model.fit(\n",
    "    X_train_df_t,\n",
    "    Y_train_df,\n",
    "    epochs=epochs,\n",
    "    batch_size=batch_size,\n",
    "    validation_split=0.1,\n",
    "    callbacks=[EarlyStopping(monitor=\"val_loss\", patience=5, min_delta=0.0001)],\n",
    ")"
   ]
  },
  {
   "cell_type": "code",
   "execution_count": null,
   "id": "3e71abce",
   "metadata": {},
   "outputs": [],
   "source": [
    "%%time\n",
    "model2 = Sequential()\n",
    "model2.add(Embedding(MAX_NB_WORDS, EMBEDDING_DIM, input_length=X.shape[1]))\n",
    "model2.add(SpatialDropout1D(0.2))\n",
    "model2.add(LSTM(100, dropout=0.2, recurrent_dropout=0))\n",
    "model2.add(Dense(11, activation=\"softmax\"))\n",
    "model2.compile(\n",
    "    loss=\"categorical_crossentropy\",\n",
    "    optimizer=tf.keras.optimizers.Adam(learning_rate=0.001),\n",
    "    metrics=[\"accuracy\"],\n",
    ")\n",
    "\n",
    "epochs = 200\n",
    "batch_size = 64\n",
    "\n",
    "history2 = model2.fit(\n",
    "    X_train_df_t,\n",
    "    Y_train_df,\n",
    "    epochs=epochs,\n",
    "    batch_size=batch_size,\n",
    "    validation_split=0.1,\n",
    "    callbacks=[EarlyStopping(monitor=\"val_loss\", patience=5, min_delta=0.0001)],\n",
    ")"
   ]
  },
  {
   "cell_type": "code",
   "execution_count": null,
   "id": "58ac7cac",
   "metadata": {},
   "outputs": [],
   "source": [
    "%%time\n",
    "model3 = Sequential()\n",
    "model3.add(Embedding(MAX_NB_WORDS, EMBEDDING_DIM, input_length=X.shape[1]))\n",
    "model3.add(SpatialDropout1D(0.2))\n",
    "model3.add(LSTM(100, dropout=0.2, recurrent_dropout=0))\n",
    "model3.add(Dense(11, activation=\"softmax\"))\n",
    "model3.compile(\n",
    "    loss=\"categorical_crossentropy\",\n",
    "    optimizer=tf.keras.optimizers.Adam(learning_rate=0.0001),\n",
    "    metrics=[\"accuracy\"],\n",
    ")\n",
    "\n",
    "\n",
    "epochs = 200\n",
    "batch_size = 64\n",
    "\n",
    "history3 = model3.fit(\n",
    "    X_train_df_t,\n",
    "    Y_train_df,\n",
    "    epochs=epochs,\n",
    "    batch_size=batch_size,\n",
    "    validation_split=0.1,\n",
    "    callbacks=[EarlyStopping(monitor=\"val_loss\", patience=5, min_delta=0.0001)],\n",
    ")"
   ]
  },
  {
   "cell_type": "markdown",
   "id": "086a582f",
   "metadata": {},
   "source": [
    "### Predictions"
   ]
  },
  {
   "cell_type": "code",
   "execution_count": null,
   "id": "d9c96ae6",
   "metadata": {},
   "outputs": [],
   "source": [
    "new_case = [data.text.iloc[3414]]\n",
    "print(new_case)\n",
    "seq = tokenizer.texts_to_sequences(new_case)\n",
    "padded = pad_sequences(seq, maxlen=MAX_SEQUENCE_LENGTH)\n",
    "pred = model.predict(padded)\n",
    "labels = pd.get_dummies(df[\"condition_predict\"]).columns.tolist()\n",
    "print(\"\")\n",
    "print(\"First Prediction\")\n",
    "# print(pred, labels[np.argmax(pred)])\n",
    "print(labels[np.argmax(pred)])\n",
    "print(\"\")\n",
    "print(\"Second Prediction\")\n",
    "sorted_pred = sorted(pred[0])\n",
    "print(labels[list(pred[0]).index(sorted_pred[-2])])"
   ]
  },
  {
   "cell_type": "code",
   "execution_count": null,
   "id": "99014425",
   "metadata": {},
   "outputs": [],
   "source": [
    "X_test_df.iloc[0]"
   ]
  },
  {
   "cell_type": "code",
   "execution_count": null,
   "id": "e8c64e64",
   "metadata": {},
   "outputs": [],
   "source": [
    "new_case = [X_test_df.iloc[1]]\n",
    "print(new_case)\n",
    "seq = tokenizer.texts_to_sequences(new_case)\n",
    "padded = pad_sequences(seq, maxlen=MAX_SEQUENCE_LENGTH)\n",
    "pred = model.predict(padded)\n",
    "labels = pd.get_dummies(df[\"condition_predict\"]).columns.tolist()\n",
    "print(pred)\n",
    "print(\"\")\n",
    "print(\"First Prediction\")\n",
    "# print(pred, labels[np.argmax(pred)])\n",
    "print(labels[np.argmax(pred)])\n",
    "print(\"\")\n",
    "print(\"Second Prediction\")\n",
    "sorted_pred = sorted(pred[0])\n",
    "print(labels[list(pred[0]).index(sorted_pred[-2])])"
   ]
  },
  {
   "cell_type": "code",
   "execution_count": null,
   "id": "f7bee5e3",
   "metadata": {},
   "outputs": [],
   "source": [
    "pred = model.predict(padded)"
   ]
  },
  {
   "cell_type": "code",
   "execution_count": null,
   "id": "33cbb757",
   "metadata": {},
   "outputs": [],
   "source": [
    "# ?model.predict"
   ]
  },
  {
   "cell_type": "code",
   "execution_count": null,
   "id": "9592b8eb",
   "metadata": {},
   "outputs": [],
   "source": [
    "print(labels[np.argmax(pred)])"
   ]
  },
  {
   "cell_type": "code",
   "execution_count": null,
   "id": "b13165e7",
   "metadata": {},
   "outputs": [],
   "source": [
    "sorted_pred[-2]"
   ]
  },
  {
   "cell_type": "code",
   "execution_count": null,
   "id": "82be221a",
   "metadata": {},
   "outputs": [],
   "source": [
    "labels = pd.get_dummies(df[\"condition_predict\"]).columns.tolist()\n",
    "\n",
    "\n",
    "def predict_conditions(c):\n",
    "    new_case = [c]\n",
    "    # print(new_case)\n",
    "    seq = tokenizer.texts_to_sequences(new_case)\n",
    "    padded = pad_sequences(seq, maxlen=MAX_SEQUENCE_LENGTH)\n",
    "    pred = model.predict(padded, verbose=0)\n",
    "    # print(pred)\n",
    "    # print(\"\")\n",
    "    # print(\"First Prediction\")\n",
    "    # print(pred, labels[np.argmax(pred)])\n",
    "    # print(labels[np.argmax(pred)])\n",
    "    # print(\"\")\n",
    "    # print(\"Second Prediction\")\n",
    "    sorted_pred = sorted(pred[0])\n",
    "    # print(labels[list(pred[0]).index(sorted_pred[-2])])\n",
    "    return pd.Series(\n",
    "        [labels[np.argmax(pred)], labels[list(pred[0]).index(sorted_pred[-2])]]\n",
    "    )"
   ]
  },
  {
   "cell_type": "code",
   "execution_count": null,
   "id": "4e63e3c5",
   "metadata": {},
   "outputs": [],
   "source": [
    "print(labels)"
   ]
  },
  {
   "cell_type": "code",
   "execution_count": null,
   "id": "a15b89c4",
   "metadata": {},
   "outputs": [],
   "source": [
    "# from tqdm import tqdm\n",
    "# tqdm.pandas()\n",
    "from tqdm.notebook import tqdm_notebook\n",
    "\n",
    "tqdm_notebook.pandas(desc=\"PROGRESS>>>\")"
   ]
  },
  {
   "cell_type": "code",
   "execution_count": null,
   "id": "2572e5f1",
   "metadata": {},
   "outputs": [],
   "source": [
    "%%time\n",
    "pp = X_test_df.progress_apply(predict_conditions)"
   ]
  },
  {
   "cell_type": "code",
   "execution_count": null,
   "id": "fd2d3e39",
   "metadata": {},
   "outputs": [],
   "source": [
    "pp.columns = [\"First\", \"Second\"]"
   ]
  },
  {
   "cell_type": "code",
   "execution_count": null,
   "id": "f54cbe77",
   "metadata": {},
   "outputs": [],
   "source": [
    "df.head()"
   ]
  },
  {
   "cell_type": "code",
   "execution_count": null,
   "id": "e4c98dfd",
   "metadata": {},
   "outputs": [],
   "source": [
    "pp[\"True_condition\"] = df.iloc[X_test_df.index.values.tolist()][\n",
    "    \"condition_predict\"\n",
    "].values\n",
    "pp.head()"
   ]
  },
  {
   "cell_type": "code",
   "execution_count": null,
   "id": "61d4a506",
   "metadata": {},
   "outputs": [],
   "source": [
    "import seaborn as sns\n",
    "from sklearn.metrics import confusion_matrix\n",
    "\n",
    "confm = confusion_matrix(y_pred=pp.First, y_true=pp.True_condition)\n",
    "df_cm = pd.DataFrame(confm, index=labels, columns=labels)\n",
    "ax = sns.heatmap(df_cm, cmap=\"Oranges\", annot=True)\n",
    "plt.show()"
   ]
  },
  {
   "cell_type": "code",
   "execution_count": null,
   "id": "35f2519c",
   "metadata": {},
   "outputs": [],
   "source": [
    "X_test.shape"
   ]
  },
  {
   "cell_type": "code",
   "execution_count": null,
   "id": "6e6ce373",
   "metadata": {},
   "outputs": [],
   "source": [
    "plt.subplots(figsize=(15, 15))\n",
    "confm = confusion_matrix(y_pred=pp.First, y_true=pp.True_condition, normalize=\"true\")\n",
    "df_cm = pd.DataFrame(confm, index=labels, columns=labels)\n",
    "ax = sns.heatmap(df_cm, mask=confm == 0, cmap=\"Oranges\", annot=True)\n",
    "ax.set_xlabel(\"Predicted\")\n",
    "ax.set_ylabel(\"True\")\n",
    "ax.set_title(\"Performance on test data (n = 1748)\")\n",
    "plt.tight_layout()\n",
    "plt.savefig(\n",
    "    \"C:/Users/falco/Desktop/directory/Syndrome_classifier_trainer/outputs/LSTM_02_v2_03_30_2023.png\",\n",
    "    dpi=600,\n",
    ")\n",
    "plt.show()"
   ]
  },
  {
   "cell_type": "code",
   "execution_count": null,
   "id": "52808508",
   "metadata": {},
   "outputs": [],
   "source": [
    "labels = pd.get_dummies(df[\"condition_predict\"]).columns.tolist()\n",
    "\n",
    "\n",
    "def predict_conditions(c):\n",
    "    new_case = [c[\"text\"]]\n",
    "    # print(new_case)\n",
    "    seq = tokenizer.texts_to_sequences(new_case)\n",
    "    padded = pad_sequences(seq, maxlen=MAX_SEQUENCE_LENGTH)\n",
    "    pred = model.predict(padded, verbose=0)\n",
    "    # print(pred)\n",
    "    # print(\"\")\n",
    "    # print(\"First Prediction\")\n",
    "    # print(pred, labels[np.argmax(pred)])\n",
    "    # print(labels[np.argmax(pred)])\n",
    "    # print(\"\")\n",
    "    # print(\"Second Prediction\")\n",
    "    sorted_pred = sorted(pred[0])\n",
    "    # print(labels[list(pred[0]).index(sorted_pred[-2])])\n",
    "    return pd.Series(\n",
    "        [\n",
    "            c[\"patient_id\"],\n",
    "            labels[np.argmax(pred)],\n",
    "            labels[list(pred[0]).index(sorted_pred[-2])],\n",
    "        ]\n",
    "    )"
   ]
  },
  {
   "cell_type": "code",
   "execution_count": null,
   "id": "bb35a2cf",
   "metadata": {},
   "outputs": [],
   "source": [
    "%%time\n",
    "pp_all = raw_data.progress_apply(predict_conditions, axis=1)\n",
    "pp_all.columns = [\"patient_id\", \"First\", \"Second\"]"
   ]
  },
  {
   "cell_type": "code",
   "execution_count": null,
   "id": "125f34ea",
   "metadata": {},
   "outputs": [],
   "source": [
    "pp_all.head()"
   ]
  },
  {
   "cell_type": "code",
   "execution_count": null,
   "id": "911956be",
   "metadata": {},
   "outputs": [],
   "source": [
    "pp_all[\"True_condition\"] = raw_data.condition_predict\n",
    "pp_all.head()"
   ]
  },
  {
   "cell_type": "code",
   "execution_count": null,
   "id": "de4341c5",
   "metadata": {},
   "outputs": [],
   "source": [
    "f\"{pp_all.shape[0]:,}\""
   ]
  },
  {
   "cell_type": "code",
   "execution_count": null,
   "id": "1b9c0d67",
   "metadata": {},
   "outputs": [],
   "source": [
    "plt.subplots(figsize=(15, 15))\n",
    "confm = confusion_matrix(\n",
    "    y_pred=pp_all.First, y_true=pp_all.True_condition, normalize=\"true\"\n",
    ")\n",
    "df_cm = pd.DataFrame(confm, index=labels, columns=labels)\n",
    "ax = sns.heatmap(df_cm, mask=confm == 0, cmap=\"Oranges\", annot=True)\n",
    "ax.set_xlabel(\"Predicted\")\n",
    "ax.set_ylabel(\"True\")\n",
    "ax.set_title(\n",
    "    \"Performance on training data\\nfor first prediction (n =\"\n",
    "    + f\"{pp_all.shape[0]:,}\"\n",
    "    + \")\"\n",
    ")\n",
    "plt.tight_layout()\n",
    "plt.savefig(\n",
    "    \"C:/Users/falco/Desktop/directory/Syndrome_classifier_trainer/outputs/LSTM_02_all_v2_03_30_2023.png\",\n",
    "    dpi=600,\n",
    ")\n",
    "plt.show()"
   ]
  },
  {
   "cell_type": "code",
   "execution_count": null,
   "id": "0650ea7f",
   "metadata": {},
   "outputs": [],
   "source": [
    "def predict_conditions(c):\n",
    "    new_case = [c[\"text\"]]\n",
    "    # print(new_case)\n",
    "    seq = tokenizer.texts_to_sequences(new_case)\n",
    "    padded = pad_sequences(seq, maxlen=MAX_SEQUENCE_LENGTH)\n",
    "    pred = model.predict(padded, verbose=0)\n",
    "    # print(type(list(pred[0])))\n",
    "    # print(\"\")\n",
    "    # print(\"First Prediction\")\n",
    "    # print(pred, labels[np.argmax(pred)])\n",
    "    # print(labels[np.argmax(pred)])\n",
    "    # print(\"\")\n",
    "    # print(\"Second Prediction\")\n",
    "    sorted_pred = sorted(pred[0])\n",
    "    # print(labels[list(pred[0]).index(sorted_pred[-2])])\n",
    "    qq = [\n",
    "        c[\"patient_id\"],\n",
    "        labels[np.argmax(pred)],\n",
    "        np.max(pred),\n",
    "        labels[list(pred[0]).index(sorted_pred[-2])],\n",
    "        sorted_pred[-2],\n",
    "    ] + (list(pred[0]))\n",
    "    return pd.Series(qq)\n",
    "    # return pd.Series([c['patient_id'], labels[np.argmax(pred)], np.max(pred), labels[list(pred[0]).index(sorted_pred[-2])], sorted_pred[-2]])"
   ]
  },
  {
   "cell_type": "code",
   "execution_count": null,
   "id": "bae64d3f",
   "metadata": {},
   "outputs": [],
   "source": [
    "%%time\n",
    "pp2_all = raw_data.progress_apply(predict_conditions, axis=1)\n",
    "pp2_all.columns = [\"patient_id\", \"First\", \"First_pr\", \"Second\", \"Second_pr\"] + list(\n",
    "    range(11)\n",
    ")"
   ]
  },
  {
   "cell_type": "code",
   "execution_count": null,
   "id": "7f0eb3f6",
   "metadata": {},
   "outputs": [],
   "source": [
    "pp2_all"
   ]
  },
  {
   "cell_type": "code",
   "execution_count": null,
   "id": "7f168352",
   "metadata": {},
   "outputs": [],
   "source": [
    "raw_data.head()"
   ]
  },
  {
   "cell_type": "code",
   "execution_count": null,
   "id": "76863198",
   "metadata": {},
   "outputs": [],
   "source": [
    "pp2_all.head()"
   ]
  },
  {
   "cell_type": "code",
   "execution_count": null,
   "id": "8132d3b3",
   "metadata": {},
   "outputs": [],
   "source": [
    "plt.rcParams[\"figure.figsize\"] = (6, 4)\n",
    "plt.hist(pp2_all.First_pr)\n",
    "plt.show()"
   ]
  },
  {
   "cell_type": "code",
   "execution_count": null,
   "id": "4269b6fe",
   "metadata": {},
   "outputs": [],
   "source": [
    "plt.rcParams[\"figure.figsize\"] = (6, 4)\n",
    "plt.hist(pp2_all.Second_pr)\n",
    "plt.show()"
   ]
  },
  {
   "cell_type": "code",
   "execution_count": null,
   "id": "e2b3b9dc",
   "metadata": {},
   "outputs": [],
   "source": [
    "pp2_all[\"pr_diff\"] = pp2_all.First_pr - pp2_all.Second_pr"
   ]
  },
  {
   "cell_type": "code",
   "execution_count": null,
   "id": "b60cf26a",
   "metadata": {},
   "outputs": [],
   "source": [
    "plt.hist(pp2_all.pr_diff)\n",
    "plt.show()"
   ]
  },
  {
   "cell_type": "code",
   "execution_count": null,
   "id": "70ee6f82",
   "metadata": {},
   "outputs": [],
   "source": [
    "plt.rcParams[\"figure.figsize\"] = (20, 10)\n",
    "pp2_all[\"First_pr\"].hist(by=pp2_all[\"First\"])\n",
    "plt.xlim(0, 1)\n",
    "plt.tight_layout()\n",
    "plt.show()"
   ]
  },
  {
   "cell_type": "code",
   "execution_count": null,
   "id": "83a1a1d2",
   "metadata": {},
   "outputs": [],
   "source": [
    "plt.rcParams[\"figure.figsize\"] = (20, 10)\n",
    "pp2_all[\"Second_pr\"].hist(by=pp2_all[\"Second\"])\n",
    "plt.xlim(0, 1)\n",
    "plt.tight_layout()\n",
    "plt.show()"
   ]
  },
  {
   "cell_type": "code",
   "execution_count": null,
   "id": "4ad99768",
   "metadata": {},
   "outputs": [],
   "source": [
    "pp2_all.shape"
   ]
  },
  {
   "cell_type": "code",
   "execution_count": null,
   "id": "319dd204",
   "metadata": {},
   "outputs": [],
   "source": [
    "raw_data.shape"
   ]
  },
  {
   "cell_type": "code",
   "execution_count": null,
   "id": "a485adb1",
   "metadata": {},
   "outputs": [],
   "source": [
    "raw_data.head()"
   ]
  },
  {
   "cell_type": "code",
   "execution_count": null,
   "id": "810b4f48",
   "metadata": {},
   "outputs": [],
   "source": [
    "pp2_all.head()"
   ]
  },
  {
   "cell_type": "code",
   "execution_count": null,
   "id": "6e58465c",
   "metadata": {},
   "outputs": [],
   "source": [
    "result_df = pd.merge(pp2_all, raw_data, on=\"patient_id\", how=\"left\")\n",
    "result_df.head()"
   ]
  },
  {
   "cell_type": "code",
   "execution_count": null,
   "id": "aa763940",
   "metadata": {},
   "outputs": [],
   "source": [
    "result_df.shape"
   ]
  },
  {
   "cell_type": "code",
   "execution_count": null,
   "id": "2871e9ae",
   "metadata": {},
   "outputs": [],
   "source": [
    "result_df[\"number_of_classes\"] = result_df[\"terms\"].str.len()\n",
    "result_df[\"multiple_classes\"] = result_df.number_of_classes.apply(\n",
    "    lambda x: 1 if x > 1 else 0\n",
    ")"
   ]
  },
  {
   "cell_type": "code",
   "execution_count": null,
   "id": "43afe571",
   "metadata": {},
   "outputs": [],
   "source": [
    "result_df[\"pr_diff_inv\"] = 1 - result_df[\"pr_diff\"]"
   ]
  },
  {
   "cell_type": "code",
   "execution_count": null,
   "id": "fa1f38c2",
   "metadata": {},
   "outputs": [],
   "source": [
    "result_df[[\"multiple_classes\", \"pr_diff\", \"pr_diff_inv\"]].head(20)"
   ]
  },
  {
   "cell_type": "code",
   "execution_count": null,
   "id": "7c208999",
   "metadata": {},
   "outputs": [],
   "source": [
    "result_df.head()"
   ]
  },
  {
   "cell_type": "code",
   "execution_count": null,
   "id": "3428f8a0",
   "metadata": {},
   "outputs": [],
   "source": [
    "from sklearn import metrics\n",
    "\n",
    "plt.rcParams[\"figure.figsize\"] = (8, 6)\n",
    "fpr, tpr, threshold = metrics.roc_curve(\n",
    "    result_df.multiple_classes, 1 - result_df.pr_diff\n",
    ")\n",
    "roc_auc = metrics.auc(fpr, tpr)\n",
    "# method I: plt\n",
    "import matplotlib.pyplot as plt\n",
    "\n",
    "plt.title(\"Receiver Operating Characteristic\")\n",
    "plt.plot(fpr, tpr, \"b\", label=\"AUC = %0.2f\" % roc_auc)\n",
    "plt.legend(loc=\"lower right\")\n",
    "plt.plot([0, 1], [0, 1], \"r--\")\n",
    "plt.xlim([0, 1])\n",
    "plt.ylim([0, 1])\n",
    "plt.ylabel(\"True Positive Rate\")\n",
    "plt.xlabel(\"False Positive Rate\")\n",
    "plt.tight_layout()\n",
    "plt.savefig(\n",
    "    \"C:/Users/falco/Desktop/directory/Syndrome_classifier_trainer/outputs/ROC_two_predictions_v2_03_30_2023.png\",\n",
    "    dpi=600,\n",
    ")\n",
    "plt.show()"
   ]
  },
  {
   "cell_type": "code",
   "execution_count": null,
   "id": "13d6caf2",
   "metadata": {},
   "outputs": [],
   "source": [
    "i = np.arange(len(tpr))\n",
    "roc = pd.DataFrame(\n",
    "    {\n",
    "        \"tf\": pd.Series(tpr - (1 - fpr), index=i),\n",
    "        \"threshold\": pd.Series(threshold, index=i),\n",
    "    }\n",
    ")\n",
    "roc_t = roc.iloc[(roc.tf - 0).abs().argsort()[:1]]\n",
    "\n",
    "roc_t[\"threshold\"]"
   ]
  },
  {
   "cell_type": "code",
   "execution_count": null,
   "id": "d4a744fa",
   "metadata": {},
   "outputs": [],
   "source": [
    "roc_t[\"threshold\"].values[0]"
   ]
  },
  {
   "cell_type": "code",
   "execution_count": null,
   "id": "796e1fb9",
   "metadata": {},
   "outputs": [],
   "source": [
    "model.save(\n",
    "    \"C:/Users/falco/Desktop/directory/Syndrome_classifier_trainer/model_v4_03_30_2023.h5\"\n",
    ")"
   ]
  },
  {
   "cell_type": "code",
   "execution_count": null,
   "id": "f5ee0f83",
   "metadata": {},
   "outputs": [],
   "source": [
    "%%time\n",
    "import pickle\n",
    "\n",
    "with open(\n",
    "    \"C:/Users/falco/Desktop/directory/Syndrome_classifier_trainer/keras_tokenizer_v4_03_30_2023.pickle\",\n",
    "    \"wb\",\n",
    ") as handle:\n",
    "    pickle.dump(tokenizer, handle, protocol=pickle.HIGHEST_PROTOCOL)"
   ]
  },
  {
   "cell_type": "code",
   "execution_count": null,
   "id": "95fb9f2e",
   "metadata": {},
   "outputs": [],
   "source": [
    "labels"
   ]
  },
  {
   "cell_type": "code",
   "execution_count": null,
   "id": "f9cfbfcc",
   "metadata": {},
   "outputs": [],
   "source": [
    "new_case = [\"injured, flea ridden, flea, dirt, pale\"]\n",
    "print(new_case)\n",
    "seq = tokenizer.texts_to_sequences(new_case)\n",
    "padded = pad_sequences(seq, maxlen=MAX_SEQUENCE_LENGTH)\n",
    "pred = model.predict(padded)\n",
    "labels = pd.get_dummies(df[\"condition_predict\"]).columns.tolist()\n",
    "sorted_pred = sorted(pred[0])\n",
    "if sorted_pred[-1] - sorted_pred[-2] >= roc_t[\"threshold\"].values[0]:\n",
    "    print(\"Final Clinical Classifiaction Prediction\")\n",
    "    print(labels[np.argmax(pred)])\n",
    "else:\n",
    "    print(\"First Prediction\")\n",
    "    print(labels[np.argmax(pred)])\n",
    "    print(\"\")\n",
    "    print(\"Second Prediction\")\n",
    "    print(labels[list(pred[0]).index(sorted_pred[-2])])"
   ]
  },
  {
   "cell_type": "code",
   "execution_count": null,
   "id": "d24e52e4",
   "metadata": {},
   "outputs": [],
   "source": [
    "result_df.head()"
   ]
  },
  {
   "cell_type": "code",
   "execution_count": null,
   "id": "6bdee2d0",
   "metadata": {},
   "outputs": [],
   "source": [
    "result_df2 = result_df"
   ]
  },
  {
   "cell_type": "code",
   "execution_count": null,
   "id": "fdf0c168",
   "metadata": {},
   "outputs": [],
   "source": [
    "result_df[\"multiple_predictions\"] = np.where(\n",
    "    1 - (result_df[\"First_pr\"] - result_df[\"Second_pr\"])\n",
    "    >= roc_t[\"threshold\"].values[0],\n",
    "    \"Yes\",\n",
    "    \"No\",\n",
    ")\n",
    "result_df[\"predictions\"] = np.where(\n",
    "    (\n",
    "        1 - (result_df[\"First_pr\"] - result_df[\"Second_pr\"])\n",
    "        >= roc_t[\"threshold\"].values[0]\n",
    "    ),\n",
    "    result_df[\"First\"].astype(str) + \", \" + result_df[\"Second\"],\n",
    "    result_df[\"First\"],\n",
    ")"
   ]
  },
  {
   "cell_type": "code",
   "execution_count": null,
   "id": "2061eeaa",
   "metadata": {},
   "outputs": [],
   "source": [
    "result_df.multiple_predictions.value_counts()"
   ]
  },
  {
   "cell_type": "code",
   "execution_count": null,
   "id": "377c8e50",
   "metadata": {},
   "outputs": [],
   "source": [
    "condition1 = (result_df.multiple_predictions == \"Yes\") & (\n",
    "    result_df.First.isin([\"Clinically healthy\", \"Nonspecific\"])\n",
    ")\n",
    "condition2 = (result_df.multiple_predictions == \"Yes\") & (\n",
    "    result_df.Second.isin([\"Clinically healthy\", \"Nonspecific\"])\n",
    ")"
   ]
  },
  {
   "cell_type": "code",
   "execution_count": null,
   "id": "f5740f6c",
   "metadata": {},
   "outputs": [],
   "source": [
    "result_df[condition1].shape"
   ]
  },
  {
   "cell_type": "code",
   "execution_count": null,
   "id": "c261ffb6",
   "metadata": {},
   "outputs": [],
   "source": [
    "result_df[condition2].shape"
   ]
  },
  {
   "cell_type": "code",
   "execution_count": null,
   "id": "dc472d24",
   "metadata": {},
   "outputs": [],
   "source": [
    "result_df[\"multiple_predictions\"] = np.where(\n",
    "    condition1, \"No\", result_df.multiple_predictions\n",
    ")\n",
    "result_df[\"predictions\"] = np.where(\n",
    "    condition1, result_df[\"First\"], result_df[\"predictions\"]\n",
    ")"
   ]
  },
  {
   "cell_type": "code",
   "execution_count": null,
   "id": "b0b6d673",
   "metadata": {},
   "outputs": [],
   "source": [
    "result_df[\n",
    "    (result_df.multiple_predictions == \"Yes\")\n",
    "    & result_df.First.isin([\"Clinically healthy\", \"Nonspecific\"])\n",
    "].shape"
   ]
  },
  {
   "cell_type": "code",
   "execution_count": null,
   "id": "16f316f1",
   "metadata": {},
   "outputs": [],
   "source": [
    "result_df.multiple_predictions.value_counts()"
   ]
  },
  {
   "cell_type": "code",
   "execution_count": null,
   "id": "ef5eb0f2",
   "metadata": {},
   "outputs": [],
   "source": [
    "result_df[\"multiple_predictions\"] = np.where(\n",
    "    condition2, \"No\", result_df.multiple_predictions\n",
    ")\n",
    "result_df[\"predictions\"] = np.where(\n",
    "    condition2, result_df[\"First\"], result_df[\"predictions\"]\n",
    ")"
   ]
  },
  {
   "cell_type": "code",
   "execution_count": null,
   "id": "d6c3b1e3",
   "metadata": {},
   "outputs": [],
   "source": [
    "result_df.multiple_predictions.value_counts()"
   ]
  },
  {
   "cell_type": "code",
   "execution_count": null,
   "id": "0204c54f",
   "metadata": {},
   "outputs": [],
   "source": [
    "3043 - (154 + 185)"
   ]
  },
  {
   "cell_type": "code",
   "execution_count": null,
   "id": "fd8548f0",
   "metadata": {},
   "outputs": [],
   "source": [
    "condition3 = (result_df.multiple_predictions == \"Yes\") & (\n",
    "    result_df.predictions.str.contains(\"Clinically healthy\")\n",
    ")\n",
    "pattern = \"|\".join([\"Clinically healthy\", \",\"])\n",
    "result_df[\"predictions\"] = np.where(\n",
    "    condition3, result_df.predictions.str.replace(pattern, \"\"), result_df.predictions\n",
    ")\n",
    "result_df[\"multiple_predictions\"] = np.where(\n",
    "    condition3, \"No\", result_df.multiple_predictions\n",
    ")"
   ]
  },
  {
   "cell_type": "code",
   "execution_count": null,
   "id": "bb628415",
   "metadata": {},
   "outputs": [],
   "source": [
    "result_df.to_excel(\n",
    "    \"C:/Users/falco/Desktop/directory/Syndrome_classifier_trainer/outputs/Prediction_comparison_v4_03_30_2023.xlsx\"\n",
    ")"
   ]
  },
  {
   "cell_type": "code",
   "execution_count": null,
   "id": "147000eb",
   "metadata": {},
   "outputs": [],
   "source": [
    "result_df.head()"
   ]
  },
  {
   "cell_type": "code",
   "execution_count": null,
   "id": "c8ade912",
   "metadata": {},
   "outputs": [],
   "source": [
    "result_df.predictions.str.split(\",\")"
   ]
  },
  {
   "cell_type": "code",
   "execution_count": null,
   "id": "c280032b",
   "metadata": {},
   "outputs": [],
   "source": [
    "from sklearn.metrics import label_ranking_average_precision_score, top_k_accuracy_score"
   ]
  },
  {
   "cell_type": "code",
   "execution_count": null,
   "id": "ec474606",
   "metadata": {},
   "outputs": [],
   "source": [
    "# top_k_accuracy_score(result_df.condition_predict, result_df.predictions.str.split(','), k=2)"
   ]
  },
  {
   "cell_type": "code",
   "execution_count": null,
   "id": "5252f14d",
   "metadata": {},
   "outputs": [],
   "source": [
    "result_df.columns.tolist()"
   ]
  },
  {
   "cell_type": "code",
   "execution_count": null,
   "id": "58bcf17e",
   "metadata": {},
   "outputs": [],
   "source": [
    "result_df"
   ]
  },
  {
   "cell_type": "code",
   "execution_count": null,
   "id": "f9ae3e96",
   "metadata": {},
   "outputs": [],
   "source": [
    "result_df[\"terms\"].apply(pd.Series)"
   ]
  },
  {
   "cell_type": "code",
   "execution_count": null,
   "id": "b85ef9fa",
   "metadata": {},
   "outputs": [],
   "source": [
    "Y"
   ]
  },
  {
   "cell_type": "code",
   "execution_count": null,
   "id": "cff4545c",
   "metadata": {},
   "outputs": [],
   "source": [
    "raw_data.shape"
   ]
  },
  {
   "cell_type": "code",
   "execution_count": null,
   "id": "4d2935c9",
   "metadata": {},
   "outputs": [],
   "source": [
    "pd.get_dummies(df[\"condition_predict\"]).values"
   ]
  },
  {
   "cell_type": "code",
   "execution_count": null,
   "id": "5979409e",
   "metadata": {},
   "outputs": [],
   "source": [
    "ff = raw_data[[\"patient_id\", \"terms\"]].explode(column=\"terms\")\n",
    "ff = pd.concat([ff, pd.get_dummies(ff[\"terms\"])], axis=1)\n",
    "ff.drop([\"terms\"], axis=1, inplace=True)\n",
    "ff = ff.groupby(\"patient_id\").sum().reset_index()\n",
    "ff"
   ]
  },
  {
   "cell_type": "code",
   "execution_count": null,
   "id": "a8369804",
   "metadata": {},
   "outputs": [],
   "source": [
    "ff.set_index(\"patient_id\").values"
   ]
  },
  {
   "cell_type": "code",
   "execution_count": null,
   "id": "b73ce237",
   "metadata": {},
   "outputs": [],
   "source": [
    "result_df.drop([\"c1\", \"c2\", \"c3\", \"c4\", \"c5\"], axis=1, inplace=True)"
   ]
  },
  {
   "cell_type": "code",
   "execution_count": null,
   "id": "2428bfa0",
   "metadata": {},
   "outputs": [],
   "source": [
    "result_df[result_df.patient_id == 2651830]"
   ]
  },
  {
   "cell_type": "code",
   "execution_count": null,
   "id": "425d0c2f",
   "metadata": {},
   "outputs": [],
   "source": [
    "result_df[result_df.patient_id == 2651830].values"
   ]
  },
  {
   "cell_type": "code",
   "execution_count": null,
   "id": "e664806c",
   "metadata": {},
   "outputs": [],
   "source": [
    "result_df[result_df.patient_id == 2651830][[0, 1, 2, 3, 4, 5, 6, 7, 8, 9, 10]]"
   ]
  },
  {
   "cell_type": "code",
   "execution_count": null,
   "id": "acf7be0d",
   "metadata": {},
   "outputs": [],
   "source": [
    "ff[ff.patient_id == 2651830]"
   ]
  },
  {
   "cell_type": "code",
   "execution_count": null,
   "id": "c9478514",
   "metadata": {},
   "outputs": [],
   "source": [
    "# top_k_accuracy_score(y_true, y_score, k=2)"
   ]
  },
  {
   "cell_type": "code",
   "execution_count": null,
   "id": "94e4d0e8",
   "metadata": {},
   "outputs": [],
   "source": [
    "y_true_multi = ff.set_index(\"patient_id\").values\n",
    "y_score = result_df[[0, 1, 2, 3, 4, 5, 6, 7, 8, 9, 10]].values\n",
    "label_ranking_average_precision_score(y_true_multi, y_score)"
   ]
  },
  {
   "cell_type": "code",
   "execution_count": null,
   "id": "93a5ee3b",
   "metadata": {},
   "outputs": [],
   "source": [
    "label_ranking_average_precision_score"
   ]
  },
  {
   "cell_type": "code",
   "execution_count": null,
   "id": "fe856bc2",
   "metadata": {},
   "outputs": [],
   "source": [
    "temp_result_df = result_df[\n",
    "    result_df.multiple_predictions == \"Yes\"\n",
    "]  # [[0, 1, 2,3,4,5,6,7,8,9,10]].values"
   ]
  },
  {
   "cell_type": "code",
   "execution_count": null,
   "id": "878730ce",
   "metadata": {},
   "outputs": [],
   "source": [
    "temp_ff = ff[\n",
    "    ff.patient_id.isin(\n",
    "        result_df[result_df.multiple_predictions == \"Yes\"].patient_id.unique().tolist()\n",
    "    )\n",
    "]\n",
    "temp_ff"
   ]
  },
  {
   "cell_type": "code",
   "execution_count": null,
   "id": "39e5787e",
   "metadata": {},
   "outputs": [],
   "source": [
    "t = temp_ff.columns.tolist()\n",
    "del t[0]"
   ]
  },
  {
   "cell_type": "code",
   "execution_count": null,
   "id": "39cdd8cf",
   "metadata": {},
   "outputs": [],
   "source": [
    "t"
   ]
  },
  {
   "cell_type": "code",
   "execution_count": null,
   "id": "85fd94e4",
   "metadata": {},
   "outputs": [],
   "source": [
    "t_ff_df = pd.merge(temp_ff, temp_result_df, on=\"patient_id\")"
   ]
  },
  {
   "cell_type": "code",
   "execution_count": null,
   "id": "6ea7e8d7",
   "metadata": {},
   "outputs": [],
   "source": [
    "y_true_multi = t_ff_df[t].values\n",
    "y_score = t_ff_df[[0, 1, 2, 3, 4, 5, 6, 7, 8, 9, 10]].values\n",
    "label_ranking_average_precision_score(y_true_multi, y_score)"
   ]
  },
  {
   "cell_type": "code",
   "execution_count": null,
   "id": "a04580f5",
   "metadata": {},
   "outputs": [],
   "source": [
    "X_test_df"
   ]
  },
  {
   "cell_type": "markdown",
   "id": "ec7470ab",
   "metadata": {},
   "source": [
    "## Testing ranking_average_precision_score for Test data only"
   ]
  },
  {
   "cell_type": "code",
   "execution_count": null,
   "id": "412741b9",
   "metadata": {},
   "outputs": [],
   "source": [
    "filter_df_test_data = raw_data.filter(items=X_test_df.index.tolist(), axis=0)"
   ]
  },
  {
   "cell_type": "code",
   "execution_count": null,
   "id": "cadb6fff",
   "metadata": {},
   "outputs": [],
   "source": [
    "test_patients = filter_df_test_data.patient_id.unique().tolist()\n",
    "multiple_clinical_patients = ff.patient_id.isin(\n",
    "    result_df[result_df.multiple_predictions == \"Yes\"].patient_id.unique().tolist()\n",
    ")"
   ]
  },
  {
   "cell_type": "code",
   "execution_count": null,
   "id": "433c5901",
   "metadata": {},
   "outputs": [],
   "source": [
    "test_results_df = result_df[result_df.patient_id.isin(test_patients)]\n",
    "test_results_df_multi = test_results_df[test_results_df.multiple_predictions == \"Yes\"]\n",
    "test_results_df_multi_patients = test_results_df_multi.patient_id.unique().tolist()"
   ]
  },
  {
   "cell_type": "code",
   "execution_count": null,
   "id": "e594df91",
   "metadata": {},
   "outputs": [],
   "source": [
    "test_ff = ff[ff.patient_id.isin(test_results_df_multi_patients)]"
   ]
  },
  {
   "cell_type": "code",
   "execution_count": null,
   "id": "8be5c9fb",
   "metadata": {},
   "outputs": [],
   "source": [
    "test_ff"
   ]
  },
  {
   "cell_type": "code",
   "execution_count": null,
   "id": "11ea7e97",
   "metadata": {},
   "outputs": [],
   "source": [
    "t_ff_df_test = pd.merge(test_ff, result_df, on=\"patient_id\", how=\"left\")\n",
    "t_ff_df_test.shape"
   ]
  },
  {
   "cell_type": "code",
   "execution_count": null,
   "id": "9700cec8",
   "metadata": {},
   "outputs": [],
   "source": [
    "y_true_multi_test = t_ff_df_test[t].values\n",
    "y_score_test = t_ff_df_test[[0, 1, 2, 3, 4, 5, 6, 7, 8, 9, 10]].values\n",
    "label_ranking_average_precision_score(y_true_multi_test, y_score_test)"
   ]
  }
 ],
 "metadata": {
  "kernelspec": {
   "display_name": "Python 3 (ipykernel)",
   "language": "python",
   "name": "python3"
  },
  "language_info": {
   "codemirror_mode": {
    "name": "ipython",
    "version": 3
   },
   "file_extension": ".py",
   "mimetype": "text/x-python",
   "name": "python",
   "nbconvert_exporter": "python",
   "pygments_lexer": "ipython3",
   "version": "3.11.6"
  }
 },
 "nbformat": 4,
 "nbformat_minor": 5
}
