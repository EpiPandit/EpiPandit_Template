{
 "cells": [
  {
   "cell_type": "code",
   "execution_count": 2,
   "id": "5cb7e827-74b3-42d0-af48-ad445bb0fe27",
   "metadata": {},
   "outputs": [],
   "source": [
    "from transformers import (AutoTokenizer,\n",
    "                          AutoModelForSequenceClassification, \n",
    "                          TrainingArguments, \n",
    "                          Trainer)\n",
    "from datasets import load_dataset\n",
    "\n",
    "from pathlib import Path\n",
    "import numpy as np"
   ]
  },
  {
   "cell_type": "code",
   "execution_count": 3,
   "id": "278eb69b-a454-4435-b594-3589a4786f67",
   "metadata": {},
   "outputs": [],
   "source": [
    "data_dir = Path(\"../data/processed/\")\n",
    "ckpt = \"distilbert-base-uncased\""
   ]
  },
  {
   "cell_type": "code",
   "execution_count": 4,
   "id": "6e23d9a2-654e-4b7b-a3a6-9db971864d27",
   "metadata": {},
   "outputs": [
    {
     "data": {
      "text/plain": [
       "DatasetDict({\n",
       "    train: Dataset({\n",
       "        features: ['labels', 'input_ids', 'token_type_ids', 'attention_mask'],\n",
       "        num_rows: 9547\n",
       "    })\n",
       "    val: Dataset({\n",
       "        features: ['labels', 'input_ids', 'token_type_ids', 'attention_mask'],\n",
       "        num_rows: 2387\n",
       "    })\n",
       "    test: Dataset({\n",
       "        features: ['labels', 'input_ids', 'token_type_ids', 'attention_mask'],\n",
       "        num_rows: 2106\n",
       "    })\n",
       "})"
      ]
     },
     "execution_count": 4,
     "metadata": {},
     "output_type": "execute_result"
    }
   ],
   "source": [
    "data_files = {\n",
    "    \"train\": str(data_dir/\"wndp-api-data-train.parquet\"),\n",
    "    \"val\": str(data_dir/\"wndp-api-data-val.parquet\"),\n",
    "    \"test\": str(data_dir/\"wndp-api-data-test.parquet\"),\n",
    "}\n",
    "\n",
    "ds = load_dataset(\"parquet\", data_files=data_files)\n",
    "ds.set_format(\"torch\")\n",
    "ds"
   ]
  },
  {
   "cell_type": "code",
   "execution_count": 5,
   "id": "3acde360-3e91-447d-bc88-15865f855237",
   "metadata": {},
   "outputs": [],
   "source": [
    "labels = [\n",
    "    'clinically_healthy',\n",
    "    'dermatologic_disease',\n",
    "    'gastrointestinal_disease',\n",
    "    'hematologic_disease',\n",
    "    'neurologic_disease',\n",
    "    'nonspecific',\n",
    "    'nutritional_disease',\n",
    "    'ocular_disease',\n",
    "    'physical_injury',\n",
    "    'respiratory_disease',\n",
    "    'urogenital_disease'\n",
    "]\n",
    "id2label = {idx:label for idx,label in enumerate(labels)}\n",
    "label2id = {label:idx for idx,label in enumerate(labels)}"
   ]
  },
  {
   "cell_type": "code",
   "execution_count": 6,
   "id": "65397fa9-5260-43d6-8d4c-b5f438d90b16",
   "metadata": {},
   "outputs": [],
   "source": [
    "num_labels = len(ds[\"train\"][0][\"labels\"])\n",
    "tokenizer = AutoTokenizer.from_pretrained(ckpt, use_fast=True)"
   ]
  },
  {
   "cell_type": "code",
   "execution_count": 7,
   "id": "f512091c-5797-4806-8575-73a07401e4ce",
   "metadata": {},
   "outputs": [
    {
     "data": {
      "text/plain": [
       "dict_keys(['labels', 'input_ids', 'token_type_ids', 'attention_mask'])"
      ]
     },
     "execution_count": 7,
     "metadata": {},
     "output_type": "execute_result"
    }
   ],
   "source": [
    "sample = ds[\"train\"][0]\n",
    "sample.keys()"
   ]
  },
  {
   "cell_type": "code",
   "execution_count": 8,
   "id": "52993164-ca62-4804-9552-289d4aafb1b1",
   "metadata": {},
   "outputs": [
    {
     "data": {
      "text/plain": [
       "'[CLS] collision - car ( 2 separate calls in the afternoon about an owl on the side of the road just before the weigh station on the id side of the pass ( though still in wy ). bc and ca went and picked up the bird at about 3 : 15p. found readily. ). trauma - head ; eye trauma - uveitis ( l ). eyes / ears / mouth / nares : left pupil is enlarged and left ear has fresh blood coming out of it. blood in the mouth that appears to be coming from the sinus area. neurologic : head trauma. left pupil is enlarged and left [SEP]'"
      ]
     },
     "execution_count": 8,
     "metadata": {},
     "output_type": "execute_result"
    }
   ],
   "source": [
    "tokenizer.decode(sample[\"input_ids\"])"
   ]
  },
  {
   "cell_type": "code",
   "execution_count": 9,
   "id": "7802268a-daf3-4f06-901f-360a68f00068",
   "metadata": {},
   "outputs": [
    {
     "data": {
      "text/plain": [
       "tensor([0., 0., 0., 0., 1., 0., 0., 1., 1., 0., 0.])"
      ]
     },
     "execution_count": 9,
     "metadata": {},
     "output_type": "execute_result"
    }
   ],
   "source": [
    "sample[\"labels\"]"
   ]
  },
  {
   "cell_type": "code",
   "execution_count": 10,
   "id": "af3b9a5b-d8bd-46de-b01d-33a424ae1622",
   "metadata": {},
   "outputs": [
    {
     "data": {
      "text/plain": [
       "['neurologic_disease', 'ocular_disease', 'physical_injury']"
      ]
     },
     "execution_count": 10,
     "metadata": {},
     "output_type": "execute_result"
    }
   ],
   "source": [
    "[id2label[idx] for idx, label in enumerate(sample['labels']) if label == 1.0]"
   ]
  },
  {
   "cell_type": "code",
   "execution_count": 11,
   "id": "47764bbc-64ec-40bb-89b6-30ab9659933c",
   "metadata": {},
   "outputs": [
    {
     "name": "stderr",
     "output_type": "stream",
     "text": [
      "Some weights of DistilBertForSequenceClassification were not initialized from the model checkpoint at distilbert-base-uncased and are newly initialized: ['classifier.bias', 'classifier.weight', 'pre_classifier.bias', 'pre_classifier.weight']\n",
      "You should probably TRAIN this model on a down-stream task to be able to use it for predictions and inference.\n"
     ]
    }
   ],
   "source": [
    "model = AutoModelForSequenceClassification.from_pretrained(\n",
    "            ckpt,\n",
    "            num_labels=num_labels,\n",
    "            problem_type=\"multi_label_classification\",\n",
    "            id2label=id2label,\n",
    "            label2id=label2id\n",
    "        )"
   ]
  },
  {
   "cell_type": "code",
   "execution_count": 12,
   "id": "f1bbd3d4-cfef-4a12-93ce-028f6b69a519",
   "metadata": {},
   "outputs": [],
   "source": [
    "batch_size = 64\n",
    "metric_name = \"f1\""
   ]
  },
  {
   "cell_type": "code",
   "execution_count": 13,
   "id": "bf606e5d-8b0f-4a76-98c4-02fc61f611a2",
   "metadata": {},
   "outputs": [],
   "source": [
    "args = TrainingArguments(\n",
    "    f\"wndp-exp\",\n",
    "    evaluation_strategy=\"epoch\",\n",
    "    save_strategy=\"epoch\",\n",
    "    learning_rate=1e-4,\n",
    "    num_train_epochs=10,\n",
    "    weight_decay=1e-2,\n",
    "    per_device_train_batch_size=batch_size,\n",
    "    per_device_eval_batch_size=batch_size,\n",
    "    load_best_model_at_end=True,\n",
    "    metric_for_best_model=metric_name\n",
    ")"
   ]
  },
  {
   "cell_type": "code",
   "execution_count": 14,
   "id": "6f9ce51a-ea9d-401a-bd88-042e128121ec",
   "metadata": {},
   "outputs": [],
   "source": [
    "from sklearn.metrics import f1_score, roc_auc_score, accuracy_score\n",
    "from transformers import EvalPrediction\n",
    "import torch\n",
    "    \n",
    "# source: https://jesusleal.io/2021/04/21/Longformer-multilabel-classification/\n",
    "def multi_label_metrics(predictions, labels, threshold=0.5):\n",
    "    # first, apply sigmoid on predictions which are of shape (batch_size, num_labels)\n",
    "    sigmoid = torch.nn.Sigmoid()\n",
    "    probs = sigmoid(torch.Tensor(predictions))\n",
    "    # next, use threshold to turn them into integer predictions\n",
    "    y_pred = np.zeros(probs.shape)\n",
    "    y_pred[np.where(probs >= threshold)] = 1\n",
    "    # finally, compute metrics\n",
    "    y_true = labels\n",
    "    f1_micro_average = f1_score(y_true=y_true, y_pred=y_pred, average='micro')\n",
    "    roc_auc = roc_auc_score(y_true, y_pred, average = 'micro')\n",
    "    accuracy = accuracy_score(y_true, y_pred)\n",
    "    # return as dictionary\n",
    "    metrics = {'f1': f1_micro_average,\n",
    "               'roc_auc': roc_auc,\n",
    "               'accuracy': accuracy}\n",
    "    return metrics\n",
    "\n",
    "def compute_metrics(p: EvalPrediction):\n",
    "    preds = p.predictions[0] if isinstance(p.predictions, \n",
    "            tuple) else p.predictions\n",
    "    result = multi_label_metrics(\n",
    "        predictions=preds, \n",
    "        labels=p.label_ids)\n",
    "    return result"
   ]
  },
  {
   "cell_type": "code",
   "execution_count": 15,
   "id": "9734c819-a077-42fe-aee9-9d398f042bd2",
   "metadata": {},
   "outputs": [
    {
     "data": {
      "text/plain": [
       "tensor([0., 0., 0., 0., 1., 0., 0., 1., 1., 0., 0.])"
      ]
     },
     "execution_count": 15,
     "metadata": {},
     "output_type": "execute_result"
    }
   ],
   "source": [
    "ds[\"train\"][0][\"labels\"]"
   ]
  },
  {
   "cell_type": "code",
   "execution_count": 16,
   "id": "fbfc051e-8fc0-49d8-b2ab-67946c042b87",
   "metadata": {},
   "outputs": [
    {
     "data": {
      "text/plain": [
       "tensor([  101, 12365,  1011,  2482,  1006,  1016,  3584,  4455,  1999,  1996,\n",
       "         5027,  2055,  2019, 13547,  2006,  1996,  2217,  1997,  1996,  2346,\n",
       "         2074,  2077,  1996, 17042,  2276,  2006,  1996,  8909,  2217,  1997,\n",
       "         1996,  3413,  1006,  2295,  2145,  1999,  1059,  2100,  1007,  1012,\n",
       "         4647,  1998,  6187,  2253,  1998,  3856,  2039,  1996,  4743,  2012,\n",
       "         2055,  1017,  1024,  2321,  2361,  1012,  2179, 12192,  1012,  1007,\n",
       "         1012, 12603,  1011,  2132,  1025,  3239, 12603,  1011, 23068, 20175,\n",
       "         2483,  1006,  1048,  1007,  1012,  2159,  1013,  5551,  1013,  2677,\n",
       "         1013,  6583,  6072,  1024,  2187, 11136,  2003, 11792,  1998,  2187,\n",
       "         4540,  2038,  4840,  2668,  2746,  2041,  1997,  2009,  1012,  2668,\n",
       "         1999,  1996,  2677,  2008,  3544,  2000,  2022,  2746,  2013,  1996,\n",
       "         8254,  2271,  2181,  1012, 11265, 10976, 27179,  1024,  2132, 12603,\n",
       "         1012,  2187, 11136,  2003, 11792,  1998,  2187,   102])"
      ]
     },
     "execution_count": 16,
     "metadata": {},
     "output_type": "execute_result"
    }
   ],
   "source": [
    "ds[\"train\"][\"input_ids\"][0]"
   ]
  },
  {
   "cell_type": "code",
   "execution_count": 17,
   "id": "cb03122d-fb4c-48bd-b8f2-0a9f27f11ca8",
   "metadata": {},
   "outputs": [
    {
     "data": {
      "text/plain": [
       "tensor([[-0.0525,  0.1150,  0.0513, -0.1181,  0.0271,  0.1413, -0.0987,  0.0019,\n",
       "         -0.0383, -0.0723, -0.0325]], grad_fn=<AddmmBackward0>)"
      ]
     },
     "execution_count": 17,
     "metadata": {},
     "output_type": "execute_result"
    }
   ],
   "source": [
    "outputs = model(\n",
    "            input_ids=ds[\"train\"][\"input_ids\"][0].unsqueeze(0),\n",
    "            labels=ds[\"train\"][0][\"labels\"].unsqueeze(0)            \n",
    ")\n",
    "outputs.logits"
   ]
  },
  {
   "cell_type": "code",
   "execution_count": 18,
   "id": "c7440f1c-5715-4cce-8a9c-aa7f2f0b4168",
   "metadata": {},
   "outputs": [],
   "source": [
    "trainer = Trainer(\n",
    "    model,\n",
    "    args,\n",
    "    train_dataset=ds[\"train\"],\n",
    "    eval_dataset=ds[\"val\"],\n",
    "    tokenizer=tokenizer,\n",
    "    compute_metrics=compute_metrics\n",
    ")"
   ]
  },
  {
   "cell_type": "code",
   "execution_count": 19,
   "id": "36aaf773-ba25-42b5-835f-9c60a71da576",
   "metadata": {},
   "outputs": [
    {
     "name": "stderr",
     "output_type": "stream",
     "text": [
      "You're using a DistilBertTokenizerFast tokenizer. Please note that with a fast tokenizer, using the `__call__` method is faster than using a method to encode the text followed by a call to the `pad` method to get a padded encoding.\n"
     ]
    },
    {
     "data": {
      "text/html": [
       "\n",
       "    <div>\n",
       "      \n",
       "      <progress value='1500' max='1500' style='width:300px; height:20px; vertical-align: middle;'></progress>\n",
       "      [1500/1500 1:51:09, Epoch 10/10]\n",
       "    </div>\n",
       "    <table border=\"1\" class=\"dataframe\">\n",
       "  <thead>\n",
       " <tr style=\"text-align: left;\">\n",
       "      <th>Epoch</th>\n",
       "      <th>Training Loss</th>\n",
       "      <th>Validation Loss</th>\n",
       "      <th>F1</th>\n",
       "      <th>Roc Auc</th>\n",
       "      <th>Accuracy</th>\n",
       "    </tr>\n",
       "  </thead>\n",
       "  <tbody>\n",
       "    <tr>\n",
       "      <td>1</td>\n",
       "      <td>No log</td>\n",
       "      <td>0.131074</td>\n",
       "      <td>0.783668</td>\n",
       "      <td>0.846420</td>\n",
       "      <td>0.641391</td>\n",
       "    </tr>\n",
       "    <tr>\n",
       "      <td>2</td>\n",
       "      <td>No log</td>\n",
       "      <td>0.103688</td>\n",
       "      <td>0.832922</td>\n",
       "      <td>0.898346</td>\n",
       "      <td>0.702556</td>\n",
       "    </tr>\n",
       "    <tr>\n",
       "      <td>3</td>\n",
       "      <td>No log</td>\n",
       "      <td>0.098942</td>\n",
       "      <td>0.849139</td>\n",
       "      <td>0.914972</td>\n",
       "      <td>0.724759</td>\n",
       "    </tr>\n",
       "    <tr>\n",
       "      <td>4</td>\n",
       "      <td>0.133900</td>\n",
       "      <td>0.102042</td>\n",
       "      <td>0.852691</td>\n",
       "      <td>0.917778</td>\n",
       "      <td>0.732719</td>\n",
       "    </tr>\n",
       "    <tr>\n",
       "      <td>5</td>\n",
       "      <td>0.133900</td>\n",
       "      <td>0.106306</td>\n",
       "      <td>0.852102</td>\n",
       "      <td>0.908435</td>\n",
       "      <td>0.736489</td>\n",
       "    </tr>\n",
       "    <tr>\n",
       "      <td>6</td>\n",
       "      <td>0.133900</td>\n",
       "      <td>0.111819</td>\n",
       "      <td>0.857694</td>\n",
       "      <td>0.920284</td>\n",
       "      <td>0.741935</td>\n",
       "    </tr>\n",
       "    <tr>\n",
       "      <td>7</td>\n",
       "      <td>0.038300</td>\n",
       "      <td>0.118829</td>\n",
       "      <td>0.855172</td>\n",
       "      <td>0.919756</td>\n",
       "      <td>0.738165</td>\n",
       "    </tr>\n",
       "    <tr>\n",
       "      <td>8</td>\n",
       "      <td>0.038300</td>\n",
       "      <td>0.123800</td>\n",
       "      <td>0.859615</td>\n",
       "      <td>0.922573</td>\n",
       "      <td>0.743192</td>\n",
       "    </tr>\n",
       "    <tr>\n",
       "      <td>9</td>\n",
       "      <td>0.038300</td>\n",
       "      <td>0.125703</td>\n",
       "      <td>0.857648</td>\n",
       "      <td>0.920145</td>\n",
       "      <td>0.741935</td>\n",
       "    </tr>\n",
       "    <tr>\n",
       "      <td>10</td>\n",
       "      <td>0.013200</td>\n",
       "      <td>0.127081</td>\n",
       "      <td>0.855297</td>\n",
       "      <td>0.917393</td>\n",
       "      <td>0.738165</td>\n",
       "    </tr>\n",
       "  </tbody>\n",
       "</table><p>"
      ],
      "text/plain": [
       "<IPython.core.display.HTML object>"
      ]
     },
     "metadata": {},
     "output_type": "display_data"
    },
    {
     "name": "stdout",
     "output_type": "stream",
     "text": [
      "CPU times: total: 1h 16min 37s\n",
      "Wall time: 1h 51min 12s\n"
     ]
    },
    {
     "data": {
      "text/plain": [
       "TrainOutput(global_step=1500, training_loss=0.061807768185933434, metrics={'train_runtime': 6672.0794, 'train_samples_per_second': 14.309, 'train_steps_per_second': 0.225, 'total_flos': 3162173091786240.0, 'train_loss': 0.061807768185933434, 'epoch': 10.0})"
      ]
     },
     "execution_count": 19,
     "metadata": {},
     "output_type": "execute_result"
    }
   ],
   "source": [
    "%%time\n",
    "trainer.train()"
   ]
  },
  {
   "cell_type": "code",
   "execution_count": 20,
   "id": "03c86ede-b5bc-4f13-a929-e33882c7de1d",
   "metadata": {},
   "outputs": [
    {
     "data": {
      "text/html": [
       "\n",
       "    <div>\n",
       "      \n",
       "      <progress value='38' max='38' style='width:300px; height:20px; vertical-align: middle;'></progress>\n",
       "      [38/38 00:31]\n",
       "    </div>\n",
       "    "
      ],
      "text/plain": [
       "<IPython.core.display.HTML object>"
      ]
     },
     "metadata": {},
     "output_type": "display_data"
    },
    {
     "data": {
      "text/plain": [
       "{'eval_loss': 0.12380031496286392,\n",
       " 'eval_f1': 0.8596153846153847,\n",
       " 'eval_roc_auc': 0.9225732951924468,\n",
       " 'eval_accuracy': 0.7431922915793884,\n",
       " 'eval_runtime': 32.9476,\n",
       " 'eval_samples_per_second': 72.448,\n",
       " 'eval_steps_per_second': 1.153,\n",
       " 'epoch': 10.0}"
      ]
     },
     "execution_count": 20,
     "metadata": {},
     "output_type": "execute_result"
    }
   ],
   "source": [
    "trainer.evaluate()"
   ]
  },
  {
   "cell_type": "code",
   "execution_count": 32,
   "id": "ee72a87e-572f-49df-91a5-afd26d4b27b9",
   "metadata": {},
   "outputs": [],
   "source": [
    "sample = \"found on the ground by window - breathing hard, eyes not open, couldn't stand up, ants covering him, some spazmotic movements of leg, wing, seemed better today. emaciated fledgling with torticollis. Neurologic: torticollis Legs / Feet / Hocks: not using legs. poor prognosis given age, emaciation, and degree of debilitation\""
   ]
  },
  {
   "cell_type": "markdown",
   "id": "5f1abd0f-8849-430b-bc87-493b1954a739",
   "metadata": {},
   "source": [
    "### example text"
   ]
  },
  {
   "cell_type": "markdown",
   "id": "aba1887d-1af1-4b0a-9754-8eb40e0442f4",
   "metadata": {},
   "source": [
    "sample = \"found on the ground by window - breathing hard, eyes not open, couldn't stand up, ants covering him, some spazmotic movements of leg, wing, seemed better today. emaciated fledgling with torticollis. Neurologic: torticollis Legs / Feet / Hocks: not using legs. poor prognosis given age, emaciation, and degree of debilitation\""
   ]
  },
  {
   "cell_type": "code",
   "execution_count": 22,
   "id": "9a239767-87bb-425f-b1c1-180670f54a44",
   "metadata": {},
   "outputs": [],
   "source": [
    "enc = tokenizer(sample, return_tensors=\"pt\")"
   ]
  },
  {
   "cell_type": "code",
   "execution_count": 23,
   "id": "bb51c2f6-464f-471b-87b2-e19ed15d9c41",
   "metadata": {},
   "outputs": [],
   "source": [
    "enc = {k: v.to(trainer.model.device) for k,v in enc.items()}"
   ]
  },
  {
   "cell_type": "code",
   "execution_count": 24,
   "id": "7a4185ec-9090-4321-b157-dece9588303c",
   "metadata": {},
   "outputs": [],
   "source": [
    "outputs = trainer.model(**enc)"
   ]
  },
  {
   "cell_type": "code",
   "execution_count": 25,
   "id": "4956a99f-c3c0-4fc2-860f-512bfcac48a2",
   "metadata": {},
   "outputs": [
    {
     "data": {
      "text/plain": [
       "SequenceClassifierOutput(loss=None, logits=tensor([[-7.6655, -7.0422, -6.6422, -7.1536,  5.8147, -8.2998,  3.2121, -5.6077,\n",
       "         -4.8006, -5.8661, -7.4474]], device='cuda:0',\n",
       "       grad_fn=<AddmmBackward0>), hidden_states=None, attentions=None)"
      ]
     },
     "execution_count": 25,
     "metadata": {},
     "output_type": "execute_result"
    }
   ],
   "source": [
    "outputs"
   ]
  },
  {
   "cell_type": "code",
   "execution_count": 26,
   "id": "90366e11-fdea-4f48-a432-175101ddb22f",
   "metadata": {},
   "outputs": [],
   "source": [
    "import torch.nn.functional as F"
   ]
  },
  {
   "cell_type": "code",
   "execution_count": 27,
   "id": "aacb01d6-4dac-4863-a1c8-ebfd37657712",
   "metadata": {},
   "outputs": [],
   "source": [
    "probs = F.sigmoid(outputs.logits.squeeze().detach().cpu())"
   ]
  },
  {
   "cell_type": "code",
   "execution_count": 28,
   "id": "d70db937-187f-4cf1-bca7-3af7115a03f5",
   "metadata": {},
   "outputs": [
    {
     "data": {
      "text/plain": [
       "tensor([4.6848e-04, 8.7343e-04, 1.3025e-03, 7.8141e-04, 9.9703e-01, 2.4851e-04,\n",
       "        9.6129e-01, 3.6562e-03, 8.1578e-03, 2.8259e-03, 5.8260e-04])"
      ]
     },
     "execution_count": 28,
     "metadata": {},
     "output_type": "execute_result"
    }
   ],
   "source": [
    "probs"
   ]
  },
  {
   "cell_type": "code",
   "execution_count": 29,
   "id": "f2cd370d-b8d1-4769-8fd4-a1a192855070",
   "metadata": {},
   "outputs": [],
   "source": [
    "preds = (probs > 0.5).int()"
   ]
  },
  {
   "cell_type": "code",
   "execution_count": 30,
   "id": "b9e7c3b1-ab86-49ac-8eba-200bcf189b70",
   "metadata": {},
   "outputs": [],
   "source": [
    "predicted_labels = [id2label[idx] for idx, label in enumerate(preds) if label == 1.0]"
   ]
  },
  {
   "cell_type": "code",
   "execution_count": 31,
   "id": "caf99ca4-f7bc-4f57-aebc-68afa26944d1",
   "metadata": {},
   "outputs": [
    {
     "data": {
      "text/plain": [
       "['neurologic_disease', 'nutritional_disease']"
      ]
     },
     "execution_count": 31,
     "metadata": {},
     "output_type": "execute_result"
    }
   ],
   "source": [
    "predicted_labels"
   ]
  }
 ],
 "metadata": {
  "kernelspec": {
   "display_name": "Python 3 (ipykernel)",
   "language": "python",
   "name": "python3"
  },
  "language_info": {
   "codemirror_mode": {
    "name": "ipython",
    "version": 3
   },
   "file_extension": ".py",
   "mimetype": "text/x-python",
   "name": "python",
   "nbconvert_exporter": "python",
   "pygments_lexer": "ipython3",
   "version": "3.11.6"
  }
 },
 "nbformat": 4,
 "nbformat_minor": 5
}
