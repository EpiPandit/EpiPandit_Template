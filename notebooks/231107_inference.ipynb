{
 "cells": [
  {
   "cell_type": "code",
   "execution_count": null,
   "id": "21635fe5-8db8-4be6-8eb5-a0be09273c4b",
   "metadata": {},
   "outputs": [],
   "source": [
    "from transformers import AutoTokenizer, AutoModelForSequenceClassification, PretrainedConfig\n",
    "\n",
    "import pandas as pd\n",
    "import torch\n",
    "import torch.nn.functional as F"
   ]
  },
  {
   "cell_type": "code",
   "execution_count": null,
   "id": "db0c87b1-b306-4ba7-8db7-b693d4572615",
   "metadata": {},
   "outputs": [],
   "source": [
    "data = pd.read_csv(\"../data/raw/wndp_api.csv\")"
   ]
  },
  {
   "cell_type": "code",
   "execution_count": null,
   "id": "6a3ca891-7495-4901-881e-7ee2d9a5f24e",
   "metadata": {},
   "outputs": [],
   "source": [
    "tokenizer = AutoTokenizer.from_pretrained(\"wndp-exp/checkpoint-1500/\")\n",
    "model = AutoModelForSequenceClassification.from_pretrained(\"wndp-exp/checkpoint-1500/\")\n",
    "config = PretrainedConfig.from_pretrained(\"wndp-exp/checkpoint-1500/\")"
   ]
  },
  {
   "cell_type": "code",
   "execution_count": null,
   "id": "c7aec2de-eef6-4d18-8091-e55f9fdf5185",
   "metadata": {},
   "outputs": [],
   "source": [
    "sample = \"found on the ground by window - breathing hard, eyes not open, couldn't stand up, ants covering him, some spazmotic movements of leg, wing, seemed better today. emaciated fledgling with torticollis. Neurologic: torticollis Legs / Feet / Hocks: not using legs. poor prognosis given age, emaciation, and degree of debilitation\""
   ]
  },
  {
   "cell_type": "code",
   "execution_count": null,
   "id": "2cee1ee2-9d81-4508-8176-b5b59041a615",
   "metadata": {},
   "outputs": [],
   "source": [
    "device = torch.device(\"cuda\")\n",
    "model = model.to(device)"
   ]
  },
  {
   "cell_type": "code",
   "execution_count": null,
   "id": "3d859cae-eb88-4cd6-9e00-b180ec62d32a",
   "metadata": {},
   "outputs": [],
   "source": [
    "def _pre(text, device):\n",
    "    tokens = tokenizer(text, return_tensors=\"pt\")\n",
    "    tokens = {k: v.to(device) for k,v in tokens.items()}\n",
    "    return tokens\n",
    "\n",
    "def _inf(model, tokens):\n",
    "    out = model(**tokens)\n",
    "    return out\n",
    "\n",
    "def _post(out):\n",
    "    probs = F.sigmoid(out.logits.squeeze().detach().cpu())\n",
    "    preds = (probs > 0.5).int()\n",
    "    labels = [config.id2label[idx] for idx, label in enumerate(preds) if label == 1.0]\n",
    "    return labels\n",
    "\n",
    "def infer(model, text):\n",
    "    tokens = _pre(text, model.device)\n",
    "    out = _inf(model, tokens)\n",
    "    pred = _post(out)\n",
    "    return pred"
   ]
  },
  {
   "cell_type": "code",
   "execution_count": null,
   "id": "b0eb4dee-1575-4120-8b1c-d892d98a35b8",
   "metadata": {},
   "outputs": [],
   "source": [
    "infer(model, sample)"
   ]
  },
  {
   "cell_type": "code",
   "execution_count": null,
   "id": "4605f8a5-c713-41fc-96d0-5740c8bd64aa",
   "metadata": {},
   "outputs": [],
   "source": [
    "for _,row in data.head(20).iterrows():\n",
    "    print(row[\"text\"])\n",
    "    print(\"actuals: \", row[\"terms\"])\n",
    "    print(\"predics: \", infer(model, row[\"text\"]))\n",
    "    print(\"=\"*20)"
   ]
  },
  {
   "cell_type": "code",
   "execution_count": null,
   "id": "437de484-12b3-40ef-a415-e5f1b0348259",
   "metadata": {},
   "outputs": [],
   "source": []
  }
 ],
 "metadata": {
  "kernelspec": {
   "display_name": "Python 3 (ipykernel)",
   "language": "python",
   "name": "python3"
  },
  "language_info": {
   "codemirror_mode": {
    "name": "ipython",
    "version": 3
   },
   "file_extension": ".py",
   "mimetype": "text/x-python",
   "name": "python",
   "nbconvert_exporter": "python",
   "pygments_lexer": "ipython3",
   "version": "3.11.6"
  }
 },
 "nbformat": 4,
 "nbformat_minor": 5
}
