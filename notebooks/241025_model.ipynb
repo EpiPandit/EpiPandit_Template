{
 "cells": [
  {
   "cell_type": "code",
   "execution_count": null,
   "id": "5cb7e827-74b3-42d0-af48-ad445bb0fe27",
   "metadata": {},
   "outputs": [],
   "source": [
    "from transformers import (AutoTokenizer,\n",
    "                          AutoModelForSequenceClassification, \n",
    "                          TrainingArguments, \n",
    "                          Trainer)\n",
    "from datasets import load_dataset\n",
    "\n",
    "from pathlib import Path\n",
    "import numpy as np"
   ]
  },
  {
   "cell_type": "code",
   "execution_count": null,
   "id": "278eb69b-a454-4435-b594-3589a4786f67",
   "metadata": {},
   "outputs": [],
   "source": [
    "data_dir = Path(\"../data/processed/\")\n",
    "ckpt = \"bert-base-uncased\""
   ]
  },
  {
   "cell_type": "code",
   "execution_count": null,
   "id": "6e23d9a2-654e-4b7b-a3a6-9db971864d27",
   "metadata": {},
   "outputs": [],
   "source": [
    "data_files = {\n",
    "    \"train\": str(data_dir/\"wndp-api-data-train.parquet\"),\n",
    "    \"val\": str(data_dir/\"wndp-api-data-val.parquet\"),\n",
    "    \"test\": str(data_dir/\"wndp-api-data-test.parquet\"),\n",
    "}\n",
    "\n",
    "ds = load_dataset(\"parquet\", data_files=data_files)\n",
    "ds.set_format(\"torch\")\n",
    "ds"
   ]
  },
  {
   "cell_type": "code",
   "execution_count": null,
   "id": "3acde360-3e91-447d-bc88-15865f855237",
   "metadata": {},
   "outputs": [],
   "source": [
    "labels = [\n",
    "    'clinically_healthy',\n",
    "    'dermatologic_disease',\n",
    "    'gastrointestinal_disease',\n",
    "    'hematologic_disease',\n",
    "    'neurologic_disease',\n",
    "    'nonspecific',\n",
    "    'nutritional_disease',\n",
    "    'ocular_disease',\n",
    "    'physical_injury',\n",
    "    'respiratory_disease',\n",
    "    'urogenital_disease'\n",
    "]\n",
    "id2label = {idx:label for idx,label in enumerate(labels)}\n",
    "label2id = {label:idx for idx,label in enumerate(labels)}"
   ]
  },
  {
   "cell_type": "code",
   "execution_count": null,
   "id": "65397fa9-5260-43d6-8d4c-b5f438d90b16",
   "metadata": {},
   "outputs": [],
   "source": [
    "num_labels = len(ds[\"train\"][0][\"labels\"])\n",
    "tokenizer = AutoTokenizer.from_pretrained(ckpt, use_fast=True)"
   ]
  },
  {
   "cell_type": "code",
   "execution_count": null,
   "id": "f512091c-5797-4806-8575-73a07401e4ce",
   "metadata": {},
   "outputs": [],
   "source": [
    "sample = ds[\"train\"][0]\n",
    "sample.keys()"
   ]
  },
  {
   "cell_type": "code",
   "execution_count": null,
   "id": "52993164-ca62-4804-9552-289d4aafb1b1",
   "metadata": {},
   "outputs": [],
   "source": [
    "tokenizer.decode(sample[\"input_ids\"])"
   ]
  },
  {
   "cell_type": "code",
   "execution_count": null,
   "id": "7802268a-daf3-4f06-901f-360a68f00068",
   "metadata": {},
   "outputs": [],
   "source": [
    "sample[\"labels\"]"
   ]
  },
  {
   "cell_type": "code",
   "execution_count": null,
   "id": "af3b9a5b-d8bd-46de-b01d-33a424ae1622",
   "metadata": {},
   "outputs": [],
   "source": [
    "[id2label[idx] for idx, label in enumerate(sample['labels']) if label == 1.0]"
   ]
  },
  {
   "cell_type": "code",
   "execution_count": null,
   "id": "47764bbc-64ec-40bb-89b6-30ab9659933c",
   "metadata": {},
   "outputs": [],
   "source": [
    "model = AutoModelForSequenceClassification.from_pretrained(\n",
    "            ckpt,\n",
    "            num_labels=num_labels,\n",
    "            problem_type=\"multi_label_classification\",\n",
    "            id2label=id2label,\n",
    "            label2id=label2id\n",
    "        )"
   ]
  },
  {
   "cell_type": "code",
   "execution_count": null,
   "id": "f1bbd3d4-cfef-4a12-93ce-028f6b69a519",
   "metadata": {},
   "outputs": [],
   "source": [
    "batch_size = 32\n",
    "metric_name = \"f1\""
   ]
  },
  {
   "cell_type": "code",
   "execution_count": null,
   "id": "bf606e5d-8b0f-4a76-98c4-02fc61f611a2",
   "metadata": {},
   "outputs": [],
   "source": [
    "args = TrainingArguments(\n",
    "    f\"wndp-exp\",\n",
    "    evaluation_strategy=\"epoch\",\n",
    "    save_strategy=\"epoch\",\n",
    "    learning_rate=1e-4,\n",
    "    num_train_epochs=5,\n",
    "    weight_decay=0.01,\n",
    "    per_device_train_batch_size=batch_size,\n",
    "    per_device_eval_batch_size=batch_size,\n",
    "    load_best_model_at_end=True,\n",
    "    metric_for_best_model=metric_name\n",
    ")"
   ]
  },
  {
   "cell_type": "code",
   "execution_count": null,
   "id": "6f9ce51a-ea9d-401a-bd88-042e128121ec",
   "metadata": {},
   "outputs": [],
   "source": [
    "from sklearn.metrics import f1_score, roc_auc_score, accuracy_score\n",
    "from transformers import EvalPrediction\n",
    "import torch\n",
    "    \n",
    "# source: https://jesusleal.io/2021/04/21/Longformer-multilabel-classification/\n",
    "def multi_label_metrics(predictions, labels, threshold=0.5):\n",
    "    # first, apply sigmoid on predictions which are of shape (batch_size, num_labels)\n",
    "    sigmoid = torch.nn.Sigmoid()\n",
    "    probs = sigmoid(torch.Tensor(predictions))\n",
    "    # next, use threshold to turn them into integer predictions\n",
    "    y_pred = np.zeros(probs.shape)\n",
    "    y_pred[np.where(probs >= threshold)] = 1\n",
    "    # finally, compute metrics\n",
    "    y_true = labels\n",
    "    f1_micro_average = f1_score(y_true=y_true, y_pred=y_pred, average='micro')\n",
    "    roc_auc = roc_auc_score(y_true, y_pred, average = 'micro')\n",
    "    accuracy = accuracy_score(y_true, y_pred)\n",
    "    # return as dictionary\n",
    "    metrics = {'f1': f1_micro_average,\n",
    "               'roc_auc': roc_auc,\n",
    "               'accuracy': accuracy}\n",
    "    return metrics\n",
    "\n",
    "def compute_metrics(p: EvalPrediction):\n",
    "    preds = p.predictions[0] if isinstance(p.predictions, \n",
    "            tuple) else p.predictions\n",
    "    result = multi_label_metrics(\n",
    "        predictions=preds, \n",
    "        labels=p.label_ids)\n",
    "    return result"
   ]
  },
  {
   "cell_type": "code",
   "execution_count": null,
   "id": "9734c819-a077-42fe-aee9-9d398f042bd2",
   "metadata": {},
   "outputs": [],
   "source": [
    "ds[\"train\"][0][\"labels\"]"
   ]
  },
  {
   "cell_type": "code",
   "execution_count": null,
   "id": "fbfc051e-8fc0-49d8-b2ab-67946c042b87",
   "metadata": {},
   "outputs": [],
   "source": [
    "ds[\"train\"][\"input_ids\"][0]"
   ]
  },
  {
   "cell_type": "code",
   "execution_count": null,
   "id": "cb03122d-fb4c-48bd-b8f2-0a9f27f11ca8",
   "metadata": {},
   "outputs": [],
   "source": [
    "outputs = model(\n",
    "            input_ids=ds[\"train\"][\"input_ids\"][0].unsqueeze(0),\n",
    "            labels=ds[\"train\"][0][\"labels\"].unsqueeze(0)            \n",
    ")\n",
    "outputs.logits"
   ]
  },
  {
   "cell_type": "code",
   "execution_count": null,
   "id": "c7440f1c-5715-4cce-8a9c-aa7f2f0b4168",
   "metadata": {},
   "outputs": [],
   "source": [
    "trainer = Trainer(\n",
    "    model,\n",
    "    args,\n",
    "    train_dataset=ds[\"train\"],\n",
    "    eval_dataset=ds[\"val\"],\n",
    "    tokenizer=tokenizer,\n",
    "    compute_metrics=compute_metrics\n",
    ")"
   ]
  },
  {
   "cell_type": "code",
   "execution_count": null,
   "id": "36aaf773-ba25-42b5-835f-9c60a71da576",
   "metadata": {},
   "outputs": [],
   "source": [
    "trainer.train()"
   ]
  },
  {
   "cell_type": "code",
   "execution_count": null,
   "id": "03c86ede-b5bc-4f13-a929-e33882c7de1d",
   "metadata": {},
   "outputs": [],
   "source": [
    "trainer.evaluate()"
   ]
  },
  {
   "cell_type": "code",
   "execution_count": null,
   "id": "ee72a87e-572f-49df-91a5-afd26d4b27b9",
   "metadata": {},
   "outputs": [],
   "source": [
    "sample = \"found on the ground by window - breathing hard, eyes not open, couldn't stand up, ants covering him, some spazmotic movements of leg, wing, seemed better today. emaciated fledgling with torticollis. Neurologic: torticollis Legs / Feet / Hocks: not using legs. poor prognosis given age, emaciation, and degree of debilitation\""
   ]
  },
  {
   "cell_type": "code",
   "execution_count": null,
   "id": "9a239767-87bb-425f-b1c1-180670f54a44",
   "metadata": {},
   "outputs": [],
   "source": [
    "enc = tokenizer(sample, return_tensors=\"pt\")"
   ]
  },
  {
   "cell_type": "code",
   "execution_count": null,
   "id": "bb51c2f6-464f-471b-87b2-e19ed15d9c41",
   "metadata": {},
   "outputs": [],
   "source": [
    "enc = {k: v.to(trainer.model.device) for k,v in enc.items()}"
   ]
  },
  {
   "cell_type": "code",
   "execution_count": null,
   "id": "d7e1ee3c-ee7e-41a7-8552-a83855d59909",
   "metadata": {},
   "outputs": [],
   "source": [
    "enc"
   ]
  },
  {
   "cell_type": "code",
   "execution_count": null,
   "id": "7a4185ec-9090-4321-b157-dece9588303c",
   "metadata": {},
   "outputs": [],
   "source": [
    "outputs = trainer.model(**enc)"
   ]
  },
  {
   "cell_type": "code",
   "execution_count": null,
   "id": "4956a99f-c3c0-4fc2-860f-512bfcac48a2",
   "metadata": {},
   "outputs": [],
   "source": [
    "outputs"
   ]
  },
  {
   "cell_type": "code",
   "execution_count": null,
   "id": "90366e11-fdea-4f48-a432-175101ddb22f",
   "metadata": {},
   "outputs": [],
   "source": [
    "import torch.nn.functional as F"
   ]
  },
  {
   "cell_type": "code",
   "execution_count": null,
   "id": "aacb01d6-4dac-4863-a1c8-ebfd37657712",
   "metadata": {},
   "outputs": [],
   "source": [
    "probs = F.sigmoid(outputs.logits.squeeze().detach().cpu())"
   ]
  },
  {
   "cell_type": "code",
   "execution_count": null,
   "id": "d70db937-187f-4cf1-bca7-3af7115a03f5",
   "metadata": {},
   "outputs": [],
   "source": [
    "probs"
   ]
  },
  {
   "cell_type": "code",
   "execution_count": null,
   "id": "f2cd370d-b8d1-4769-8fd4-a1a192855070",
   "metadata": {},
   "outputs": [],
   "source": [
    "preds = (probs > 0.5).int()"
   ]
  },
  {
   "cell_type": "code",
   "execution_count": null,
   "id": "b9e7c3b1-ab86-49ac-8eba-200bcf189b70",
   "metadata": {},
   "outputs": [],
   "source": [
    "predicted_labels = [id2label[idx] for idx, label in enumerate(preds) if label == 1.0]"
   ]
  },
  {
   "cell_type": "code",
   "execution_count": null,
   "id": "caf99ca4-f7bc-4f57-aebc-68afa26944d1",
   "metadata": {},
   "outputs": [],
   "source": [
    "predicted_labels"
   ]
  },
  {
   "cell_type": "code",
   "execution_count": null,
   "id": "2d4a01f5-aa77-4206-b077-bbaeaf0c818b",
   "metadata": {},
   "outputs": [],
   "source": []
  }
 ],
 "metadata": {
  "kernelspec": {
   "display_name": "Python 3 (ipykernel)",
   "language": "python",
   "name": "python3"
  },
  "language_info": {
   "codemirror_mode": {
    "name": "ipython",
    "version": 3
   },
   "file_extension": ".py",
   "mimetype": "text/x-python",
   "name": "python",
   "nbconvert_exporter": "python",
   "pygments_lexer": "ipython3",
   "version": "3.11.6"
  }
 },
 "nbformat": 4,
 "nbformat_minor": 5
}
