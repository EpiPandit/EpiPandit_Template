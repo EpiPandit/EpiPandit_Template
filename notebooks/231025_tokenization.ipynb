{
 "cells": [
  {
   "cell_type": "code",
   "execution_count": 1,
   "id": "1f7137ca-d3fc-4374-84e6-72832d30ae8d",
   "metadata": {},
   "outputs": [],
   "source": [
    "import pandas as pd\n",
    "import numpy as np\n",
    "import seaborn as sns\n",
    "from transformers import AutoTokenizer\n",
    "from datasets import Dataset, load_dataset\n",
    "\n",
    "from pathlib import Path"
   ]
  },
  {
   "cell_type": "code",
   "execution_count": 2,
   "id": "d6266d0c-8394-4857-8fa8-6755994d611c",
   "metadata": {},
   "outputs": [],
   "source": [
    "data_dir = Path(\"../data/interim/\")\n",
    "ckpt = \"bert-base-uncased\""
   ]
  },
  {
   "cell_type": "markdown",
   "id": "9389ddad-c3d2-4bc9-bad6-11d79053a7ed",
   "metadata": {},
   "source": [
    "## Tokenize text"
   ]
  },
  {
   "cell_type": "code",
   "execution_count": 3,
   "id": "50cb7c36-b10d-482a-b8f0-bfeb048c98a1",
   "metadata": {},
   "outputs": [],
   "source": [
    "tokenizer = AutoTokenizer.from_pretrained(ckpt, use_fast=True)"
   ]
  },
  {
   "cell_type": "markdown",
   "id": "3ec9f116-8cfb-424b-9568-9a2c70612683",
   "metadata": {},
   "source": [
    "### Exploring tokenizer and thoughts on improving model prediction with different tokenizers\n",
    "1. Volcabulary is 305222,: larger vocab greater accuracy?\n",
    "2. Is there a tokenizer that will be useful medical data\n",
    "3. "
   ]
  },
  {
   "cell_type": "code",
   "execution_count": 4,
   "id": "9a7ce346-f422-4ed9-98b2-10beece5f140",
   "metadata": {},
   "outputs": [
    {
     "data": {
      "text/plain": [
       "BertTokenizerFast(name_or_path='bert-base-uncased', vocab_size=30522, model_max_length=512, is_fast=True, padding_side='right', truncation_side='right', special_tokens={'unk_token': '[UNK]', 'sep_token': '[SEP]', 'pad_token': '[PAD]', 'cls_token': '[CLS]', 'mask_token': '[MASK]'}, clean_up_tokenization_spaces=True)"
      ]
     },
     "execution_count": 4,
     "metadata": {},
     "output_type": "execute_result"
    }
   ],
   "source": [
    "tokenizer"
   ]
  },
  {
   "cell_type": "code",
   "execution_count": 5,
   "id": "a570fb70-3365-44e4-b66d-ab3075ccd88b",
   "metadata": {},
   "outputs": [
    {
     "data": {
      "text/html": [
       "<div>\n",
       "<style scoped>\n",
       "    .dataframe tbody tr th:only-of-type {\n",
       "        vertical-align: middle;\n",
       "    }\n",
       "\n",
       "    .dataframe tbody tr th {\n",
       "        vertical-align: top;\n",
       "    }\n",
       "\n",
       "    .dataframe thead th {\n",
       "        text-align: right;\n",
       "    }\n",
       "</style>\n",
       "<table border=\"1\" class=\"dataframe\">\n",
       "  <thead>\n",
       "    <tr style=\"text-align: right;\">\n",
       "      <th></th>\n",
       "      <th>patient_id</th>\n",
       "      <th>text</th>\n",
       "      <th>terms</th>\n",
       "      <th>clinically_healthy</th>\n",
       "      <th>dermatologic_disease</th>\n",
       "      <th>gastrointestinal_disease</th>\n",
       "      <th>hematologic_disease</th>\n",
       "      <th>neurologic_disease</th>\n",
       "      <th>nonspecific</th>\n",
       "      <th>nutritional_disease</th>\n",
       "      <th>ocular_disease</th>\n",
       "      <th>physical_injury</th>\n",
       "      <th>respiratory_disease</th>\n",
       "      <th>urogenital_disease</th>\n",
       "    </tr>\n",
       "  </thead>\n",
       "  <tbody>\n",
       "    <tr>\n",
       "      <th>0</th>\n",
       "      <td>1960540</td>\n",
       "      <td>unknown. A9 - orphaned. Feathers / Fur / Skin:...</td>\n",
       "      <td>['Clinically healthy']</td>\n",
       "      <td>1</td>\n",
       "      <td>0</td>\n",
       "      <td>0</td>\n",
       "      <td>0</td>\n",
       "      <td>0</td>\n",
       "      <td>0</td>\n",
       "      <td>0</td>\n",
       "      <td>0</td>\n",
       "      <td>0</td>\n",
       "      <td>0</td>\n",
       "      <td>0</td>\n",
       "    </tr>\n",
       "    <tr>\n",
       "      <th>1</th>\n",
       "      <td>548645</td>\n",
       "      <td>HBC. HBC/NSF. Eyes / Ears / Mouth / Nares: squ...</td>\n",
       "      <td>['Physical injury']</td>\n",
       "      <td>0</td>\n",
       "      <td>0</td>\n",
       "      <td>0</td>\n",
       "      <td>0</td>\n",
       "      <td>0</td>\n",
       "      <td>0</td>\n",
       "      <td>0</td>\n",
       "      <td>0</td>\n",
       "      <td>1</td>\n",
       "      <td>0</td>\n",
       "      <td>0</td>\n",
       "    </tr>\n",
       "    <tr>\n",
       "      <th>2</th>\n",
       "      <td>1905573</td>\n",
       "      <td>Dragging leg, circling. Shock, Bleeding from M...</td>\n",
       "      <td>['Physical injury']</td>\n",
       "      <td>0</td>\n",
       "      <td>0</td>\n",
       "      <td>0</td>\n",
       "      <td>0</td>\n",
       "      <td>0</td>\n",
       "      <td>0</td>\n",
       "      <td>0</td>\n",
       "      <td>0</td>\n",
       "      <td>1</td>\n",
       "      <td>0</td>\n",
       "      <td>0</td>\n",
       "    </tr>\n",
       "    <tr>\n",
       "      <th>3</th>\n",
       "      <td>2741655</td>\n",
       "      <td>Weak. NSF. Eyes / Ears / Mouth / Nares: Eyes s...</td>\n",
       "      <td>['Clinically healthy']</td>\n",
       "      <td>1</td>\n",
       "      <td>0</td>\n",
       "      <td>0</td>\n",
       "      <td>0</td>\n",
       "      <td>0</td>\n",
       "      <td>0</td>\n",
       "      <td>0</td>\n",
       "      <td>0</td>\n",
       "      <td>0</td>\n",
       "      <td>0</td>\n",
       "      <td>0</td>\n",
       "    </tr>\n",
       "    <tr>\n",
       "      <th>4</th>\n",
       "      <td>2637768</td>\n",
       "      <td>Removed / Displaced (Juvenile) - Nest / Nest s...</td>\n",
       "      <td>['Nonspecific']</td>\n",
       "      <td>0</td>\n",
       "      <td>0</td>\n",
       "      <td>0</td>\n",
       "      <td>0</td>\n",
       "      <td>0</td>\n",
       "      <td>1</td>\n",
       "      <td>0</td>\n",
       "      <td>0</td>\n",
       "      <td>0</td>\n",
       "      <td>0</td>\n",
       "      <td>0</td>\n",
       "    </tr>\n",
       "  </tbody>\n",
       "</table>\n",
       "</div>"
      ],
      "text/plain": [
       "   patient_id                                               text  \\\n",
       "0     1960540  unknown. A9 - orphaned. Feathers / Fur / Skin:...   \n",
       "1      548645  HBC. HBC/NSF. Eyes / Ears / Mouth / Nares: squ...   \n",
       "2     1905573  Dragging leg, circling. Shock, Bleeding from M...   \n",
       "3     2741655  Weak. NSF. Eyes / Ears / Mouth / Nares: Eyes s...   \n",
       "4     2637768  Removed / Displaced (Juvenile) - Nest / Nest s...   \n",
       "\n",
       "                    terms  clinically_healthy  dermatologic_disease  \\\n",
       "0  ['Clinically healthy']                   1                     0   \n",
       "1     ['Physical injury']                   0                     0   \n",
       "2     ['Physical injury']                   0                     0   \n",
       "3  ['Clinically healthy']                   1                     0   \n",
       "4         ['Nonspecific']                   0                     0   \n",
       "\n",
       "   gastrointestinal_disease  hematologic_disease  neurologic_disease  \\\n",
       "0                         0                    0                   0   \n",
       "1                         0                    0                   0   \n",
       "2                         0                    0                   0   \n",
       "3                         0                    0                   0   \n",
       "4                         0                    0                   0   \n",
       "\n",
       "   nonspecific  nutritional_disease  ocular_disease  physical_injury  \\\n",
       "0            0                    0               0                0   \n",
       "1            0                    0               0                1   \n",
       "2            0                    0               0                1   \n",
       "3            0                    0               0                0   \n",
       "4            1                    0               0                0   \n",
       "\n",
       "   respiratory_disease  urogenital_disease  \n",
       "0                    0                   0  \n",
       "1                    0                   0  \n",
       "2                    0                   0  \n",
       "3                    0                   0  \n",
       "4                    0                   0  "
      ]
     },
     "execution_count": 5,
     "metadata": {},
     "output_type": "execute_result"
    }
   ],
   "source": [
    "df = pd.read_csv(data_dir/\"wndp-api-ohe.csv\")\n",
    "df.columns = df.columns.str.lower().str.replace(\" \", \"_\")\n",
    "df.dropna(inplace=True)\n",
    "df.head()"
   ]
  },
  {
   "cell_type": "code",
   "execution_count": 6,
   "id": "65114ed6-e506-436d-b2a7-ed92a05a4696",
   "metadata": {},
   "outputs": [
    {
     "data": {
      "text/plain": [
       "(14040, 14)"
      ]
     },
     "execution_count": 6,
     "metadata": {},
     "output_type": "execute_result"
    }
   ],
   "source": [
    "df.shape"
   ]
  },
  {
   "cell_type": "code",
   "execution_count": 7,
   "id": "4cb86d18-51e8-4c11-b7a3-7519e2b5616f",
   "metadata": {},
   "outputs": [
    {
     "data": {
      "text/plain": [
       "'Weak. NSF. Eyes / Ears / Mouth / Nares: Eyes slightly dry and difficult to perform full fundic exam, but no obvious abnormalities'"
      ]
     },
     "execution_count": 7,
     "metadata": {},
     "output_type": "execute_result"
    }
   ],
   "source": [
    "sample = df.text[:5]\n",
    "sample[3]"
   ]
  },
  {
   "cell_type": "code",
   "execution_count": 8,
   "id": "e61e2191-3864-4c11-acf5-b71de03b46e0",
   "metadata": {},
   "outputs": [
    {
     "data": {
      "text/plain": [
       "{'input_ids': [101, 5410, 1012, 24978, 2546, 1012, 2159, 1013, 5551, 1013, 2677, 1013, 6583, 6072, 1024, 2159, 3621, 4318, 1998, 3697, 2000, 4685, 2440, 4636, 2594, 11360, 1010, 2021, 2053, 5793, 28828, 102], 'token_type_ids': [0, 0, 0, 0, 0, 0, 0, 0, 0, 0, 0, 0, 0, 0, 0, 0, 0, 0, 0, 0, 0, 0, 0, 0, 0, 0, 0, 0, 0, 0, 0, 0], 'attention_mask': [1, 1, 1, 1, 1, 1, 1, 1, 1, 1, 1, 1, 1, 1, 1, 1, 1, 1, 1, 1, 1, 1, 1, 1, 1, 1, 1, 1, 1, 1, 1, 1]}"
      ]
     },
     "execution_count": 8,
     "metadata": {},
     "output_type": "execute_result"
    }
   ],
   "source": [
    "tokenizer(sample[3])"
   ]
  },
  {
   "cell_type": "code",
   "execution_count": 9,
   "id": "8142886a-5317-4f4b-8d34-568808e039f4",
   "metadata": {},
   "outputs": [
    {
     "data": {
      "text/plain": [
       "['weak',\n",
       " '.',\n",
       " 'ns',\n",
       " '##f',\n",
       " '.',\n",
       " 'eyes',\n",
       " '/',\n",
       " 'ears',\n",
       " '/',\n",
       " 'mouth',\n",
       " '/',\n",
       " 'na',\n",
       " '##res',\n",
       " ':',\n",
       " 'eyes',\n",
       " 'slightly',\n",
       " 'dry',\n",
       " 'and',\n",
       " 'difficult',\n",
       " 'to',\n",
       " 'perform',\n",
       " 'full',\n",
       " 'fund',\n",
       " '##ic',\n",
       " 'exam',\n",
       " ',',\n",
       " 'but',\n",
       " 'no',\n",
       " 'obvious',\n",
       " 'abnormalities']"
      ]
     },
     "execution_count": 9,
     "metadata": {},
     "output_type": "execute_result"
    }
   ],
   "source": [
    "tokens = tokenizer.tokenize(sample[3])\n",
    "tokens"
   ]
  },
  {
   "cell_type": "code",
   "execution_count": 10,
   "id": "2a130763-4e17-4307-9a61-8f6215592058",
   "metadata": {},
   "outputs": [
    {
     "data": {
      "text/plain": [
       "[5410,\n",
       " 1012,\n",
       " 24978,\n",
       " 2546,\n",
       " 1012,\n",
       " 2159,\n",
       " 1013,\n",
       " 5551,\n",
       " 1013,\n",
       " 2677,\n",
       " 1013,\n",
       " 6583,\n",
       " 6072,\n",
       " 1024,\n",
       " 2159,\n",
       " 3621,\n",
       " 4318,\n",
       " 1998,\n",
       " 3697,\n",
       " 2000,\n",
       " 4685,\n",
       " 2440,\n",
       " 4636,\n",
       " 2594,\n",
       " 11360,\n",
       " 1010,\n",
       " 2021,\n",
       " 2053,\n",
       " 5793,\n",
       " 28828]"
      ]
     },
     "execution_count": 10,
     "metadata": {},
     "output_type": "execute_result"
    }
   ],
   "source": [
    "ids = tokenizer.convert_tokens_to_ids(tokens)\n",
    "ids"
   ]
  },
  {
   "cell_type": "code",
   "execution_count": 11,
   "id": "4366aa24-957f-4b66-a76d-15ccdfcbf10b",
   "metadata": {},
   "outputs": [
    {
     "data": {
      "text/plain": [
       "'weak. nsf. eyes / ears / mouth / nares : eyes slightly dry and difficult to perform full fundic exam, but no obvious abnormalities'"
      ]
     },
     "execution_count": 11,
     "metadata": {},
     "output_type": "execute_result"
    }
   ],
   "source": [
    "tokenizer.decode(ids)"
   ]
  },
  {
   "cell_type": "code",
   "execution_count": 12,
   "id": "2e5a7cc1-a608-4662-8511-6d6d621e3e6b",
   "metadata": {},
   "outputs": [
    {
     "data": {
      "text/plain": [
       "'[CLS] weak. nsf. eyes / ears / mouth / nares : eyes slightly dry and difficult to perform full fundic exam, but no obvious abnormalities [SEP]'"
      ]
     },
     "execution_count": 12,
     "metadata": {},
     "output_type": "execute_result"
    }
   ],
   "source": [
    "tokenizer.decode(tokenizer(sample[3])[\"input_ids\"])"
   ]
  },
  {
   "cell_type": "markdown",
   "id": "bc2e230a-ad45-444a-896e-7128d3a63cbc",
   "metadata": {},
   "source": [
    "## Build the dataset"
   ]
  },
  {
   "cell_type": "code",
   "execution_count": 13,
   "id": "ab55878d-69fa-49bd-8fbd-6e50260f8804",
   "metadata": {},
   "outputs": [
    {
     "data": {
      "text/html": [
       "<div>\n",
       "<style scoped>\n",
       "    .dataframe tbody tr th:only-of-type {\n",
       "        vertical-align: middle;\n",
       "    }\n",
       "\n",
       "    .dataframe tbody tr th {\n",
       "        vertical-align: top;\n",
       "    }\n",
       "\n",
       "    .dataframe thead th {\n",
       "        text-align: right;\n",
       "    }\n",
       "</style>\n",
       "<table border=\"1\" class=\"dataframe\">\n",
       "  <thead>\n",
       "    <tr style=\"text-align: right;\">\n",
       "      <th></th>\n",
       "      <th>text</th>\n",
       "      <th>neurologic_disease</th>\n",
       "      <th>hematologic_disease</th>\n",
       "      <th>nonspecific</th>\n",
       "      <th>respiratory_disease</th>\n",
       "      <th>dermatologic_disease</th>\n",
       "      <th>urogenital_disease</th>\n",
       "      <th>ocular_disease</th>\n",
       "      <th>physical_injury</th>\n",
       "      <th>nutritional_disease</th>\n",
       "      <th>gastrointestinal_disease</th>\n",
       "      <th>clinically_healthy</th>\n",
       "    </tr>\n",
       "  </thead>\n",
       "  <tbody>\n",
       "    <tr>\n",
       "      <th>0</th>\n",
       "      <td>unknown. A9 - orphaned. Feathers / Fur / Skin:...</td>\n",
       "      <td>0</td>\n",
       "      <td>0</td>\n",
       "      <td>0</td>\n",
       "      <td>0</td>\n",
       "      <td>0</td>\n",
       "      <td>0</td>\n",
       "      <td>0</td>\n",
       "      <td>0</td>\n",
       "      <td>0</td>\n",
       "      <td>0</td>\n",
       "      <td>1</td>\n",
       "    </tr>\n",
       "    <tr>\n",
       "      <th>1</th>\n",
       "      <td>HBC. HBC/NSF. Eyes / Ears / Mouth / Nares: squ...</td>\n",
       "      <td>0</td>\n",
       "      <td>0</td>\n",
       "      <td>0</td>\n",
       "      <td>0</td>\n",
       "      <td>0</td>\n",
       "      <td>0</td>\n",
       "      <td>0</td>\n",
       "      <td>1</td>\n",
       "      <td>0</td>\n",
       "      <td>0</td>\n",
       "      <td>0</td>\n",
       "    </tr>\n",
       "    <tr>\n",
       "      <th>2</th>\n",
       "      <td>Dragging leg, circling. Shock, Bleeding from M...</td>\n",
       "      <td>0</td>\n",
       "      <td>0</td>\n",
       "      <td>0</td>\n",
       "      <td>0</td>\n",
       "      <td>0</td>\n",
       "      <td>0</td>\n",
       "      <td>0</td>\n",
       "      <td>1</td>\n",
       "      <td>0</td>\n",
       "      <td>0</td>\n",
       "      <td>0</td>\n",
       "    </tr>\n",
       "    <tr>\n",
       "      <th>3</th>\n",
       "      <td>Weak. NSF. Eyes / Ears / Mouth / Nares: Eyes s...</td>\n",
       "      <td>0</td>\n",
       "      <td>0</td>\n",
       "      <td>0</td>\n",
       "      <td>0</td>\n",
       "      <td>0</td>\n",
       "      <td>0</td>\n",
       "      <td>0</td>\n",
       "      <td>0</td>\n",
       "      <td>0</td>\n",
       "      <td>0</td>\n",
       "      <td>1</td>\n",
       "    </tr>\n",
       "    <tr>\n",
       "      <th>4</th>\n",
       "      <td>Removed / Displaced (Juvenile) - Nest / Nest s...</td>\n",
       "      <td>0</td>\n",
       "      <td>0</td>\n",
       "      <td>1</td>\n",
       "      <td>0</td>\n",
       "      <td>0</td>\n",
       "      <td>0</td>\n",
       "      <td>0</td>\n",
       "      <td>0</td>\n",
       "      <td>0</td>\n",
       "      <td>0</td>\n",
       "      <td>0</td>\n",
       "    </tr>\n",
       "  </tbody>\n",
       "</table>\n",
       "</div>"
      ],
      "text/plain": [
       "                                                text  neurologic_disease  \\\n",
       "0  unknown. A9 - orphaned. Feathers / Fur / Skin:...                   0   \n",
       "1  HBC. HBC/NSF. Eyes / Ears / Mouth / Nares: squ...                   0   \n",
       "2  Dragging leg, circling. Shock, Bleeding from M...                   0   \n",
       "3  Weak. NSF. Eyes / Ears / Mouth / Nares: Eyes s...                   0   \n",
       "4  Removed / Displaced (Juvenile) - Nest / Nest s...                   0   \n",
       "\n",
       "   hematologic_disease  nonspecific  respiratory_disease  \\\n",
       "0                    0            0                    0   \n",
       "1                    0            0                    0   \n",
       "2                    0            0                    0   \n",
       "3                    0            0                    0   \n",
       "4                    0            1                    0   \n",
       "\n",
       "   dermatologic_disease  urogenital_disease  ocular_disease  physical_injury  \\\n",
       "0                     0                   0               0                0   \n",
       "1                     0                   0               0                1   \n",
       "2                     0                   0               0                1   \n",
       "3                     0                   0               0                0   \n",
       "4                     0                   0               0                0   \n",
       "\n",
       "   nutritional_disease  gastrointestinal_disease  clinically_healthy  \n",
       "0                    0                         0                   1  \n",
       "1                    0                         0                   0  \n",
       "2                    0                         0                   0  \n",
       "3                    0                         0                   1  \n",
       "4                    0                         0                   0  "
      ]
     },
     "execution_count": 13,
     "metadata": {},
     "output_type": "execute_result"
    }
   ],
   "source": [
    "# Pick only the columns we need for the model\n",
    "df = df[list(set(df.columns).difference({\"patient_id\", \"terms\"}))]\n",
    "df.head()"
   ]
  },
  {
   "cell_type": "code",
   "execution_count": 14,
   "id": "7ca69218-ca1e-4924-b3ec-915efbd9b184",
   "metadata": {},
   "outputs": [],
   "source": [
    "# Split dataset into train, val & test set\n",
    "_ds = (Dataset\n",
    "          .from_pandas(df)\n",
    "          .train_test_split(test_size=0.15, \n",
    "                            shuffle=True)\n",
    "     )\n",
    "ds = _ds[\"train\"].train_test_split(test_size=0.2)\n",
    "ds[\"val\"] = ds.pop(\"test\")\n",
    "ds[\"test\"] = _ds[\"test\"]"
   ]
  },
  {
   "cell_type": "code",
   "execution_count": 15,
   "id": "c27178ea-bffa-4e44-b752-a8b322a745a1",
   "metadata": {},
   "outputs": [],
   "source": [
    "ds = ds.remove_columns(column_names=[\"__index_level_0__\"])"
   ]
  },
  {
   "cell_type": "code",
   "execution_count": 16,
   "id": "8294d627-dcac-4ce0-a534-91ff715a3329",
   "metadata": {},
   "outputs": [
    {
     "data": {
      "text/plain": [
       "['clinically_healthy',\n",
       " 'dermatologic_disease',\n",
       " 'gastrointestinal_disease',\n",
       " 'hematologic_disease',\n",
       " 'neurologic_disease',\n",
       " 'nonspecific',\n",
       " 'nutritional_disease',\n",
       " 'ocular_disease',\n",
       " 'physical_injury',\n",
       " 'respiratory_disease',\n",
       " 'urogenital_disease']"
      ]
     },
     "execution_count": 16,
     "metadata": {},
     "output_type": "execute_result"
    }
   ],
   "source": [
    "labels = sorted(ds[\"train\"].column_names)\n",
    "labels.remove(\"text\")\n",
    "labels"
   ]
  },
  {
   "cell_type": "code",
   "execution_count": 17,
   "id": "8ffd7b4b-08e5-4353-922c-113a571bd624",
   "metadata": {},
   "outputs": [
    {
     "data": {
      "application/vnd.jupyter.widget-view+json": {
       "model_id": "",
       "version_major": 2,
       "version_minor": 0
      },
      "text/plain": [
       "Map:   0%|          | 0/9547 [00:00<?, ? examples/s]"
      ]
     },
     "metadata": {},
     "output_type": "display_data"
    },
    {
     "data": {
      "application/vnd.jupyter.widget-view+json": {
       "model_id": "",
       "version_major": 2,
       "version_minor": 0
      },
      "text/plain": [
       "Map:   0%|          | 0/2387 [00:00<?, ? examples/s]"
      ]
     },
     "metadata": {},
     "output_type": "display_data"
    },
    {
     "data": {
      "application/vnd.jupyter.widget-view+json": {
       "model_id": "",
       "version_major": 2,
       "version_minor": 0
      },
      "text/plain": [
       "Map:   0%|          | 0/2106 [00:00<?, ? examples/s]"
      ]
     },
     "metadata": {},
     "output_type": "display_data"
    }
   ],
   "source": [
    "# Add labels to the dataset as float (pytorch excepts float tensors)\n",
    "ds = ds.map(lambda row: {\"labels\": [float(row[l]) for l in labels]})"
   ]
  },
  {
   "cell_type": "code",
   "execution_count": 18,
   "id": "d06406c6-10d9-484a-8e0f-968afeb06573",
   "metadata": {},
   "outputs": [
    {
     "data": {
      "text/plain": [
       "{'text': 'Collision - Car (2 separate calls in the afternoon about an owl on the side of the road just before the weigh station on the ID side of the pass (though still in WY).  BC and CA went and picked up the bird at about 3:15p.  Found readily.). Trauma - Head; Eye Trauma - Uveitis (L). Eyes / Ears / Mouth / Nares: Left pupil is enlarged and left ear has fresh blood coming out of it.  Blood in the mouth that appears to be coming from the sinus area. Neurologic: head trauma. Left pupil is enlarged and left ear has fresh blood coming out of it.  Blood in the mouth that appears to be coming from the sinus area.  No broken bones palpated, but bird is extremely lethargic so we will wait and x-ray tomorrow. Additional notes about meds given on daily log',\n",
       " 'neurologic_disease': 1,\n",
       " 'hematologic_disease': 0,\n",
       " 'nonspecific': 0,\n",
       " 'respiratory_disease': 0,\n",
       " 'dermatologic_disease': 0,\n",
       " 'urogenital_disease': 0,\n",
       " 'ocular_disease': 1,\n",
       " 'physical_injury': 1,\n",
       " 'nutritional_disease': 0,\n",
       " 'gastrointestinal_disease': 0,\n",
       " 'clinically_healthy': 0,\n",
       " 'labels': [0.0, 0.0, 0.0, 0.0, 1.0, 0.0, 0.0, 1.0, 1.0, 0.0, 0.0]}"
      ]
     },
     "execution_count": 18,
     "metadata": {},
     "output_type": "execute_result"
    }
   ],
   "source": [
    "ds[\"train\"][0]"
   ]
  },
  {
   "cell_type": "code",
   "execution_count": 19,
   "id": "a6e779bf-5224-4b28-858c-c14d0770b8d1",
   "metadata": {},
   "outputs": [
    {
     "data": {
      "text/plain": [
       "{'text': 'Unknown. Eyes / Ears / Mouth / Nares: Possible vision problems, but light responsive  Neurologic: Mild neurological symptoms, unbalanced',\n",
       " 'neurologic_disease': 1,\n",
       " 'hematologic_disease': 0,\n",
       " 'nonspecific': 0,\n",
       " 'respiratory_disease': 0,\n",
       " 'dermatologic_disease': 0,\n",
       " 'urogenital_disease': 0,\n",
       " 'ocular_disease': 0,\n",
       " 'physical_injury': 0,\n",
       " 'nutritional_disease': 0,\n",
       " 'gastrointestinal_disease': 0,\n",
       " 'clinically_healthy': 0,\n",
       " 'labels': [0.0, 0.0, 0.0, 0.0, 1.0, 0.0, 0.0, 0.0, 0.0, 0.0, 0.0]}"
      ]
     },
     "execution_count": 19,
     "metadata": {},
     "output_type": "execute_result"
    }
   ],
   "source": [
    "ds[\"train\"][226] "
   ]
  },
  {
   "cell_type": "markdown",
   "id": "c184ae50-42a0-474d-9232-03ca2f310863",
   "metadata": {},
   "source": [
    "Let us look at how long is each of the text description"
   ]
  },
  {
   "cell_type": "code",
   "execution_count": 20,
   "id": "49191f0e-b776-4116-805f-651336cbd14d",
   "metadata": {},
   "outputs": [],
   "source": [
    "text_stats = np.array([len(row.split()) if row else 0 for row in ds[\"train\"][\"text\"]])"
   ]
  },
  {
   "cell_type": "code",
   "execution_count": 21,
   "id": "a3a8087c-7e4b-4969-b5ea-b06c92d1863b",
   "metadata": {},
   "outputs": [
    {
     "data": {
      "text/plain": [
       "<Axes: ylabel='Count'>"
      ]
     },
     "execution_count": 21,
     "metadata": {},
     "output_type": "execute_result"
    },
    {
     "data": {
      "image/png": "[encoded data removed]",
      "text/plain": [
       "<Figure size 640x480 with 1 Axes>"
      ]
     },
     "metadata": {},
     "output_type": "display_data"
    }
   ],
   "source": [
    "sns.histplot(text_stats, bins=20, kde=True)"
   ]
  },
  {
   "cell_type": "code",
   "execution_count": 22,
   "id": "78e56a86-2705-4b20-ac42-ff5cea499cde",
   "metadata": {},
   "outputs": [
    {
     "data": {
      "text/plain": [
       "0.05666701581648685"
      ]
     },
     "execution_count": 22,
     "metadata": {},
     "output_type": "execute_result"
    }
   ],
   "source": [
    "(text_stats < 3).sum()/len(text_stats)"
   ]
  },
  {
   "cell_type": "markdown",
   "id": "5009ed34-667d-43bc-92d9-3296fa3fa8fa",
   "metadata": {},
   "source": [
    "1% of the data have words more than 128 words"
   ]
  },
  {
   "cell_type": "code",
   "execution_count": 23,
   "id": "2034a439-4bc0-4d5e-a852-6962c51cb4cb",
   "metadata": {},
   "outputs": [
    {
     "data": {
      "text/plain": [
       "0.010055514821409867"
      ]
     },
     "execution_count": 23,
     "metadata": {},
     "output_type": "execute_result"
    }
   ],
   "source": [
    "(text_stats > 128).sum()/len(text_stats)"
   ]
  },
  {
   "cell_type": "code",
   "execution_count": 24,
   "id": "21cecf10-521a-4357-acfe-d848821e66fb",
   "metadata": {},
   "outputs": [
    {
     "data": {
      "text/plain": [
       "0.0023043888132397612"
      ]
     },
     "execution_count": 24,
     "metadata": {},
     "output_type": "execute_result"
    }
   ],
   "source": [
    "(text_stats > 200).sum()/len(text_stats)"
   ]
  },
  {
   "cell_type": "code",
   "execution_count": 25,
   "id": "a6696f54-59bf-4bf8-a271-69a1675483d2",
   "metadata": {
    "scrolled": true
   },
   "outputs": [
    {
     "name": "stdout",
     "output_type": "stream",
     "text": [
      "Sick. bronhopneumonia\n",
      "Trichomonoza. Trichomonosis\n",
      "Grounded. Healthy\n",
      "Orphaned. DOA\n",
      "Trichomonosis. Trichomonosis\n",
      "NSF. NSF\n",
      "Orphaned\n",
      "Collision. NSF\n",
      "Orphaned. Orphaned\n",
      "Chronic apathy\n",
      "Appeared sick\n",
      "Unsafe Area\n",
      "NSF\n",
      "Displaced. Displaced\n",
      "NSF. NSF\n",
      "Undetermined. Undetermined\n",
      "Orphan. Orphan\n",
      "unknown\n",
      "orphan. orphan\n",
      "orphaned\n",
      "emaciated. emaciated\n",
      "unknown. Moribund\n",
      "Injury. injury\n",
      "Unknown. NSF\n",
      "Weak\n",
      "Hit window\n",
      "Orphaned. Orphaned\n",
      "Orphaned. Orphaned\n",
      "orphan. orphan\n",
      "orphaned\n",
      "beached\n",
      "sick\n",
      "Weak\n",
      "Unknown. Kidnapped\n",
      "Cat contact\n",
      "Unknown. DOA\n",
      "Healthy\n",
      "Fleas\n",
      "Beached\n",
      "sick\n",
      "orphaned\n",
      "Orphan. Orphan\n",
      "Unknown. NSF\n",
      "Weak. Thin\n",
      "Orphan. Healthy\n",
      "Orphaned\n",
      "Displacement. NSF\n",
      "Trauma. Healthy\n",
      "Orphan\n",
      "Injury\n",
      "Orphaned\n",
      "Orphan. Healthy\n",
      "cat caught\n",
      "orphaned. Orphaned\n",
      "lethargic\n",
      "beached\n",
      "Beached. Emaciated\n",
      "ill\n",
      "Beached. emaciated\n",
      "Orphaned. Nsf\n",
      "Orphaned. Healthy\n",
      "Orphan. Hipocalcemie\n",
      "Unknown. Mites\n",
      "Orphaned. Healthy\n",
      "Orphaned\n",
      "NSF. NSF\n",
      "Hit window\n",
      "Beached. NSF\n",
      "orphaned\n",
      "Orphaned. orphan\n",
      "beached\n",
      "Orphan\n",
      "hit window\n",
      "Orphaned. orphan\n",
      "Baby. Baby\n",
      "unknown. DOA\n",
      "orphan. orphan\n",
      "Beached. Debilitated\n",
      "Orphan. Healthy\n",
      "Not specified\n",
      "orphaned. orphaned\n",
      "Abandoned. Orphaned\n",
      "orphan. orphan\n",
      "weak/ sick\n",
      "orphan. orphaned\n",
      "Injury. Healthy\n",
      "Orphaned\n",
      "Orphan. CH\n",
      "Collision\n",
      "Weak\n",
      "Hatched CRU\n",
      "orphaned\n",
      "Orphaned. Orphaned\n",
      "Orphaned. orphaned/degloving\n",
      "?\n",
      "Healthy\n",
      "orphaned\n",
      "Sick. Weak\n",
      "Healthy\n",
      "Orphan. Orphan\n",
      "Displaced. Displaced\n",
      "NSF. NSF\n",
      "Healthy\n",
      "Orphaned. Orphan\n",
      "weak\n",
      "Kidnapped. Orphan\n",
      "Healthy. Healthy\n",
      "Orphaned. Healthy\n",
      "surrender. healthy\n",
      "Beached\n",
      "Orphan. Orphan\n",
      "NSF. NSF\n",
      "Grounded. DOA\n",
      "Beached. NSF\n",
      "Cat contact\n",
      "Orphaned. NSF\n",
      "NSF\n",
      "Orphaned. Healthy\n",
      "NSF. NSF\n",
      "NSF\n",
      "Orphaned. Orphan\n",
      "NSF. NSF\n",
      "Beached. Oiled\n",
      "Birdnapped. NSF\n",
      "NSf. NSF\n",
      "Beached. Emaciated\n",
      "Orphaned. Orphan\n",
      "Cat contact\n",
      "Orphaned. Healthy\n",
      "Orphaned. Orphaned\n",
      "Sick/Weak\n",
      "Orphaned. NSF\n",
      "Beached\n",
      "Sick/Weak\n",
      "DA/ Beached\n",
      "not specified\n",
      "Not specified\n",
      "Sick. Weak\n",
      "Orphaned. NSF\n",
      "Weak\n",
      "injured leg\n",
      "Displaced. Displaced\n",
      "Orphaned. Malnutrition\n",
      "orphaned\n",
      "Beached\n",
      "ill\n",
      "NSF. NSF\n",
      "Orphaned\n",
      "Seal bite\n",
      "wont fly\n",
      "Unknown\n",
      "HBC\n",
      "Orphaned. Releasable\n",
      "Beached. Thin\n",
      "Unknown\n",
      "Orphan. Orphan\n",
      "Orphaned. **Healthy\n",
      "Healthy\n",
      "Grounded. Emaciated\n",
      "sick\n",
      "ophaned\n",
      "Injury. Injury\n",
      "Sick/Weak\n",
      "Weakness\n",
      "sick\n",
      "orphaned\n",
      "Hatched CRU\n",
      "Unknown\n",
      "Undetermined. Undetermined\n",
      "Orphan\n",
      "NSF. NSF\n",
      "possible DA\n",
      "Orphaned. NSF\n",
      "Grounded. Healthy\n",
      "tree feld\n",
      "possible pox\n",
      "sick\n",
      "NSF. NSF\n",
      "wing injured\n",
      "NSF\n",
      "bleeding foot\n",
      "NSF. NSF\n",
      "Sick/Weak\n",
      "Orphan. Healthy\n",
      "HBC\n",
      "Trichomonosis. Trichomonosis\n",
      "Ill\n",
      "Grounded. Healthy\n",
      "NSF. NSF\n",
      "NSF. NSF\n",
      "Unknown. NSF\n",
      "Healthy. Healthy\n",
      "Orphaned. Orphaned\n",
      "dog caught\n",
      "ground\n",
      "orphan. orphan\n",
      "Abandoned\n",
      "Orphan. Orphan\n",
      "head trauma\n",
      "Orphan. Orphan\n",
      "Unknown. NSF\n",
      "Orphaned\n",
      "DOA. Emaciated\n",
      "Kidnapped. Orphan\n",
      "couldnt fly\n",
      "weak, lethargic\n",
      "Displaced. Displaced\n",
      "Orphaned. DOA\n",
      "Orphan. Lethargic\n",
      "NSF. NSF\n",
      "NSF. NSF\n",
      "Orphan. Healthy\n",
      "orphan. orphan\n",
      "orphan. orphan\n",
      "Beached\n",
      "unknown. Emaciated\n",
      "Grounded\n",
      "Beached\n",
      "Beached\n",
      "beached. NSF\n",
      "NSF. NSF\n",
      "NSF. NSF\n",
      "orphaned\n",
      "Orphaned. Orphaned\n",
      "grounded\n",
      "Kidnapped. Orphan\n",
      "BAR. Orphan\n",
      "orphaned\n",
      "Hawk caught\n",
      "oiled. Oiled\n",
      "sick, weak\n",
      "Undetermined. Undetermined\n",
      "Unknown. DOA\n",
      "Orphan\n",
      "ill. Cold\n",
      "BAR. Orphan\n",
      "orphaned. ORPHAN\n",
      "orphaned\n",
      "Healthy. Healthy\n",
      "Cat contact\n",
      "Oiled. Oiled\n",
      "injured\n",
      "nest destroyed\n",
      "Orphaned. Non-viable\n",
      "Hit window\n",
      "nest destroyed\n",
      "weak\n",
      "Orphan. CH\n",
      "orphaned\n",
      "sick\n",
      "injured eye\n",
      "NSF. NSF\n",
      "grounded. paraplegia\n",
      "Orphan. Orphan\n",
      "Orphan. Orphan\n",
      "Sick. Weak\n",
      "NSF. NSF\n",
      "Beached. Emaciated\n",
      "orphan. orphan\n",
      "DA\n",
      "Orphan. Orphan\n",
      "Baby. Baby\n",
      "injured eye\n",
      "tree feld\n",
      "sick/weak/injured\n",
      "Orphaned. Orphan\n",
      "NSF. NSF\n",
      "orphaned. Developmental\n",
      "HBC. Dehydration/emaciation\n",
      "Healthy, dehydrated\n",
      "beached\n",
      "unknown\n",
      "NSF. NSF\n",
      "Orphaned. orphan\n",
      "Orphaned\n",
      "Appeared injured\n",
      "Beached. NSF\n",
      "Orphaned. NSF\n",
      "Cat contact\n",
      "disoriented\n",
      "Injured\n",
      "Cat interaction\n",
      "Botulism. Botulism\n",
      "Sick/Weak\n",
      "Cat contact\n",
      "not flying\n",
      "lethargic. lethargic\n",
      "orphaned\n",
      "Sick\n",
      "Unknown. NSF\n",
      "Nest destroyed\n",
      "Orphaned\n",
      "Unknown. DOA\n",
      "Orphaned. NSF\n",
      "Orphan. **emaciate\n",
      "Nest destroyed\n",
      "Sick/Weak, Oiled\n",
      "Orphaned. Healthy\n",
      "NSF. NSF\n",
      "Not specified\n",
      "sick\n",
      "Orphan. ***Emaciated\n",
      "Beached. Emaciated\n",
      "Orphaned. Anemia\n",
      "head trauma\n",
      "injured. Orphaned\n",
      "NSF. NSF\n",
      "Healthy. Healthy\n",
      "X\n",
      "orphaned\n",
      "Orphan. Orphan\n",
      "Not flying\n",
      "Orphan\n",
      "Orphaned. Orphaned\n",
      "Unknown\n",
      "Orphan. Healthy\n",
      "Beached. NSF\n",
      "Orphaned. NSF\n",
      "Grounded\n",
      "orphaned. orphan\n",
      "Orphaned, Sick/Weak\n",
      "weak\n",
      "NSF. NSF\n",
      "Orphaned. Healthy\n",
      "Orphaned. NSF\n",
      "Beached\n",
      "avian pox\n",
      "NSF\n",
      "unknown- injury\n",
      "sick\n",
      "Orphaned. Malnutrition\n",
      "NSF\n",
      "sick\n",
      "Orphan\n",
      "Orphaned. Healthy\n",
      "sneezing, lethargic\n",
      "Orphan. Orphan\n",
      "Grounded. Emaciated\n",
      "Displaced. Displaced\n",
      "Beached/ DA\n",
      "sick/injured\n",
      "Cat contact\n",
      "nest destroyed\n",
      "Orphaned. Healthy\n",
      "orphaned. Developmental\n",
      "lethargic\n",
      "Sick. Sick\n",
      "Collision- Stationary\n",
      "orphan. orphan\n",
      "Juvie\n",
      "Displaced. Displaced\n",
      "Dog contact\n",
      "unknown. orphan\n",
      "Abandoned. Orphaned\n",
      "Beached\n",
      "beached\n",
      "Orphan. Healthy\n",
      "Orphaned\n",
      "Unknown\n",
      "sick\n",
      "Hit window\n",
      "Orphan. Healthy\n",
      "NSF. NSF\n",
      "Undetermined. Undetermined\n",
      "Grounded. Healthy\n",
      "Orphan. Healthy\n",
      "orphaned. nsf\n",
      "NSF. NSF\n",
      "Orphaned. Hypothermia\n",
      "Orphaned. NSF\n",
      "orphaned\n",
      "cat caught\n",
      "orphaned. Orphaned\n",
      "Trichomonosis. Trichomonosis\n",
      "Orphan\n",
      "Not flying\n",
      "surrender. Healthy\n",
      "Orphaned. Healthy\n",
      "sick\n",
      "orphaned, lethargic\n",
      "Undetermined. Undetermined\n",
      "Hit window\n",
      "Poisoned, Sick/Weak\n",
      "DOA. unknown\n",
      "Beached\n",
      "Grounded. Injured\n",
      "Undetermined. Undetermined\n",
      "lethargic\n",
      "Healthy\n",
      "sick\n",
      "oiled. Oiled\n",
      "NSF. NSF\n",
      "Neurological Symptoms\n",
      "Orphaned. Healthy\n",
      "Orphaned\n",
      "Grounded. Healthy\n",
      "Orphan. Orphan\n",
      "heavily oiled\n",
      "unknown. Paralysis\n",
      "Orphaned/Abandoned. Orphaned\n",
      "NSF. NSF\n",
      "NSF. NSF\n",
      "Unknown. NSF\n",
      "DOA. unknown\n",
      "NSF. NSF\n",
      "Window hit\n",
      "Orphaned. Non-viable\n",
      "orphan. orphan\n",
      "Beached. Emaciated\n",
      "Orphaned. Healthy\n",
      "NSF. NSF\n",
      "Torticollis. Torticollis\n",
      "Unknown. NSF\n",
      "Penile Prolapse\n",
      "Sick. Weak\n",
      "Cat contact\n",
      "orphan. orphan\n",
      "Weak. Weak\n",
      "Injury. Stunned\n",
      "Healthy\n",
      "Weak. Weak\n",
      "Grounded\n",
      "Beached. DOA\n",
      "Orphaned\n",
      "Orphan. Healthy\n",
      "Orphaned, weak\n",
      "Sick/Weak\n",
      "NSF. NSF\n",
      "orphan\n",
      "Sick. Poxvirus\n",
      "Orphaned/Baby. NSF\n",
      "Beached\n",
      "poss ill\n",
      "orphaned\n",
      "Seizures\n",
      "NSF. NSF\n",
      "Cat contact\n",
      "HBC\n",
      "Orphaned. Healthy\n",
      "broken wing\n",
      "orphan. orphan\n",
      "unknown\n",
      "Beached\n",
      "Orphan. Orphan\n",
      "Orphaned. NSF\n",
      "Collision\n",
      "NSF\n",
      "NSF. NSF\n",
      "Orphan. orphan\n",
      "Orphaned. IHI\n",
      "Cat contact\n",
      "Orphan. Orphan\n",
      "beached. Beached\n",
      "NSF\n",
      "Undetermined. CH\n",
      "hit window\n",
      "Orphan. Orphan\n",
      "Orphaned. NSF\n",
      "weak\n",
      "Injury\n",
      "injured. neurological\n",
      "Hit window\n",
      "Sick/Weak\n",
      "Sick/Weak\n",
      "Emaciated\n",
      "Sick. *Poxvirus\n",
      "Orphaned\n",
      "physical trauma\n",
      "Beached. NSF\n",
      "Grounded. Healthy\n",
      "Orphaned. Displaced\n",
      "Sick/Weak\n",
      "Orphan. Healthy\n",
      "unknown. NSF\n",
      "Orphaned. NSF\n",
      "Unknown. NSF\n",
      "bleeding\n",
      "Grounded. Healthy\n",
      "Orphaned. displaced\n",
      "Rodenticide poisoning\n",
      "nest destroyed\n",
      "Sick/Weak\n",
      "Displaced. Displaced\n",
      "NSF. NSF\n",
      "Kidnapped. Orphan\n",
      "Skinny. NSF\n",
      "sick, injured\n",
      "Beached\n",
      "Sick/Weak\n",
      "sick, injured\n",
      "Poison\n",
      "Weak. Weak\n",
      "weak\n",
      "Orphaned. Orphaned\n",
      "Orphan. Healthy\n",
      "Orphaned. Orphaned\n",
      "surrender. Healthy\n",
      "orphan. orphan\n",
      "tree felled\n",
      "orphaned\n",
      "Orphan. Emaciated\n",
      "Weak. Debilitated\n",
      "Emaciated. Emaciated***\n",
      "nest destroyed\n",
      "Orphan. Orphan\n",
      "Cat contact\n",
      "Kidnapped. NSF\n",
      "orphaned\n",
      "Orphaned. Orphan\n",
      "Cat caught\n",
      "Weak\n",
      "sick\n",
      "nest destroyed\n",
      "Dumped/Lost. NSF\n",
      "Displacement. NSF\n",
      "Relocation/Dehydration. Dehydration\n",
      "Orphaned. Healthy\n",
      "Weak. Weak\n",
      "Sick/Weak\n",
      "nest destroyed\n",
      "DA\n",
      "Orphaned\n",
      "weak\n",
      "Cat caught\n",
      "NSF. NSF\n",
      "NSF. NSF\n",
      "Orphan. Pink\n",
      "Beached\n",
      "orphaned\n",
      "undetermined. Paralysis\n",
      "sick, injured\n",
      "Orphan. Orphan\n",
      "Orphan. Healthy\n",
      "Displaced. Displaced\n",
      "Beached\n",
      "Emaciated\n",
      "oil. anemia\n",
      "HBC. Dehydration/emaciation\n",
      "lacerated back\n",
      "NSF\n",
      "Orphaned\n"
     ]
    }
   ],
   "source": [
    "for row in ds[\"train\"][\"text\"]:\n",
    "    if len(row.split()) < 3:\n",
    "        print(row)"
   ]
  },
  {
   "cell_type": "code",
   "execution_count": 26,
   "id": "c7e75700-5c3c-4df3-86b5-92d33de61b00",
   "metadata": {},
   "outputs": [
    {
     "name": "stdout",
     "output_type": "stream",
     "text": [
      "470 Undetermined. Luxation - Elbow Joint (L). Eyes / Ears / Mouth / Nares: Initial exam showed eyes, ears, nose, and mouth are clear, but mouth seems mildly tacky. Body: Keel is pretty thin (1.5 out of 5). Wings / Arms: Luxated left elbow. Cannot be in fig-eight without popping back out. Initial exam showed eyes, ears, nose, and mouth are clear, but mouth seems mildly tacky.  Keel is pretty thin (1.5 out of 5).  Luxated left elbow. Cannot be in fig-eight without popping back out. Live checked at 9:15a - very depressed and lethargic. Leaning again the door in the ICU and didn't acknowledge when I opened the door. Immediately got O2 chamber ready for him and texted Heather and Meghan for how they'd like me to handle it. MW felt maybe he's going septic so I administered 0.3cc fresh Ampicillin and 0.13cc Baytril. Did not administer Torb or Metacam per Heather's suggestion. Gave 12cc LRS (so passive I could cradle him in one arm and push in the fluids with the other hand. Dark mouse and hairless mouse were left over in the enclosure. No cast. Several mutes in the enclosures - all were bright green and some were quite watery (perhaps that is from an attempted cast?). Continued to check several times throughout the morning. As of 11:15a there is no change in LOC and breathing still seems quite labored. 12:15 PM - Live checked - Mantling when I checked on him - half standing (some on his feet and some on his hocks) and more active than when last checked. 2:30 PM - Much more alert upon initial encounter, but quickly faded as I was giving 0.3cc Ampicillin and 12cc LRS. Was able to prop him up on a towel in O2 and give the fluids without even restraining his legs... He is acting like he is gasping for breath. Another fecal in the chamber - very small and very green. Put him back in the modified donut for support (he had gotten himself out). 3:00 PM - Took a quick chest x-ray and sent it to heather and Meghan as well as a photo of the deep purple vein in the back of his mouth. He is again very lethargic and \"sleepy\", but he has more energy after sitting in the O2. I bumped the O2 to 45% in case he is indeed struggling to get enough air. 5:00 PM - Seems a bit more with it again. Lisa and BC gave 12cc LRS as quickly as possible out of the o2 chamber. He faded quickly. Skin appears to have a lot of bruising all over... noticed on left leg as well. Still straining to breath. 7p: CA in to give him 0.3cc Amp IM. Very strained breathing. Kept time out of 02 to a minimum\n",
      "--------------------\n",
      "261 resident found in middle of street; resident put into box. Feathers / Fur / Skin: In molt; no broken feather patches found; waterproofing and buoyancy NOT tested Body: Possible crepitus in L coracoid towards keel? Legs / Feet / Hocks: RD3 - abrasion on distal and medial joint on plantar surface. [Flushed with nolvasan and covered with tegaderm]. Temp normal on intake, bird is BAR and feisty for handling.  Bird was found in middle of road on pavement [area found is just south of San Joaquin River], both L and R feet have moderate soft-tissue damage on all digits, worst wounds are on L middle digit where \"nail\" of digit appears to have been torn/abraded off of digit entirely On R foot middle digit, one lesion appears somewhat deep with possible bone/tendon exposure... Rx-ing Baytril and Clind given extent and location of foot wounds, low dose SID meloxicam, tube.  Cleaned feet and wounds with dilute chlorhex; .  We don't have any hydrogel or similar, also we don't have \"normal\" tegaderm so I'm improvising a bit- want to get wounds covered to prevent further abrasion and get feet covered to avoid further friction.  Applied small amount of water-based lubricant to both feet and covered with \"booties\" made out of some weird/thick Tegaderm derivative.  Added stockinette over feet and fastened below hocks using vetwrap, and joined ends of booties with tape.  Wings, legs, spine all palpate WNL- possible crepitus felt in L coracoid but difficult to reproduce.  Plan to tube bird fluids, get meds on board and get to IBR ASAP. (Mariah MH)\n",
      "--------------------\n",
      "221 Collision - Window (Paul and his wife saw the bird strike the glass - the bird was grounded when we arrived, but was able to try to run/hop away.). Trauma - Head. Eyes / Ears / Mouth / Nares: Eyes, nares and ears are clear.  Mouth has blood in the back on the esophagus - does not appear to be in the trachea.  Neurologic: Bird has overall demeanor of head trauma/stunned. No pain sensation going down back/spine area. Legs / Feet / Hocks: Legs seems to be ok.  Initial exam indicated possible problems with the left foot, but bird is able to stand on both feet and was using the left foot some to reach/attempt to foot by the time we got him/her into O2.. Eyes, nares and ears are clear. Mouth has blood in the back on the esophagus - does not appear to be in the trachea.  Bird has overall demeanor of head trauma/stunned. Wing palpation showed no breaks - x-ray appears to confirm. No pain sensation going down back/spine area. Food/crop distended with a fresh meal. Legs seems to be ok.  Initial exam indicated possible problems with the left foot, but bird is able to stand on both feet and was using the left foot some to reach/attempt to foot by the time we got him/her into O2.\n",
      "--------------------\n",
      "282 Shot - Pellet. Feather Damage; Soft Tissue Damage - Hallux (R). Feathers / Fur / Skin: It has 3 broken primaries on left and 1 on right.  It has three primaries about 1/4 in on the right side, looks like number 4-7 on left side moulted all at once recently in addition to the broken primaries.  It looks like this bird was in a wire cage of some sort: the tail is all frayed, broken primaries, and the sore on the foot. Legs / Feet / Hocks: X-ray showed no break to wing with injury, and a pellet in right halyx. What appears to be a through and through on its right wing.  It is at least a week old wound.  It has an old issue with its right halax, either a break or dislocation. old presure sore on the side of the broken halax. X-ray showed no break to wing with injury, and a pellet in right hallux. What appears to be a through and through on its right wing.  It is at least a week old wound.  It has an old issue with its right hallux, either a break or dislocation. old pressure sore on the side of the broken hallux.  In thin but not emaciated condition.  It has 3 broken primaries on left and 1 on right.  It has three primaries about 1/4 in on the right side, looks like number 4-7 on left side molted all at once recently in addition to the broken primaries.  It looks like this bird was in a wire cage of some sort: the tail is all frayed, broken primaries, and the sore on the foot. treated with droncit and ivermectin on 2.14.12\n",
      "--------------------\n",
      "211 Undetermined-Inability to Fly (Retrieved by Jessie Stirling. Dallas noticed the bird on 8/25 in the morning. It was located down Etna Forest Service Road until there was a T in the road. (East Etna road is to the left and there is a gravel road to the right.) Take the gravel road and continue straight on the gravel road. The bird was first found south of the cattle guard (near blue and white bucket) in the road. Dallas saw the bird again around 7 pm and it was off to the side of the road closer to the Y intersection. Jessie went out and searched the road by Dallas' directions and had no luck locating the bird. She then went down the other part of the Y and noticed the bird in the field to the north. It was dragging its right wing as Dallas had mentioned. Jessie was instructed by Meghan to keep the bird until morning, when Jessie would be volunteering at the Raptor Center.). Fx - Humerus; Fx - Ulna; Fx - Radius. Wings / Arms: Complete break to humerus, midline. Ulna and radius near elbow, 1/2 in over riding of radius. Complete break to humerus, midline. Ulna and radius near elbow, 1/2 in over riding of radius\n",
      "--------------------\n",
      "270 TBD - vet. Malnutrition, leptospirosis. Eyes / Ears / Mouth / Nares: Markedly dehydrated. Tacky, mucoid ocular discharge OU. Mucous membranes injected and tacky. Neurologic: Lethargic, depressed mentation, normal motor function in all four flippers Heart / Lungs: Normal rate and rhythm, normal BV sounds bilaterally. Musculoskeletal: NSF Feathers / Fur / Skin: No external wounds Body: NSF Wings / Arms: NSF Legs / Feet / Hocks: RRF tag (white) #2202. S: Male weaned elephant seal pup was rescued from Ocean Shores in Grays Harbor county the afternoon of 27 May. Pup was first noted this morning, was rescued by WDFW and transported to SR3 the evening of 27 May. Upon arrival, pup was depressed, dehydrated. Mentation mildly improved after the administration of IV dextrose (see below).\n",
      "O: See above\n",
      "A:\n",
      "DIAGNOSTICS\n",
      "Blood glucose: 36 mg/dL\n",
      "CBC: Marked Leukopenia (3.9k WBC), characterized by a neutropenia (3.5k/92%) and lymphopenia (234/6%).\n",
      "Chemistry: Marked hyperproteinemia (8.3), hyperglobulinemia (5.0), marked azotemia (BUN 345 Cr 10.1), marked hyperphosphatemia (20.7).\n",
      "1. Marked azotemia with electrolyte derangements: Degree of azotemia is suggestive of primary renal disease (r/o leptospiral glomerulonephritis vs. other); however pre-renal and post-renal etiologies should be considered.\n",
      "2. Neutropenia: Consider infectious (leptospirosis vs. otostrongylus) vs. other systemic disease process.\n",
      "3. Malnutrition, dehydration: secondary to 1 vs. primary nutritional vs. other systemic disease process.\n",
      "P:  Treatments: Administered 30mLs 25% dextrose IV, followed by 1L 0.9% NaCl IV and 1L of 0.9% NaCl w/ 2.5% dextrose SQ. Mild improvement in mentation noted after treatments were administered. Attempted to tube patient, seal regurgitated sandy, brown liquid. Provided heat support, elected to forgo tubing and re-evaluate in the AM\n",
      "--------------------\n",
      "226 Debilitated. Eyes / Ears / Mouth / Nares: Very small amount of scabbing on left side face around eyes Feathers / Fur / Skin: Fur tinted orange-red along both legs in inguinal regions and along both right and left lower flanks. No wounds found in either region. Coloration appears to be due to some kind of dye on feathers, skin not tinted. Patient also smells strongly of skunk. Oils on feathers on chest and lower abdomen. +Feather lice as well--delta dusted. No bath given at this time due to high stress. Wings / Arms: Scabbing along right wing distal to wrist. Unable to palpate fx along right wing. Able to flap both wings fairly well but right wing weaker than left. No rads taken at intake. Reassess in 2 days for possible bath and further assessment of injury on right wing. Legs / Feet / Hocks: Large scab along lateral aspect right hallux. Dr Kushnir cleaned scab with chlorohex. Able to remove necrotic portions of scab over wound with scalpel (lidocaine applied). Superficial laceration present. Flushed with saline. Applied TAO. No bandage applied at this time. Bearing weight on foot and gripping well. Small cactus spines removed from plantar aspects both feet. Patient debilitated--dehydrated and thin. Wound along right wing and right hallux. Likely sprayed by skunk. Reassess in 2 days for bath and wound assessment\n",
      "--------------------\n",
      "235 He was found in the median of the road, no trees anywhere near there.  He was brought into the shelter.  Unknown how he ended on the median. Eyes / Ears / Mouth / Nares: L eye hyphema at 5-7 o'clock - blood on the bottom of the eye, slight bruising on the back of the eye visible in the L ear, blood in the choanal slit, anisocoria - L pupil significantly more dilated than the R;  Ophthalmic exam by AD - OS: dilated and no PLRs, intact but slow palpebral response, hyphema along the 5-7 region of the eye, significant aqueous flare present; large visible blood clot filing the vitreous chamber obscuring the view of the retina but was can be seen appears very pale; OD: very mild amount of aqueous flare; retinal fold/chorioretinal scarring around the pectin, does not appear to have active inflammation/bleeding, PLRs brisk and intact, normal palpebral response; no stain uptake OU, but after flushing eyes patient was not seen having a good palpebral response OS Neurologic: QAR, bitey Heart / Lungs: HR = 150, potentially brachycardia per AD, lung sounds WNL Body: bruising on the cranial-most aspect of the keel where the clavicles meet Legs / Feet / Hocks: RD3 R lateral aspect pinpoint laceration and active bleeding - suspect puncture from another talon, patches of bruising on the R lateral femur - more proximal R femur potentially slightly swollen?,\n",
      "--------------------\n",
      "294 Chick/Fledgling - Orphaned (Got a call from Dan with IDFG in the morning that he'd ended up with a young \"turkey vulture\" (took us all afternoon to realize it was a barn owl!).  Found on the ground near a warehouse - he looked and looked for a nest to no avail.  Transferred via Bev in Swan Valley. Dan noted that he had fed the bird some deer meat last night). Trauma - Head; Fx - Mandible; Chick/Fledgling - Orphaned. Eyes / Ears / Mouth / Nares: Initial exam revealed a swollen are in the upper right area of the mouth, deep bruising on the tip of the beak, and dried blood around both nares.  Eyes swollen shut / don't open well, but bird is still young. BROKEN MANDIBLE. Neurologic: Trauma - Head. Initial exam revealed a swollen are in the upper right area of the mouth, deep bruising on the tip of the beak, and dried blood around both nares.  Eyes swollen shut / don't open well, but bird is still young.  Bird is dirty and has an odor, but is going to the bathroom. Estimate 18-20 days old.\n",
      "Very unsteady on its feet, cannot stand, but is able to balance on it hocks.  \n",
      "BROKEN MANDIBLE. Bird was willing to take 3 small bites of mouse in the afternoon and about 1/2 mouse during the 6:45p feeding/meds.  \n",
      "Many body feathers starting to come in, but the bird is still 100% covered in down at this point.  \n",
      "Started the bird on fluids (5cc 3-4 times per day), 0.03cc Metacam diluted to 0.1cc with LRS, 0.13cc Baytril and 0.33cc Ampicillin. TRC received transfer approval from USFWS on 4.1.16 to transfer to TRC education program. We put gear on him and moved him to the ed barn\n",
      "--------------------\n",
      "355 Inability to Fly (Finder found patient in gravelpits grounded in Driggs, ID. Called TRC around 11am and BC answered. Finder texted BC photo, and we confirmed it was a GHOW. BC was able to get ahold of Rob C. from IDFG and got verbal permission to transport patient over to WY. BC and SR met finder in Driggs and picked up patient. Finder said he found the patient neither near a road nor by any powerlines. He also said initially there was no blood, but when BC and SR got there there was fresh blood coming from patient's wound.). Fx - Metacarpals (L). Wings / Arms: Patient's L wrist was obviously not being used, and had a compound fracture. Bone was poking through, and bleeding was very fresh. Rads were taken, and there was 2 obvious breaks in the L phalange, if not more. Legs / Feet / Hocks: Small old scrape on R foot 3rd talon. Patient's L wrist was obviously not being used, and had a compound fracture. Bone was poking through, and bleeding was very fresh. 1:00P-Administered 0.1cc Torb IM on spot. Rads were taken, and there was 2 obvious breaks in the L phalange, if not more. Patient was extremely alert, aware, and very active. Very very healthy bird despite fresh break. Eyes, ears, mouth, nares, coracoids, spine, legs, feet, and vent all checked out clean. Small old scrape on R foot 3rd talon. 2:00P- Administered another 0.1cc Torb. BC cleaned wound, and attempted to realign breaks with wrap- new rads were taken, and although one of the bones was spot-on, second major break was not, although better than before. Consulted with Heather, who agreed to take a look. 3:30P- Patient given 7.5cc Baytril IM. 4:00p- Dr. Heather sedated patient, and realigned bones. New rads were taken- bones were beautifully aligned! Decided to put patient on a regime of Torb QID, Amp QID, Bay BID, and Meta SID. Also regularly check temperature of wrist, make sure hasn't gone cold. Re-xray at 72hrs and move forward from here. 4:30P- Administered 0.22cc Meta IM. 9:45P- Administered 1.3cc Amp IM and 12cc LRS SQ\n",
      "--------------------\n",
      "388 Undetermined (Circumstances unknown. Rob Cavallaro called, and transferred patient to Becky.). Luxation - Shoulder (R); Luxation - Elbow (L). Wings / Arms: R SHOULDER LUX. Patient moderately/severely drooping right wing. Left wing looked and felt good. Rads were taken- possibly elbow dislocation on right wing, and swelling in left wing (possible bone bruise?). No bruising or discoloration was found in left wing. R SHOULDER LUX. Patient moderately/severely drooping right wing. Left wing looked and felt good. Both legs looked and felt good. Both eyes have slight greenish hue. Mouth, ears, beak, feet look good. No outside wounds found. Rads were taken- possibly elbow dislocation on right wing, and swelling in left wing (possible bone bruise?). No bruising or discoloration was found in left wing. Prescribed 0.09cc Torb IM BID, 0.09cc Metacam IM BID, 12cc LRS SQ BID (until eating on own). Keel score 1.5/5, Patient had been with us for 6 weeks and had little to none wing-use improvement. Patient was admitted with a R wing droop initially. Rads were taken and patient was diagnosed with an elbow dislocation. Wing was wrapped from 11.6.15-11.18.15 following normal procedure of changing wrap with wing PT every 72hrs. No change in wing droop, so continued this procedure 11.19.15-11.29.15. Although patient was holding wing a little closer to its body, patient was still unwilling to use it. Left unwrapped. On 11.30.15 Dr. Heather tried a steroid shot in shoulder- again, patient seemed to hold wing a little better, but no increase in use. We began an acupuncture regime with Dr. Christie, taking place on 12.11.15, 12.14.15, 12.17.15- unfortunately, no change. We also started doing PT everyday per Dr. Christie's request, starting 12.15.15-12.21.15, resulting in no change. BC tried patient on creance line on 12.22.15 for increased exercise, but patient was unwilling to fly, and would only run. Patient stopped eating from 12.19.15-12.23.15.  At this point, patient was reassessed, and with all we have tried, no changes in wing use was ever found. Patient was initially found roadside and emaciated- its thought that maybe the injury was old when we found patient, and scar tissue may have already set in too much for us to be able to work past. All concurred that patient was unlikely to make a full recovery, and was not a candidate for an education bird due to injury\n",
      "--------------------\n",
      "424 Collision - Wind Turbine. Fx - Radius (L); Fx - Ulna (L). Wings / Arms: previously diagnosed left radial/ulnar fracture is stable on palpation, though mildly to moderately misaligned on radiographs, there is evidence of healing noted via fracture callous formation. He arrived in Jackson tonight and is in good body condition.  His previously diagnosed left radial/ulnar fracture is stable on palpation, though mildly to moderately misaligned on radiographs. There is evidence of healing noted via fracture callous formation. \n",
      "After evaluation, he was admitted to the Teton Raptor Center. We will continue medical management for the next 1-2 weeks with concurrent physical therapy prior to considering flight assessment. SCAH Bills\n",
      "BACKGROUND on GOEA:\n",
      "Retrieved on Friday, January 23rd near Evanston, Wyoming.\n",
      "Cause of Injury:  Wind Turbine\n",
      "Injury Sustained: Fx Left distal ulna/radius\n",
      "Treatment:\n",
      "Dr. Bechaver did go into repair Fx and discovered significant callus formation, so he opted not to continue.\n",
      "Bruising and seroma where it hit. Seroma was drained.\n",
      "Meds: Antibiotics\n",
      "Good extension on left wing.\n",
      "X-rays taken\n",
      "Weight: 6.6 lbs.\n",
      "GOEA did not eat on its own to start, but is now feeding independently.\n",
      "Food while at MJB Clinic includes: rabbit and roadkill deer and elk provided by WGFD.\n",
      "Containment: Eagle is being held in a dog kennel at MJB Clinic. Able to stand, not able to spread wings.\n",
      "TRANSFER PLAN:\n",
      "Rox Rogers of USFWS to pick up GOEA at MJB Clinic at 10:30 am on Monday, February 9th.\n",
      "Rox to call TRC (307) 203-2551 upon departure to relay ETA in Pinedale.\n",
      "RC will be sending a staff member or trained volunteer for retrieval in Pinedale (recommended location for meeting): Daniel Junction Foodmart - 11072 Highways 189, Daniel, WY 83115\n",
      "\n",
      "QUESTIONS:\n",
      "Dr. Bechaver:\n",
      "Can you please email records and x-rays to amy@tetonraptorcenter.org?\n",
      "It would be best if we can maintain the eagle in the carrier it is transported in from MJB, so we do not have to move it to another kennel in Pinedale. Will that be OK?\n",
      "We can try to get the kennel back to the MJB Clinic when someone is headed in that direction next or Trish, is this an expense that the MJB Clinic can be reimbursed for, so that they can replace the transport kennel? Medical Supplies\n",
      "2/24/15 - Baytril 3*20mL $126\n",
      "Meloxicam 4*1omL $189 \n",
      "2/19/15\n",
      "Rads (3-4) at SCAH $275\n",
      "Exam $95\n",
      "Consult $85\n",
      "Discount $91\n",
      "Mileage to Marbleton for pick-up\n",
      "Mileage to Cora for release.  Eagle was outfitted with a satellite transmitter furbished by USFWS and it was fitted by Bryan Bedrosian prior to release\n",
      "--------------------\n",
      "207 limping, noy flying, lethargic, did not move when approached. B1, B2 - systemic disease vs. red tide/toxicity. Eyes / Ears / Mouth / Nares: White plaques/pustules on dorsal surface of oropharynx. Pouch sticking together. Neurologic: Severely weak, keel-resting and spreading wings when walking. Suspect ataxic rather than lame. Legs / Feet / Hocks: ~0.8 cm old laceration plantar aspect of distal LEFT 3rd digit. A: Adult BRPE presented for limping, not flying, and lethargy. PE showed emaciation, severe dehydration, and weakness. Suspect apparent lameness is severe weakness and ataxia rather than injury. r/o brevetoxicosis vs. renal disease vs. aspergillosis vs. viral infection vs. bacterial infection vs. other toxin vs. other systemic disease. Swab of oral plaques negative for trichomonas - r/o bacterial vs. yeast vs. parasitic. \n",
      "P: NormR IV @ 50 ml/kg/d. Start metronidazole 25 mg/kg PO BID per RT protocol, gabapentin 15 mg/kg PO BID in case of pain, refeeding plan 3-5% P-care to WF + 1 SeaTab, monitor for melena, cloacoliths, and pododermatitis. Recheck neurologic status and gait daily for next 3 days, obtain PLOP rad 12/29, recheck auscultation and adjust fluid rate as needed 12/29, consider checking chemistry 12/29 or 12/30. Pending stability and clinical progress, HOLD for full rads +/- pull IVC 1/1\n",
      "--------------------\n",
      "321 Collision - Car (Driver saw a car hit this patient. He turned around, and was able to scoop her up easily and bring her to TRC.). Eye Trauma - Hemorrhage (Both). Eyes / Ears / Mouth / Nares: Both eyes had blood floating in them. Ears looked good- eyes looked swollen. Patient's pupils were dilating with vision flashlight test, but not very consistent. Beak was bloody on the outside, but no wounds seen- blood assumed to have come from last meal. Wings / Arms: Left wing felt good, though patient flinch a bit when they were pulled out. Right wing popping twice during exam- patient seemed to flinch when touching phalange. Rads were taken and sent to Heather, Becky, and Megan. Although the phalange bones look out of place, it is even on both sides- will have to wait for further eval from Heather. NO MAJOR INJURIES FOUND.\n",
      "Sarah and Amy evaluation patient on admit. Patient was not struggling much, and did not seem very aware of surroundings. Both eyes had blood floating in them. Ears looked good- eyes looked swollen. Patient's pupils were dilating with vision flashlight test, but not very consistent. Beak was bloody on the outside, but no wounds seen- blood assumed to have come from last meal. Feet had no wounds, but were black on the bottom- looking similar to a tar material. Legs both felt good. Spine good. No open wounds on body found. Keel scored 3/5. Left wing felt good, though patient flinch a bit when they were pulled out. Right wing popping twice during exam- patient seemed to flinch when touching phalange. Rads were taken and sent to Heather, Becky, and Megan. Although the phalange bones look out of place, it is even on both sides- will have to wait for further eval from Heather.\n",
      "\n",
      "\n",
      "\n",
      "Patient was given in LRQ 0.49cc Dex IM, 0.14cc Torb IM, and 24cc LRS SQ, split in both legs\n",
      "--------------------\n",
      "206 Found in ghost crab nest, covered in ants. B3, B1 - Predator Attack, systemic/infectious disease. Eyes / Ears / Mouth / Nares: dried hemorrhage around the eyes and nose, oral hemorrhage, bleeding from the L lower mandible,  pale mucous membranes Neurologic: generalized paresis Heart / Lungs: dyspnea on prolonged handling Legs / Feet / Hocks: actively bleeding from wound on L plantar TMP. A: Adult SESA presented for being found in a ghost crab nest, covered with ants. Upon examination, SESA was found to have dried hemorrhage around the eyes and nose, oral hemorrhage, actively bleeding from wound on L plantar TMP, was bleeding from the L lower mandible, generalized paresis, dyspnea on prolonged handling, a quiet mentation, a cool body temperature, pale mucous membranes, a thin BCS, and severe dehydration. SESA was given Simbadol 0.3mg/kg SQ, wounds were closed with skin glue, and placed in O2. Concern that trauma may be secondary to underlying systemic disease given paresis- possible RT vs HPAI vs bacterial encephalitis vs other. \n",
      "P: Plan to start SESA on Meloxicam 1mg/kg PO BID, TMS 48mg/kg PO BID, FF PC/IS q 2 hours if DNE, wean O2 in 3 days, check neuro and wounds tomorrow, clean/express cloaca BID, and check melena SID\n",
      "--------------------\n",
      "232 Collision - Car (Jason found patient, and transferred to Terence Brown (nicknamed Red) who brought him to TRC. Patient was found on Spring Gulch Road near entrance to Amangani. Two birds were found- 1 was dead, and the 2nd was very out of it. Finder scooped up patient, kept in box overnight, and dropped off patient in the AM. 12.4 2:30pm Jason called to check up on bird and ask some questions- SR responded, let him know that patient was in O2, looking good at this stage, but its very much a day-by-day thing. He wanted to know if we were hoping for release- I said yes always of course aiming for that, by we'll have to see how his injuries progress. Not sure about why 2 NSWO were found- maybe roadkill nearby? All speculation.). Fx - Mandible; Fx - Coracoid. Eyes / Ears / Mouth / Nares: Possible broken jaw, no power in bite and it hangs open. Wings / Arms: broken coracoid. BROKEN JAW AND CORACOID.  Possible broken jaw, no power in bite and it hangs open. Eyes, ears, nares, coracoids, wings, spine, feet, legs are all good. Patient is alert, aware, and fighting when trying to catch in enclosure. Patient placed in O2 @ 40% for 24hrs or until acting normal. 0.01cc Metacam diluted to 0.05cc with LRS IM BID for 5 days. Force-fed 20-30g dm until self feeding\n",
      "--------------------\n",
      "217 Collision -Car (Bird was hit by car on 10.23.15 at night. Driver believed it had bounced off and flew away, but in the morning found patient within the car grill. Kimberly Nykamp: 208-258-4001 - person who hit the owl and called it in.). Undetermined. 1pm-Patient was found standing in box. Eyes clear, ears clear, mouth pink and moist, keel scored 3, L wing good, R wing good, feet good. Both helix with blood, and light blood on chest feathers. L helix bleeding scab, hard to say within scrape is from this event or from previous event and had the scab pulled off. Pupils dialated and react to movement, but not a lot of hissing or clicking from patient. Patient would follow Becky as she moved back and forth (Becky was standing about 2 feet away from owl) but with hand movements close to face, not much of a reaction. 2 X-rays were taken of patient, bird on back with wings pulled out and legs pulled down, as well as lateral view with bird laying on left side wings pulled back. Both pictures seemed clear of any breaks on initial look, photos were emailed to Dr. Heather for a further look.\n",
      "\n",
      "\n",
      "\n",
      "Patient was given 1 dose of DEX 0.5cc IM, 0.15cc Torb IM and 12cc of Fluid SQ\n",
      "--------------------\n",
      "270 Wasn't flying.. Eyes / Ears / Mouth / Nares: Eyes bright . No stain uptake OU.  Center of throat, just above thoracic inlet - pinpoint puncture with small amount of greyish green tissue immediately around puncture.  Crop appears to be intact.  More cranial and just to the left of midline is a 4mm puncture with 10mm skin wound with associated purple bruising.  (Covered with advanced healing.) Musculoskeletal: multiple punctures - see below Feathers / Fur / Skin: Missing almost all dorsal contour feathers, all tail feathers and all R wing secondaries. Body: Shallow divit mid keel with superficial skin bruising. Stripe of purple bruising mid L pectoral.  Bruise cranial L pectoral towards thoracic inlet. L side: 12x14mm laceration near axillary with skin flap and a small foxtail (~5mm) in wound.  Laceration L tail base.  R rump:  12 x 5mm laceration with muscle exposure (applied silvadene and covered with tegaderm).  R flank: Series of shallow partial skin abrasions.   Wings / Arms: R shoulder: Abrasion on leading edge with bruising.  L wing: bruise ventral patagium and distal wingtip.  Trailing edge proximal L ulna-Flap laceration. Dorsal L humerus at junction of caudal skin and puncture -shallow puncture. Trailing edge of L humerus- ~ 5mm long strip of skin loss.   R wing:  Bruising and abrasions on R proximal humerus. Missing all secondaries. 1 mite or louse seen on advanced healing on back.  Not sure if came from bird or opened box of advanced healing. Did not treat with Sevin-5 due to large number of open wounds or iver due to hunting season starting Sep 1 - 15 & Nov 12 - Dec 26, 2016\n",
      "--------------------\n",
      "223 injured wing. compound, oblique, distal-diaphyseal fracture of the right humerus; suspected avian pox; wounds due to unknown trauma (KW). Eyes / Ears / Mouth / Nares: Yellow plaques on ventral plane of mouth under tongue. Biggest plaque is 1 cm at base of tongue, other plaques are 1-2 mm rostrally. Petechiae at base of tongue. Crust on left maxillary edge. Possible pox lesions Musculoskeletal: Open oblique proximal medial ventral fracture of left distal humerus. Inside of bone visualized. Open wound with minimal hemorrhage on proximal fragment. Right wing droop Feathers / Fur / Skin: See M/S section Body: emaciated Wings / Arms: See M/S section Legs / Feet / Hocks: Sores on bottom of R digit 3. L left foot- digit 3 lax, digit 4 distal phalanx is held inward, with sore where talon meets epidermis. S/O: Intake exam \n",
      "See above exam for details\n",
      "A: Recent transverse fracture of distal humerus good prognosis. Patient has probable pox virus (see mouth lesions), which can have fair prognosis. Foot lesions r/o pododermatitis, self trauma vs other trauma\n",
      "P: Initial dose of fluids 5% BW, Pin humerus, Gabapentin 11 mg/kg PO BID, Meloxicam 0.5 mg/kg PO BID, PEMF SID, Ca slurry, clavamox 125 mg/kg PO BID wing wrap\n",
      "-Recheck 1 day after surgery to evaluate pain, erythema, swelling, wing wrap positioning.\n",
      "-PT after 3 days  \n",
      "(DC)\n",
      "--------------------\n",
      "246 Undetermined-Inability to Fly (Levi saw the bird in his yard before work and it was still there when he got home so he gave us a call.  Jessie went and retrieved the bird the night of 8.27 and brought the bird to her volunteer rehab shift the morning of 8.28 because it was active and did not seem to be in too much distress.  Upon exam we found that the top of the left humerus was broken in many pieces and that the shoulder appeared subluxated.  All other signs were ok.  Keel thin (1.5).). Fx - Humerus (L); Luxation - Shoulder Joint (L). Wings / Arms: Right wing okay upon palpation and on x-ray.  Left shoulder green and very swollen with small open wound where part of humerus was fractured. Upon exam we found that the top of the left humerus was broken in many pieces and that the shoulder appeared subluxated. Ears, eyes, nares and mouth were clear and free of debris or blood.  Legs seemed okay.  Right wing okay upon palpation and on x-ray.  Left shoulder green and very swollen with small open wound where part of humerus was fractured. Gave the bird 0.01cc Torb diluted to 0.04cc with LRS, 0.01cc Metacam diulted to 0.03 with LRS, and 0.2cc Amp to get it stable while awaiting confirmation from the vet and/or Meghan about whether or not to euthanize.  Did a wing/body wrap to help it hold the wing in place / keep it comfortable\n",
      "--------------------\n",
      "270 mange. mange, large skin tear near L pelvis. Eyes / Ears / Mouth / Nares: Eyes looks pretty good, R eye has maybe a little crust in it, MM pink and moist, teeth intact and aligned Neurologic: BAR, feisty, painful Musculoskeletal: reasonable Feathers / Fur / Skin: mange crusts all along neck, belly, arms and legs Wings / Arms: moving well Legs / Feet / Hocks: moving well, a significant skin tear in L pelvic area (pics attached). Patient has large mange crusts along belly, neck, arms and legs. Face seems not badly affected. Patient has a significant skin tear in the L pelvic area from the mange crusts cracking - unsure if this happened when patient was picked up on intake or if it was already cracked open when he arrived. Due to all the surrounding skin being heavily crusted with mange, suturing the tear is not an option. Packed it heavily with Intrasite in hopes that this will be enough to keep he wound moist and protected for a few days so patient will not need t o be picked up again. Each instance of handling will risk further tearing. Will have to be very hands-off with this patient as it heals and will monitor the wound, cleaning and applying more gel as needed. His attitude and hydration are good, so hoping a hands-off approach will allow him to heal and recover. Will still give all his meds orally but just by inserting syringe into mouth while he's in his unit, not picking him up. And will avoid moving him to a new unit for a few days\n",
      "--------------------\n",
      "267 Emaciated, lethargic. Malnutrition, leptospirosis. Eyes / Ears / Mouth / Nares: Markedly dehydrated. Tacky, yellow ocular discharge OU. MM injected and tacky. Neurologic: Depressed mentation, minimally responsive to tactile stimulation, normal motor function in all four flippers. Heart / Lungs: Normal rate and rhythm, normal BV sounds OU. GI / Vent: Soft abdominal palpation. S: Male weaned elephant seal pup was rescued from Long Beach in Pacific county the evening of 2 June. Pup was assessed by PSU, SR3 rescued and transported patient to rehab. Upon arrival, pup was depressed and markedly dehydrated. \n",
      "O: See above \n",
      "A: DIAGNOSTICS \n",
      "Blood glucose (1929): 65 mg/dL \n",
      "Blood glucose (2138): 72 mg/dL \n",
      "iStat: Marked azotemia (BUN >140, Cr 4.0), hypernatremia (157).\n",
      "CBC: Mild leukopenia (9.7k), characterized by a neutropenia (1.6k/17%), relative lymphocytosis (6.3k/65%) and mild basophilia (388/4%).\n",
      "Chemistry: Marked azotemia (BUN 310, Cr 5.7), markedly elevated GGT (706), mild hyperbilirubinemia (2.6), marked hyperphosphatemia (13.9), moderate hypernatremia (164), moderate hyperchloremia (118). \n",
      "ASSESSMENT \n",
      "1. Marked azotemia with electrolyte derangements: Degree of azotemia is suggestive of primary renal disease (r/o leptospiral glomerulonephritis vs. other); however pre-renal and post-renal etiologies should be considered.\n",
      "2. Malnutrition, dehydration: secondary to 1 vs. primary nutritional vs. other systemic disease process.\n",
      "3. Elevated GGT: r/o primary renal disease vs. biliary (less likely as other hepatic enzymes were WNL). \n",
      "P: Treatments: Administered 30mLs 25% dextrose IV, followed by 1.5L 0.9% NaCl IV and 1.5L of Norm-R SQ. An additional bolus of dextrose was administered IV at 2138. Electrolyte tubing was attempted, patient regurgitated blood-tinged gastric fluid with possible blood clots. Elected to provide heat support and reassess in the AM\n",
      "--------------------\n"
     ]
    }
   ],
   "source": [
    "for row in ds[\"train\"][\"text\"]:\n",
    "    if len(row.split()) > 200:\n",
    "        print(len(row.split()), row)\n",
    "        print(\"-\" * 20)"
   ]
  },
  {
   "cell_type": "code",
   "execution_count": 27,
   "id": "bd57258d-4575-4c35-b526-85bbf4c81337",
   "metadata": {},
   "outputs": [
    {
     "data": {
      "text/plain": [
       "BertTokenizerFast(name_or_path='bert-base-uncased', vocab_size=30522, model_max_length=512, is_fast=True, padding_side='right', truncation_side='right', special_tokens={'unk_token': '[UNK]', 'sep_token': '[SEP]', 'pad_token': '[PAD]', 'cls_token': '[CLS]', 'mask_token': '[MASK]'}, clean_up_tokenization_spaces=True)"
      ]
     },
     "execution_count": 27,
     "metadata": {},
     "output_type": "execute_result"
    }
   ],
   "source": [
    "tokenizer"
   ]
  },
  {
   "cell_type": "code",
   "execution_count": 37,
   "id": "e6b5603a-d8b8-4caa-a5df-feb31d535f9f",
   "metadata": {},
   "outputs": [],
   "source": [
    "#tok_ds = ds.map(tokenizer, batched=True, num_proc=16, remove_columns=labels + [\"text\"])"
   ]
  },
  {
   "cell_type": "code",
   "execution_count": 28,
   "id": "5af71b09-44f9-4889-9e96-c087f354b44e",
   "metadata": {},
   "outputs": [
    {
     "data": {
      "application/vnd.jupyter.widget-view+json": {
       "model_id": "ccf512ab6c5c4a24beb7c06fea7f0915",
       "version_major": 2,
       "version_minor": 0
      },
      "text/plain": [
       "VBox(children=(HTML(value='<center> <img\\nsrc=https://huggingface.co/front/assets/huggingface_logo-noborder.sv…"
      ]
     },
     "metadata": {},
     "output_type": "display_data"
    }
   ],
   "source": [
    "from huggingface_hub import login\n",
    "login(token=None)\n"
   ]
  },
  {
   "cell_type": "code",
   "execution_count": 32,
   "id": "7c92e00e-34aa-4426-9b6a-b3a0733780ec",
   "metadata": {},
   "outputs": [
    {
     "data": {
      "application/vnd.jupyter.widget-view+json": {
       "model_id": "",
       "version_major": 2,
       "version_minor": 0
      },
      "text/plain": [
       "Map (num_proc=16):   0%|          | 0/9547 [00:00<?, ? examples/s]"
      ]
     },
     "metadata": {},
     "output_type": "display_data"
    },
    {
     "data": {
      "application/vnd.jupyter.widget-view+json": {
       "model_id": "",
       "version_major": 2,
       "version_minor": 0
      },
      "text/plain": [
       "Map (num_proc=16):   0%|          | 0/2387 [00:00<?, ? examples/s]"
      ]
     },
     "metadata": {},
     "output_type": "display_data"
    },
    {
     "data": {
      "application/vnd.jupyter.widget-view+json": {
       "model_id": "",
       "version_major": 2,
       "version_minor": 0
      },
      "text/plain": [
       "Map (num_proc=16):   0%|          | 0/2106 [00:00<?, ? examples/s]"
      ]
     },
     "metadata": {},
     "output_type": "display_data"
    },
    {
     "name": "stdout",
     "output_type": "stream",
     "text": [
      "CPU times: total: 2.41 s\n",
      "Wall time: 1min 13s\n"
     ]
    }
   ],
   "source": [
    "%%time\n",
    "def tok_fn(row):\n",
    "  from transformers import AutoTokenizer\n",
    "  ckpt = \"bert-base-uncased\"  \n",
    "  tokenizer = AutoTokenizer.from_pretrained(ckpt)\n",
    "  return tokenizer(row[\"text\"], \n",
    "                  truncation=True, \n",
    "                    padding=\"max_length\", \n",
    "                    max_length=128)\n",
    "\n",
    "\n",
    "#def tok_fn(row):\n",
    "#    return tokenizer(row[\"text\"], \n",
    "#                     truncation=True, \n",
    "#                     padding=\"max_length\", \n",
    "#                     max_length=128)\n",
    "\n",
    "tok_ds = ds.map(tok_fn, batched=True, num_proc=16, remove_columns=labels + [\"text\"])"
   ]
  },
  {
   "cell_type": "code",
   "execution_count": 33,
   "id": "087ed4ea-0ca5-465b-830c-c5ef06ede0cb",
   "metadata": {},
   "outputs": [
    {
     "data": {
      "text/plain": [
       "DatasetDict({\n",
       "    train: Dataset({\n",
       "        features: ['labels', 'input_ids', 'token_type_ids', 'attention_mask'],\n",
       "        num_rows: 9547\n",
       "    })\n",
       "    val: Dataset({\n",
       "        features: ['labels', 'input_ids', 'token_type_ids', 'attention_mask'],\n",
       "        num_rows: 2387\n",
       "    })\n",
       "    test: Dataset({\n",
       "        features: ['labels', 'input_ids', 'token_type_ids', 'attention_mask'],\n",
       "        num_rows: 2106\n",
       "    })\n",
       "})"
      ]
     },
     "execution_count": 33,
     "metadata": {},
     "output_type": "execute_result"
    }
   ],
   "source": [
    "tok_ds"
   ]
  },
  {
   "cell_type": "code",
   "execution_count": 34,
   "id": "8caf963c-e288-434b-9b88-62455fb832c3",
   "metadata": {},
   "outputs": [
    {
     "data": {
      "text/plain": [
       "{'labels': [0.0, 0.0, 0.0, 0.0, 1.0, 0.0, 0.0, 1.0, 1.0, 0.0, 0.0],\n",
       " 'input_ids': [101,\n",
       "  12365,\n",
       "  1011,\n",
       "  2482,\n",
       "  1006,\n",
       "  1016,\n",
       "  3584,\n",
       "  4455,\n",
       "  1999,\n",
       "  1996,\n",
       "  5027,\n",
       "  2055,\n",
       "  2019,\n",
       "  13547,\n",
       "  2006,\n",
       "  1996,\n",
       "  2217,\n",
       "  1997,\n",
       "  1996,\n",
       "  2346,\n",
       "  2074,\n",
       "  2077,\n",
       "  1996,\n",
       "  17042,\n",
       "  2276,\n",
       "  2006,\n",
       "  1996,\n",
       "  8909,\n",
       "  2217,\n",
       "  1997,\n",
       "  1996,\n",
       "  3413,\n",
       "  1006,\n",
       "  2295,\n",
       "  2145,\n",
       "  1999,\n",
       "  1059,\n",
       "  2100,\n",
       "  1007,\n",
       "  1012,\n",
       "  4647,\n",
       "  1998,\n",
       "  6187,\n",
       "  2253,\n",
       "  1998,\n",
       "  3856,\n",
       "  2039,\n",
       "  1996,\n",
       "  4743,\n",
       "  2012,\n",
       "  2055,\n",
       "  1017,\n",
       "  1024,\n",
       "  2321,\n",
       "  2361,\n",
       "  1012,\n",
       "  2179,\n",
       "  12192,\n",
       "  1012,\n",
       "  1007,\n",
       "  1012,\n",
       "  12603,\n",
       "  1011,\n",
       "  2132,\n",
       "  1025,\n",
       "  3239,\n",
       "  12603,\n",
       "  1011,\n",
       "  23068,\n",
       "  20175,\n",
       "  2483,\n",
       "  1006,\n",
       "  1048,\n",
       "  1007,\n",
       "  1012,\n",
       "  2159,\n",
       "  1013,\n",
       "  5551,\n",
       "  1013,\n",
       "  2677,\n",
       "  1013,\n",
       "  6583,\n",
       "  6072,\n",
       "  1024,\n",
       "  2187,\n",
       "  11136,\n",
       "  2003,\n",
       "  11792,\n",
       "  1998,\n",
       "  2187,\n",
       "  4540,\n",
       "  2038,\n",
       "  4840,\n",
       "  2668,\n",
       "  2746,\n",
       "  2041,\n",
       "  1997,\n",
       "  2009,\n",
       "  1012,\n",
       "  2668,\n",
       "  1999,\n",
       "  1996,\n",
       "  2677,\n",
       "  2008,\n",
       "  3544,\n",
       "  2000,\n",
       "  2022,\n",
       "  2746,\n",
       "  2013,\n",
       "  1996,\n",
       "  8254,\n",
       "  2271,\n",
       "  2181,\n",
       "  1012,\n",
       "  11265,\n",
       "  10976,\n",
       "  27179,\n",
       "  1024,\n",
       "  2132,\n",
       "  12603,\n",
       "  1012,\n",
       "  2187,\n",
       "  11136,\n",
       "  2003,\n",
       "  11792,\n",
       "  1998,\n",
       "  2187,\n",
       "  102],\n",
       " 'token_type_ids': [0,\n",
       "  0,\n",
       "  0,\n",
       "  0,\n",
       "  0,\n",
       "  0,\n",
       "  0,\n",
       "  0,\n",
       "  0,\n",
       "  0,\n",
       "  0,\n",
       "  0,\n",
       "  0,\n",
       "  0,\n",
       "  0,\n",
       "  0,\n",
       "  0,\n",
       "  0,\n",
       "  0,\n",
       "  0,\n",
       "  0,\n",
       "  0,\n",
       "  0,\n",
       "  0,\n",
       "  0,\n",
       "  0,\n",
       "  0,\n",
       "  0,\n",
       "  0,\n",
       "  0,\n",
       "  0,\n",
       "  0,\n",
       "  0,\n",
       "  0,\n",
       "  0,\n",
       "  0,\n",
       "  0,\n",
       "  0,\n",
       "  0,\n",
       "  0,\n",
       "  0,\n",
       "  0,\n",
       "  0,\n",
       "  0,\n",
       "  0,\n",
       "  0,\n",
       "  0,\n",
       "  0,\n",
       "  0,\n",
       "  0,\n",
       "  0,\n",
       "  0,\n",
       "  0,\n",
       "  0,\n",
       "  0,\n",
       "  0,\n",
       "  0,\n",
       "  0,\n",
       "  0,\n",
       "  0,\n",
       "  0,\n",
       "  0,\n",
       "  0,\n",
       "  0,\n",
       "  0,\n",
       "  0,\n",
       "  0,\n",
       "  0,\n",
       "  0,\n",
       "  0,\n",
       "  0,\n",
       "  0,\n",
       "  0,\n",
       "  0,\n",
       "  0,\n",
       "  0,\n",
       "  0,\n",
       "  0,\n",
       "  0,\n",
       "  0,\n",
       "  0,\n",
       "  0,\n",
       "  0,\n",
       "  0,\n",
       "  0,\n",
       "  0,\n",
       "  0,\n",
       "  0,\n",
       "  0,\n",
       "  0,\n",
       "  0,\n",
       "  0,\n",
       "  0,\n",
       "  0,\n",
       "  0,\n",
       "  0,\n",
       "  0,\n",
       "  0,\n",
       "  0,\n",
       "  0,\n",
       "  0,\n",
       "  0,\n",
       "  0,\n",
       "  0,\n",
       "  0,\n",
       "  0,\n",
       "  0,\n",
       "  0,\n",
       "  0,\n",
       "  0,\n",
       "  0,\n",
       "  0,\n",
       "  0,\n",
       "  0,\n",
       "  0,\n",
       "  0,\n",
       "  0,\n",
       "  0,\n",
       "  0,\n",
       "  0,\n",
       "  0,\n",
       "  0,\n",
       "  0,\n",
       "  0,\n",
       "  0,\n",
       "  0,\n",
       "  0,\n",
       "  0],\n",
       " 'attention_mask': [1,\n",
       "  1,\n",
       "  1,\n",
       "  1,\n",
       "  1,\n",
       "  1,\n",
       "  1,\n",
       "  1,\n",
       "  1,\n",
       "  1,\n",
       "  1,\n",
       "  1,\n",
       "  1,\n",
       "  1,\n",
       "  1,\n",
       "  1,\n",
       "  1,\n",
       "  1,\n",
       "  1,\n",
       "  1,\n",
       "  1,\n",
       "  1,\n",
       "  1,\n",
       "  1,\n",
       "  1,\n",
       "  1,\n",
       "  1,\n",
       "  1,\n",
       "  1,\n",
       "  1,\n",
       "  1,\n",
       "  1,\n",
       "  1,\n",
       "  1,\n",
       "  1,\n",
       "  1,\n",
       "  1,\n",
       "  1,\n",
       "  1,\n",
       "  1,\n",
       "  1,\n",
       "  1,\n",
       "  1,\n",
       "  1,\n",
       "  1,\n",
       "  1,\n",
       "  1,\n",
       "  1,\n",
       "  1,\n",
       "  1,\n",
       "  1,\n",
       "  1,\n",
       "  1,\n",
       "  1,\n",
       "  1,\n",
       "  1,\n",
       "  1,\n",
       "  1,\n",
       "  1,\n",
       "  1,\n",
       "  1,\n",
       "  1,\n",
       "  1,\n",
       "  1,\n",
       "  1,\n",
       "  1,\n",
       "  1,\n",
       "  1,\n",
       "  1,\n",
       "  1,\n",
       "  1,\n",
       "  1,\n",
       "  1,\n",
       "  1,\n",
       "  1,\n",
       "  1,\n",
       "  1,\n",
       "  1,\n",
       "  1,\n",
       "  1,\n",
       "  1,\n",
       "  1,\n",
       "  1,\n",
       "  1,\n",
       "  1,\n",
       "  1,\n",
       "  1,\n",
       "  1,\n",
       "  1,\n",
       "  1,\n",
       "  1,\n",
       "  1,\n",
       "  1,\n",
       "  1,\n",
       "  1,\n",
       "  1,\n",
       "  1,\n",
       "  1,\n",
       "  1,\n",
       "  1,\n",
       "  1,\n",
       "  1,\n",
       "  1,\n",
       "  1,\n",
       "  1,\n",
       "  1,\n",
       "  1,\n",
       "  1,\n",
       "  1,\n",
       "  1,\n",
       "  1,\n",
       "  1,\n",
       "  1,\n",
       "  1,\n",
       "  1,\n",
       "  1,\n",
       "  1,\n",
       "  1,\n",
       "  1,\n",
       "  1,\n",
       "  1,\n",
       "  1,\n",
       "  1,\n",
       "  1,\n",
       "  1,\n",
       "  1,\n",
       "  1,\n",
       "  1]}"
      ]
     },
     "execution_count": 34,
     "metadata": {},
     "output_type": "execute_result"
    }
   ],
   "source": [
    "tok_ds[\"train\"][0]"
   ]
  },
  {
   "cell_type": "code",
   "execution_count": 35,
   "id": "48bf8930-15b6-45e2-9c4e-bb90ff5ab77c",
   "metadata": {},
   "outputs": [
    {
     "data": {
      "application/vnd.jupyter.widget-view+json": {
       "model_id": "51959cbdf24b4b7ca2cf3581aeadf4ac",
       "version_major": 2,
       "version_minor": 0
      },
      "text/plain": [
       "Creating parquet from Arrow format:   0%|          | 0/10 [00:00<?, ?ba/s]"
      ]
     },
     "metadata": {},
     "output_type": "display_data"
    },
    {
     "data": {
      "application/vnd.jupyter.widget-view+json": {
       "model_id": "3c4676f5cafc4ecaa7c5d8b3df4f5f4a",
       "version_major": 2,
       "version_minor": 0
      },
      "text/plain": [
       "Creating parquet from Arrow format:   0%|          | 0/3 [00:00<?, ?ba/s]"
      ]
     },
     "metadata": {},
     "output_type": "display_data"
    },
    {
     "data": {
      "application/vnd.jupyter.widget-view+json": {
       "model_id": "99b273d2fe614f0a89608c2650be68ae",
       "version_major": 2,
       "version_minor": 0
      },
      "text/plain": [
       "Creating parquet from Arrow format:   0%|          | 0/3 [00:00<?, ?ba/s]"
      ]
     },
     "metadata": {},
     "output_type": "display_data"
    }
   ],
   "source": [
    "# Save the processed data in a parquet file\n",
    "for split,split_ds in tok_ds.items():\n",
    "    split_ds.to_parquet(f\"../data/processed/wndp-api-data-{split}.parquet\")"
   ]
  },
  {
   "cell_type": "code",
   "execution_count": 36,
   "id": "2ba1da8c-d0a8-4877-aa04-fa34fe5893f6",
   "metadata": {},
   "outputs": [],
   "source": [
    "!ls ../data/processed/"
   ]
  },
  {
   "cell_type": "code",
   "execution_count": 37,
   "id": "6d2e83d7-0a94-4a50-b082-1b39a2b58742",
   "metadata": {},
   "outputs": [
    {
     "name": "stdout",
     "output_type": "stream",
     "text": [
      "Downloading and preparing dataset parquet/default to C:/Users/prana/.cache/huggingface/datasets/parquet/default-ec73b0cbff6b8dee/0.0.0/2a3b91fbd88a2c90d1dbbb32b460cf621d31bd5b05b934492fdef7d8d6f236ec...\n"
     ]
    },
    {
     "data": {
      "application/vnd.jupyter.widget-view+json": {
       "model_id": "50492eca9b994ca5ae3ac7a7a19f662f",
       "version_major": 2,
       "version_minor": 0
      },
      "text/plain": [
       "Downloading data files:   0%|          | 0/3 [00:00<?, ?it/s]"
      ]
     },
     "metadata": {},
     "output_type": "display_data"
    },
    {
     "data": {
      "application/vnd.jupyter.widget-view+json": {
       "model_id": "bb643c83d71345a9a7f086401b131f82",
       "version_major": 2,
       "version_minor": 0
      },
      "text/plain": [
       "Extracting data files:   0%|          | 0/3 [00:00<?, ?it/s]"
      ]
     },
     "metadata": {},
     "output_type": "display_data"
    },
    {
     "data": {
      "application/vnd.jupyter.widget-view+json": {
       "model_id": "",
       "version_major": 2,
       "version_minor": 0
      },
      "text/plain": [
       "Generating train split: 0 examples [00:00, ? examples/s]"
      ]
     },
     "metadata": {},
     "output_type": "display_data"
    },
    {
     "data": {
      "application/vnd.jupyter.widget-view+json": {
       "model_id": "",
       "version_major": 2,
       "version_minor": 0
      },
      "text/plain": [
       "Generating val split: 0 examples [00:00, ? examples/s]"
      ]
     },
     "metadata": {},
     "output_type": "display_data"
    },
    {
     "data": {
      "application/vnd.jupyter.widget-view+json": {
       "model_id": "",
       "version_major": 2,
       "version_minor": 0
      },
      "text/plain": [
       "Generating test split: 0 examples [00:00, ? examples/s]"
      ]
     },
     "metadata": {},
     "output_type": "display_data"
    },
    {
     "name": "stdout",
     "output_type": "stream",
     "text": [
      "Dataset parquet downloaded and prepared to C:/Users/prana/.cache/huggingface/datasets/parquet/default-ec73b0cbff6b8dee/0.0.0/2a3b91fbd88a2c90d1dbbb32b460cf621d31bd5b05b934492fdef7d8d6f236ec. Subsequent calls will reuse this data.\n"
     ]
    },
    {
     "data": {
      "application/vnd.jupyter.widget-view+json": {
       "model_id": "c3f7eb2e416d4b4c927fcb922ce29770",
       "version_major": 2,
       "version_minor": 0
      },
      "text/plain": [
       "  0%|          | 0/3 [00:00<?, ?it/s]"
      ]
     },
     "metadata": {},
     "output_type": "display_data"
    },
    {
     "name": "stdout",
     "output_type": "stream",
     "text": [
      "CPU times: total: 797 ms\n",
      "Wall time: 2.49 s\n"
     ]
    }
   ],
   "source": [
    "%%time\n",
    "data_files = {\n",
    "    \"train\": \"../data/processed/wndp-api-data-train.parquet\",\n",
    "    \"val\": \"../data/processed/wndp-api-data-val.parquet\",\n",
    "    \"test\": \"../data/processed/wndp-api-data-test.parquet\",\n",
    "}\n",
    "\n",
    "ds = load_dataset(\"parquet\", data_files=data_files)"
   ]
  }
 ],
 "metadata": {
  "kernelspec": {
   "display_name": "Python 3 (ipykernel)",
   "language": "python",
   "name": "python3"
  },
  "language_info": {
   "codemirror_mode": {
    "name": "ipython",
    "version": 3
   },
   "file_extension": ".py",
   "mimetype": "text/x-python",
   "name": "python",
   "nbconvert_exporter": "python",
   "pygments_lexer": "ipython3",
   "version": "3.11.6"
  }
 },
 "nbformat": 4,
 "nbformat_minor": 5
}
